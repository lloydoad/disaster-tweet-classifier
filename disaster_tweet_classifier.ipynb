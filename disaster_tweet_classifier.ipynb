{
  "nbformat": 4,
  "nbformat_minor": 0,
  "metadata": {
    "colab": {
      "name": "disaster-tweet-classifier.ipynb",
      "provenance": [],
      "collapsed_sections": [],
      "toc_visible": true,
      "mount_file_id": "1_ffYXil63R-Aa7ldt60coHkJxeHHczuP",
      "authorship_tag": "ABX9TyMlBEX/mfT9Aw6CdLngiGmh",
      "include_colab_link": true
    },
    "kernelspec": {
      "name": "python3",
      "display_name": "Python 3"
    },
    "accelerator": "GPU"
  },
  "cells": [
    {
      "cell_type": "markdown",
      "metadata": {
        "id": "view-in-github",
        "colab_type": "text"
      },
      "source": [
        "<a href=\"https://colab.research.google.com/github/lloydoad/disaster-tweet-classifier/blob/master/disaster_tweet_classifier.ipynb\" target=\"_parent\"><img src=\"https://colab.research.google.com/assets/colab-badge.svg\" alt=\"Open In Colab\"/></a>"
      ]
    },
    {
      "cell_type": "code",
      "metadata": {
        "id": "y08Kj2VmCpGa"
      },
      "source": [
        "!wget --quiet https://raw.githubusercontent.com/tensorflow/models/master/official/nlp/bert/tokenization.py"
      ],
      "execution_count": 1,
      "outputs": []
    },
    {
      "cell_type": "code",
      "metadata": {
        "colab": {
          "base_uri": "https://localhost:8080/"
        },
        "id": "kZWZEl5xEfNu",
        "outputId": "7a9205c0-6c06-43b7-bdfd-5634254663f1"
      },
      "source": [
        "!pip install sentencepiece"
      ],
      "execution_count": 2,
      "outputs": [
        {
          "output_type": "stream",
          "text": [
            "Collecting sentencepiece\n",
            "\u001b[?25l  Downloading https://files.pythonhosted.org/packages/e5/2d/6d4ca4bef9a67070fa1cac508606328329152b1df10bdf31fb6e4e727894/sentencepiece-0.1.94-cp36-cp36m-manylinux2014_x86_64.whl (1.1MB)\n",
            "\r\u001b[K     |▎                               | 10kB 21.6MB/s eta 0:00:01\r\u001b[K     |▋                               | 20kB 16.3MB/s eta 0:00:01\r\u001b[K     |▉                               | 30kB 13.4MB/s eta 0:00:01\r\u001b[K     |█▏                              | 40kB 12.6MB/s eta 0:00:01\r\u001b[K     |█▌                              | 51kB 9.1MB/s eta 0:00:01\r\u001b[K     |█▊                              | 61kB 8.4MB/s eta 0:00:01\r\u001b[K     |██                              | 71kB 9.4MB/s eta 0:00:01\r\u001b[K     |██▍                             | 81kB 10.4MB/s eta 0:00:01\r\u001b[K     |██▋                             | 92kB 9.4MB/s eta 0:00:01\r\u001b[K     |███                             | 102kB 8.7MB/s eta 0:00:01\r\u001b[K     |███▎                            | 112kB 8.7MB/s eta 0:00:01\r\u001b[K     |███▌                            | 122kB 8.7MB/s eta 0:00:01\r\u001b[K     |███▉                            | 133kB 8.7MB/s eta 0:00:01\r\u001b[K     |████▏                           | 143kB 8.7MB/s eta 0:00:01\r\u001b[K     |████▍                           | 153kB 8.7MB/s eta 0:00:01\r\u001b[K     |████▊                           | 163kB 8.7MB/s eta 0:00:01\r\u001b[K     |█████                           | 174kB 8.7MB/s eta 0:00:01\r\u001b[K     |█████▎                          | 184kB 8.7MB/s eta 0:00:01\r\u001b[K     |█████▋                          | 194kB 8.7MB/s eta 0:00:01\r\u001b[K     |█████▉                          | 204kB 8.7MB/s eta 0:00:01\r\u001b[K     |██████▏                         | 215kB 8.7MB/s eta 0:00:01\r\u001b[K     |██████▌                         | 225kB 8.7MB/s eta 0:00:01\r\u001b[K     |██████▊                         | 235kB 8.7MB/s eta 0:00:01\r\u001b[K     |███████                         | 245kB 8.7MB/s eta 0:00:01\r\u001b[K     |███████▍                        | 256kB 8.7MB/s eta 0:00:01\r\u001b[K     |███████▋                        | 266kB 8.7MB/s eta 0:00:01\r\u001b[K     |████████                        | 276kB 8.7MB/s eta 0:00:01\r\u001b[K     |████████▎                       | 286kB 8.7MB/s eta 0:00:01\r\u001b[K     |████████▌                       | 296kB 8.7MB/s eta 0:00:01\r\u001b[K     |████████▉                       | 307kB 8.7MB/s eta 0:00:01\r\u001b[K     |█████████                       | 317kB 8.7MB/s eta 0:00:01\r\u001b[K     |█████████▍                      | 327kB 8.7MB/s eta 0:00:01\r\u001b[K     |█████████▊                      | 337kB 8.7MB/s eta 0:00:01\r\u001b[K     |██████████                      | 348kB 8.7MB/s eta 0:00:01\r\u001b[K     |██████████▎                     | 358kB 8.7MB/s eta 0:00:01\r\u001b[K     |██████████▋                     | 368kB 8.7MB/s eta 0:00:01\r\u001b[K     |██████████▉                     | 378kB 8.7MB/s eta 0:00:01\r\u001b[K     |███████████▏                    | 389kB 8.7MB/s eta 0:00:01\r\u001b[K     |███████████▌                    | 399kB 8.7MB/s eta 0:00:01\r\u001b[K     |███████████▊                    | 409kB 8.7MB/s eta 0:00:01\r\u001b[K     |████████████                    | 419kB 8.7MB/s eta 0:00:01\r\u001b[K     |████████████▍                   | 430kB 8.7MB/s eta 0:00:01\r\u001b[K     |████████████▋                   | 440kB 8.7MB/s eta 0:00:01\r\u001b[K     |█████████████                   | 450kB 8.7MB/s eta 0:00:01\r\u001b[K     |█████████████▎                  | 460kB 8.7MB/s eta 0:00:01\r\u001b[K     |█████████████▌                  | 471kB 8.7MB/s eta 0:00:01\r\u001b[K     |█████████████▉                  | 481kB 8.7MB/s eta 0:00:01\r\u001b[K     |██████████████                  | 491kB 8.7MB/s eta 0:00:01\r\u001b[K     |██████████████▍                 | 501kB 8.7MB/s eta 0:00:01\r\u001b[K     |██████████████▊                 | 512kB 8.7MB/s eta 0:00:01\r\u001b[K     |███████████████                 | 522kB 8.7MB/s eta 0:00:01\r\u001b[K     |███████████████▎                | 532kB 8.7MB/s eta 0:00:01\r\u001b[K     |███████████████▋                | 542kB 8.7MB/s eta 0:00:01\r\u001b[K     |███████████████▉                | 552kB 8.7MB/s eta 0:00:01\r\u001b[K     |████████████████▏               | 563kB 8.7MB/s eta 0:00:01\r\u001b[K     |████████████████▌               | 573kB 8.7MB/s eta 0:00:01\r\u001b[K     |████████████████▊               | 583kB 8.7MB/s eta 0:00:01\r\u001b[K     |█████████████████               | 593kB 8.7MB/s eta 0:00:01\r\u001b[K     |█████████████████▍              | 604kB 8.7MB/s eta 0:00:01\r\u001b[K     |█████████████████▋              | 614kB 8.7MB/s eta 0:00:01\r\u001b[K     |██████████████████              | 624kB 8.7MB/s eta 0:00:01\r\u001b[K     |██████████████████▏             | 634kB 8.7MB/s eta 0:00:01\r\u001b[K     |██████████████████▌             | 645kB 8.7MB/s eta 0:00:01\r\u001b[K     |██████████████████▉             | 655kB 8.7MB/s eta 0:00:01\r\u001b[K     |███████████████████             | 665kB 8.7MB/s eta 0:00:01\r\u001b[K     |███████████████████▍            | 675kB 8.7MB/s eta 0:00:01\r\u001b[K     |███████████████████▊            | 686kB 8.7MB/s eta 0:00:01\r\u001b[K     |████████████████████            | 696kB 8.7MB/s eta 0:00:01\r\u001b[K     |████████████████████▎           | 706kB 8.7MB/s eta 0:00:01\r\u001b[K     |████████████████████▋           | 716kB 8.7MB/s eta 0:00:01\r\u001b[K     |████████████████████▉           | 727kB 8.7MB/s eta 0:00:01\r\u001b[K     |█████████████████████▏          | 737kB 8.7MB/s eta 0:00:01\r\u001b[K     |█████████████████████▌          | 747kB 8.7MB/s eta 0:00:01\r\u001b[K     |█████████████████████▊          | 757kB 8.7MB/s eta 0:00:01\r\u001b[K     |██████████████████████          | 768kB 8.7MB/s eta 0:00:01\r\u001b[K     |██████████████████████▎         | 778kB 8.7MB/s eta 0:00:01\r\u001b[K     |██████████████████████▋         | 788kB 8.7MB/s eta 0:00:01\r\u001b[K     |███████████████████████         | 798kB 8.7MB/s eta 0:00:01\r\u001b[K     |███████████████████████▏        | 808kB 8.7MB/s eta 0:00:01\r\u001b[K     |███████████████████████▌        | 819kB 8.7MB/s eta 0:00:01\r\u001b[K     |███████████████████████▉        | 829kB 8.7MB/s eta 0:00:01\r\u001b[K     |████████████████████████        | 839kB 8.7MB/s eta 0:00:01\r\u001b[K     |████████████████████████▍       | 849kB 8.7MB/s eta 0:00:01\r\u001b[K     |████████████████████████▊       | 860kB 8.7MB/s eta 0:00:01\r\u001b[K     |█████████████████████████       | 870kB 8.7MB/s eta 0:00:01\r\u001b[K     |█████████████████████████▎      | 880kB 8.7MB/s eta 0:00:01\r\u001b[K     |█████████████████████████▋      | 890kB 8.7MB/s eta 0:00:01\r\u001b[K     |█████████████████████████▉      | 901kB 8.7MB/s eta 0:00:01\r\u001b[K     |██████████████████████████▏     | 911kB 8.7MB/s eta 0:00:01\r\u001b[K     |██████████████████████████▌     | 921kB 8.7MB/s eta 0:00:01\r\u001b[K     |██████████████████████████▊     | 931kB 8.7MB/s eta 0:00:01\r\u001b[K     |███████████████████████████     | 942kB 8.7MB/s eta 0:00:01\r\u001b[K     |███████████████████████████▎    | 952kB 8.7MB/s eta 0:00:01\r\u001b[K     |███████████████████████████▋    | 962kB 8.7MB/s eta 0:00:01\r\u001b[K     |████████████████████████████    | 972kB 8.7MB/s eta 0:00:01\r\u001b[K     |████████████████████████████▏   | 983kB 8.7MB/s eta 0:00:01\r\u001b[K     |████████████████████████████▌   | 993kB 8.7MB/s eta 0:00:01\r\u001b[K     |████████████████████████████▉   | 1.0MB 8.7MB/s eta 0:00:01\r\u001b[K     |█████████████████████████████   | 1.0MB 8.7MB/s eta 0:00:01\r\u001b[K     |█████████████████████████████▍  | 1.0MB 8.7MB/s eta 0:00:01\r\u001b[K     |█████████████████████████████▊  | 1.0MB 8.7MB/s eta 0:00:01\r\u001b[K     |██████████████████████████████  | 1.0MB 8.7MB/s eta 0:00:01\r\u001b[K     |██████████████████████████████▎ | 1.1MB 8.7MB/s eta 0:00:01\r\u001b[K     |██████████████████████████████▋ | 1.1MB 8.7MB/s eta 0:00:01\r\u001b[K     |██████████████████████████████▉ | 1.1MB 8.7MB/s eta 0:00:01\r\u001b[K     |███████████████████████████████▏| 1.1MB 8.7MB/s eta 0:00:01\r\u001b[K     |███████████████████████████████▍| 1.1MB 8.7MB/s eta 0:00:01\r\u001b[K     |███████████████████████████████▊| 1.1MB 8.7MB/s eta 0:00:01\r\u001b[K     |████████████████████████████████| 1.1MB 8.7MB/s \n",
            "\u001b[?25hInstalling collected packages: sentencepiece\n",
            "Successfully installed sentencepiece-0.1.94\n"
          ],
          "name": "stdout"
        }
      ]
    },
    {
      "cell_type": "code",
      "metadata": {
        "id": "FGNnXylvMSTY"
      },
      "source": [
        "import string\n",
        "import spacy\n",
        "import nltk\n",
        "import pandas as pd\n",
        "import numpy as np\n",
        "import regex as re\n",
        "import matplotlib.pyplot as plt\n",
        "from matplotlib.pyplot import figure\n",
        "from nltk.tokenize import word_tokenize\n",
        "from nltk.corpus import stopwords"
      ],
      "execution_count": 3,
      "outputs": []
    },
    {
      "cell_type": "code",
      "metadata": {
        "id": "OVI5JV_JC8AS"
      },
      "source": [
        "import keras\n",
        "import sklearn\n",
        "import tokenization\n",
        "import tensorflow_hub as hub\n",
        "from keras import layers\n",
        "from keras import Model\n",
        "from keras.optimizers import Adam, RMSprop, SGD\n",
        "from keras.callbacks import ModelCheckpoint, Callback\n",
        "from keras.layers import Dense, Input, Dropout, GlobalAveragePooling1D\n",
        "from sklearn.model_selection import StratifiedKFold, StratifiedShuffleSplit\n",
        "from sklearn.metrics import precision_score, recall_score, f1_score "
      ],
      "execution_count": 4,
      "outputs": []
    },
    {
      "cell_type": "markdown",
      "metadata": {
        "id": "4nnZzOJTIopl"
      },
      "source": [
        "# Summary\n",
        "## Problem Statement\n",
        "My final project will be focused on completing the [Real or Not? NLP with Disaster Tweets](https://www.kaggle.com/c/nlp-getting-started/overview) kaggle competition challenge.\n",
        "\n",
        "In this competition, you’re challenged to build a machine learning model that predicts which Tweets are about real disasters and which one’s aren’t.\n",
        "\n",
        "## Dataset\n",
        "There are two files being provided. A training set for creating the classifier and a test set for evaluating the performance. \n",
        "\n",
        "Each of the datasets have the following columns:\n",
        "* `id` - an identifier per tweet (row)\n",
        "* `text` - the text of the tweet\n",
        "* `location` - the location the tweet was sent from (may be blank)\n",
        "* `keyword` - a particular keyword from the tweet (may be blank)\n",
        "* `target` - whether a tweet is about a disaster (`1`) or not (`0`)"
      ]
    },
    {
      "cell_type": "markdown",
      "metadata": {
        "id": "d6ZEWckrNOIW"
      },
      "source": [
        "# Data Preparation"
      ]
    },
    {
      "cell_type": "code",
      "metadata": {
        "id": "Yzy1Pa9uNRWi"
      },
      "source": [
        "train_url_path = 'https://raw.githubusercontent.com/lloydoad/disaster-tweet-classifier/master/datasets/train.csv'\n",
        "test_url_path = 'https://raw.githubusercontent.com/lloydoad/disaster-tweet-classifier/master/datasets/test.csv'\n",
        "train = pd.read_csv(train_url_path, error_bad_lines=False)\n",
        "test = pd.read_csv(test_url_path, error_bad_lines=False)\n",
        "train = train.drop('id', axis=1)\n",
        "test = test.drop('id', axis=1)"
      ],
      "execution_count": 5,
      "outputs": []
    },
    {
      "cell_type": "code",
      "metadata": {
        "colab": {
          "base_uri": "https://localhost:8080/"
        },
        "id": "Nq96vjKXQKGY",
        "outputId": "4f851c99-42cf-45ac-9ed3-51254eda4a95"
      },
      "source": [
        "train_length, test_length, feature_count = train.shape[0], test.shape[0], test.shape[1]\n",
        "print('Number of features: ', feature_count)\n",
        "print('Number of instances in training set: ', train_length)\n",
        "print('Number of instances in test set: ', test_length)\n",
        "print('Total number of instances:', train_length + test_length)"
      ],
      "execution_count": 6,
      "outputs": [
        {
          "output_type": "stream",
          "text": [
            "Number of features:  3\n",
            "Number of instances in training set:  7613\n",
            "Number of instances in test set:  3263\n",
            "Total number of instances: 10876\n"
          ],
          "name": "stdout"
        }
      ]
    },
    {
      "cell_type": "markdown",
      "metadata": {
        "id": "_ibxfRJzXRAQ"
      },
      "source": [
        "## Missing Values"
      ]
    },
    {
      "cell_type": "code",
      "metadata": {
        "colab": {
          "base_uri": "https://localhost:8080/",
          "height": 376
        },
        "id": "haFAyJ1QRQF_",
        "outputId": "7b2c47bd-9264-4ec0-c511-f195c73f0606"
      },
      "source": [
        "print('First 10 train datapoints')\n",
        "train.head(10)"
      ],
      "execution_count": 7,
      "outputs": [
        {
          "output_type": "stream",
          "text": [
            "First 10 train datapoints\n"
          ],
          "name": "stdout"
        },
        {
          "output_type": "execute_result",
          "data": {
            "text/html": [
              "<div>\n",
              "<style scoped>\n",
              "    .dataframe tbody tr th:only-of-type {\n",
              "        vertical-align: middle;\n",
              "    }\n",
              "\n",
              "    .dataframe tbody tr th {\n",
              "        vertical-align: top;\n",
              "    }\n",
              "\n",
              "    .dataframe thead th {\n",
              "        text-align: right;\n",
              "    }\n",
              "</style>\n",
              "<table border=\"1\" class=\"dataframe\">\n",
              "  <thead>\n",
              "    <tr style=\"text-align: right;\">\n",
              "      <th></th>\n",
              "      <th>keyword</th>\n",
              "      <th>location</th>\n",
              "      <th>text</th>\n",
              "      <th>target</th>\n",
              "    </tr>\n",
              "  </thead>\n",
              "  <tbody>\n",
              "    <tr>\n",
              "      <th>0</th>\n",
              "      <td>NaN</td>\n",
              "      <td>NaN</td>\n",
              "      <td>Our Deeds are the Reason of this #earthquake M...</td>\n",
              "      <td>1</td>\n",
              "    </tr>\n",
              "    <tr>\n",
              "      <th>1</th>\n",
              "      <td>NaN</td>\n",
              "      <td>NaN</td>\n",
              "      <td>Forest fire near La Ronge Sask. Canada</td>\n",
              "      <td>1</td>\n",
              "    </tr>\n",
              "    <tr>\n",
              "      <th>2</th>\n",
              "      <td>NaN</td>\n",
              "      <td>NaN</td>\n",
              "      <td>All residents asked to 'shelter in place' are ...</td>\n",
              "      <td>1</td>\n",
              "    </tr>\n",
              "    <tr>\n",
              "      <th>3</th>\n",
              "      <td>NaN</td>\n",
              "      <td>NaN</td>\n",
              "      <td>13,000 people receive #wildfires evacuation or...</td>\n",
              "      <td>1</td>\n",
              "    </tr>\n",
              "    <tr>\n",
              "      <th>4</th>\n",
              "      <td>NaN</td>\n",
              "      <td>NaN</td>\n",
              "      <td>Just got sent this photo from Ruby #Alaska as ...</td>\n",
              "      <td>1</td>\n",
              "    </tr>\n",
              "    <tr>\n",
              "      <th>5</th>\n",
              "      <td>NaN</td>\n",
              "      <td>NaN</td>\n",
              "      <td>#RockyFire Update =&gt; California Hwy. 20 closed...</td>\n",
              "      <td>1</td>\n",
              "    </tr>\n",
              "    <tr>\n",
              "      <th>6</th>\n",
              "      <td>NaN</td>\n",
              "      <td>NaN</td>\n",
              "      <td>#flood #disaster Heavy rain causes flash flood...</td>\n",
              "      <td>1</td>\n",
              "    </tr>\n",
              "    <tr>\n",
              "      <th>7</th>\n",
              "      <td>NaN</td>\n",
              "      <td>NaN</td>\n",
              "      <td>I'm on top of the hill and I can see a fire in...</td>\n",
              "      <td>1</td>\n",
              "    </tr>\n",
              "    <tr>\n",
              "      <th>8</th>\n",
              "      <td>NaN</td>\n",
              "      <td>NaN</td>\n",
              "      <td>There's an emergency evacuation happening now ...</td>\n",
              "      <td>1</td>\n",
              "    </tr>\n",
              "    <tr>\n",
              "      <th>9</th>\n",
              "      <td>NaN</td>\n",
              "      <td>NaN</td>\n",
              "      <td>I'm afraid that the tornado is coming to our a...</td>\n",
              "      <td>1</td>\n",
              "    </tr>\n",
              "  </tbody>\n",
              "</table>\n",
              "</div>"
            ],
            "text/plain": [
              "  keyword location                                               text  target\n",
              "0     NaN      NaN  Our Deeds are the Reason of this #earthquake M...       1\n",
              "1     NaN      NaN             Forest fire near La Ronge Sask. Canada       1\n",
              "2     NaN      NaN  All residents asked to 'shelter in place' are ...       1\n",
              "3     NaN      NaN  13,000 people receive #wildfires evacuation or...       1\n",
              "4     NaN      NaN  Just got sent this photo from Ruby #Alaska as ...       1\n",
              "5     NaN      NaN  #RockyFire Update => California Hwy. 20 closed...       1\n",
              "6     NaN      NaN  #flood #disaster Heavy rain causes flash flood...       1\n",
              "7     NaN      NaN  I'm on top of the hill and I can see a fire in...       1\n",
              "8     NaN      NaN  There's an emergency evacuation happening now ...       1\n",
              "9     NaN      NaN  I'm afraid that the tornado is coming to our a...       1"
            ]
          },
          "metadata": {
            "tags": []
          },
          "execution_count": 7
        }
      ]
    },
    {
      "cell_type": "code",
      "metadata": {
        "colab": {
          "base_uri": "https://localhost:8080/"
        },
        "id": "jf4Ftrf7TT90",
        "outputId": "cb09d159-5f34-4221-e0b5-d283bbbb55bb"
      },
      "source": [
        "missing_values = {\n",
        "    'keywords' : [train.keyword.isna().sum(), test.keyword.isna().sum()],\n",
        "    'location' : [train.location.isna().sum(), test.location.isna().sum()],\n",
        "    'texts' : [train.text.isna().sum(), test.text.isna().sum()]\n",
        "}\n",
        "for feature in missing_values:\n",
        "  for (dataset, length, values) in zip(['Train', 'Test'], [train_length, test_length], missing_values[feature]):\n",
        "    print('Number of missing {} in {} dataset: {}'.format(feature, dataset, values))\n",
        "    print('Percentage of missing {} in {} dataset: {:.2f}%\\n'.format(feature, dataset, (values / length) * 100))"
      ],
      "execution_count": 8,
      "outputs": [
        {
          "output_type": "stream",
          "text": [
            "Number of missing keywords in Train dataset: 61\n",
            "Percentage of missing keywords in Train dataset: 0.80%\n",
            "\n",
            "Number of missing keywords in Test dataset: 26\n",
            "Percentage of missing keywords in Test dataset: 0.80%\n",
            "\n",
            "Number of missing location in Train dataset: 2533\n",
            "Percentage of missing location in Train dataset: 33.27%\n",
            "\n",
            "Number of missing location in Test dataset: 1105\n",
            "Percentage of missing location in Test dataset: 33.86%\n",
            "\n",
            "Number of missing texts in Train dataset: 0\n",
            "Percentage of missing texts in Train dataset: 0.00%\n",
            "\n",
            "Number of missing texts in Test dataset: 0\n",
            "Percentage of missing texts in Test dataset: 0.00%\n",
            "\n"
          ],
          "name": "stdout"
        }
      ]
    },
    {
      "cell_type": "markdown",
      "metadata": {
        "id": "XMxzJnzdXVNp"
      },
      "source": [
        "Looking at the number of missing values for keywords and location for both training and test set, we see that there are more missing locations (**~33%**) than keywords (**~0.8%**)\n",
        "\n",
        "To fix the missing keywords and locations, we replace these with either `no_keywords` or `no_location`. This will allow these features to be used for sorting later on. "
      ]
    },
    {
      "cell_type": "code",
      "metadata": {
        "id": "CyONVvuAWUgz"
      },
      "source": [
        "for dataFrame in [train, test]:\n",
        "  dataFrame.keyword.fillna('no_keywords', inplace=True)\n",
        "  dataFrame.location.fillna('no_location', inplace=True)"
      ],
      "execution_count": 9,
      "outputs": []
    },
    {
      "cell_type": "code",
      "metadata": {
        "colab": {
          "base_uri": "https://localhost:8080/",
          "height": 669
        },
        "id": "EvDRcgjjXEBM",
        "outputId": "86623ebd-8cc6-447f-a83d-20dbacf48a8e"
      },
      "source": [
        "train.sample(20)"
      ],
      "execution_count": 10,
      "outputs": [
        {
          "output_type": "execute_result",
          "data": {
            "text/html": [
              "<div>\n",
              "<style scoped>\n",
              "    .dataframe tbody tr th:only-of-type {\n",
              "        vertical-align: middle;\n",
              "    }\n",
              "\n",
              "    .dataframe tbody tr th {\n",
              "        vertical-align: top;\n",
              "    }\n",
              "\n",
              "    .dataframe thead th {\n",
              "        text-align: right;\n",
              "    }\n",
              "</style>\n",
              "<table border=\"1\" class=\"dataframe\">\n",
              "  <thead>\n",
              "    <tr style=\"text-align: right;\">\n",
              "      <th></th>\n",
              "      <th>keyword</th>\n",
              "      <th>location</th>\n",
              "      <th>text</th>\n",
              "      <th>target</th>\n",
              "    </tr>\n",
              "  </thead>\n",
              "  <tbody>\n",
              "    <tr>\n",
              "      <th>3752</th>\n",
              "      <td>fire</td>\n",
              "      <td>To The Right of You!</td>\n",
              "      <td>Politifiact: Harry Reid's '30 Percent of Women...</td>\n",
              "      <td>0</td>\n",
              "    </tr>\n",
              "    <tr>\n",
              "      <th>6317</th>\n",
              "      <td>stretcher</td>\n",
              "      <td>Amazon Seller , Propagandist</td>\n",
              "      <td>Keep shape your shoes ??#Amazon #foot #adjust ...</td>\n",
              "      <td>1</td>\n",
              "    </tr>\n",
              "    <tr>\n",
              "      <th>3263</th>\n",
              "      <td>engulfed</td>\n",
              "      <td>no_location</td>\n",
              "      <td>@ZachZaidman @670TheScore wld b a shame if tha...</td>\n",
              "      <td>0</td>\n",
              "    </tr>\n",
              "    <tr>\n",
              "      <th>4025</th>\n",
              "      <td>forest%20fire</td>\n",
              "      <td>Concord, N.C.</td>\n",
              "      <td>Fire in Pisgah National Forest grows to 375 ac...</td>\n",
              "      <td>1</td>\n",
              "    </tr>\n",
              "    <tr>\n",
              "      <th>6493</th>\n",
              "      <td>sunk</td>\n",
              "      <td>San Jose, CA</td>\n",
              "      <td>Its like I never left. I just sunk to the back...</td>\n",
              "      <td>0</td>\n",
              "    </tr>\n",
              "    <tr>\n",
              "      <th>3391</th>\n",
              "      <td>evacuation</td>\n",
              "      <td>no_location</td>\n",
              "      <td>Reid Lake fire prompts campground evacuation o...</td>\n",
              "      <td>1</td>\n",
              "    </tr>\n",
              "    <tr>\n",
              "      <th>595</th>\n",
              "      <td>bioterror</td>\n",
              "      <td>Pelham, AL</td>\n",
              "      <td>Thank you @FedEx for no longer shipping live m...</td>\n",
              "      <td>0</td>\n",
              "    </tr>\n",
              "    <tr>\n",
              "      <th>6777</th>\n",
              "      <td>tragedy</td>\n",
              "      <td>no_location</td>\n",
              "      <td>shit is hard to get over but sometimes the tra...</td>\n",
              "      <td>1</td>\n",
              "    </tr>\n",
              "    <tr>\n",
              "      <th>1201</th>\n",
              "      <td>buildings%20burning</td>\n",
              "      <td>Madison, GA</td>\n",
              "      <td>@_minimehh @cjoyner I must be overlooking the ...</td>\n",
              "      <td>1</td>\n",
              "    </tr>\n",
              "    <tr>\n",
              "      <th>4599</th>\n",
              "      <td>injury</td>\n",
              "      <td>Somewhere in China.</td>\n",
              "      <td>Jack Wilshere has poor injury recordand his of...</td>\n",
              "      <td>1</td>\n",
              "    </tr>\n",
              "    <tr>\n",
              "      <th>5814</th>\n",
              "      <td>rubble</td>\n",
              "      <td>no_location</td>\n",
              "      <td>@accionempresa ChinaÛªs stock market crash th...</td>\n",
              "      <td>0</td>\n",
              "    </tr>\n",
              "    <tr>\n",
              "      <th>3552</th>\n",
              "      <td>famine</td>\n",
              "      <td>no_location</td>\n",
              "      <td>New article: Russian 'food crematoria' provoke...</td>\n",
              "      <td>1</td>\n",
              "    </tr>\n",
              "    <tr>\n",
              "      <th>274</th>\n",
              "      <td>apocalypse</td>\n",
              "      <td>no_location</td>\n",
              "      <td>will there be another jocelyn birthday apocalypse</td>\n",
              "      <td>0</td>\n",
              "    </tr>\n",
              "    <tr>\n",
              "      <th>715</th>\n",
              "      <td>bleeding</td>\n",
              "      <td>AZ</td>\n",
              "      <td>Joe Landolina: This gel can make you stop blee...</td>\n",
              "      <td>0</td>\n",
              "    </tr>\n",
              "    <tr>\n",
              "      <th>640</th>\n",
              "      <td>blaze</td>\n",
              "      <td>California</td>\n",
              "      <td>@Kaotix_Blaze craving u</td>\n",
              "      <td>0</td>\n",
              "    </tr>\n",
              "    <tr>\n",
              "      <th>2432</th>\n",
              "      <td>derailed</td>\n",
              "      <td>Alexandria, VA</td>\n",
              "      <td>.@unsuckdcmetro Is the train half-derailed or ...</td>\n",
              "      <td>1</td>\n",
              "    </tr>\n",
              "    <tr>\n",
              "      <th>6349</th>\n",
              "      <td>structural%20failure</td>\n",
              "      <td>no_location</td>\n",
              "      <td>Photo: Failure in structural integrity affects...</td>\n",
              "      <td>0</td>\n",
              "    </tr>\n",
              "    <tr>\n",
              "      <th>2379</th>\n",
              "      <td>derail</td>\n",
              "      <td>no_location</td>\n",
              "      <td>Will @FoxNews continue to derail the Iran Nucl...</td>\n",
              "      <td>1</td>\n",
              "    </tr>\n",
              "    <tr>\n",
              "      <th>4718</th>\n",
              "      <td>lava</td>\n",
              "      <td>no_location</td>\n",
              "      <td>@eles_kaylee @Jannellix0 so she puts on a diff...</td>\n",
              "      <td>0</td>\n",
              "    </tr>\n",
              "    <tr>\n",
              "      <th>3566</th>\n",
              "      <td>famine</td>\n",
              "      <td>no_location</td>\n",
              "      <td>when things become terrible more than the grea...</td>\n",
              "      <td>0</td>\n",
              "    </tr>\n",
              "  </tbody>\n",
              "</table>\n",
              "</div>"
            ],
            "text/plain": [
              "                   keyword  ... target\n",
              "3752                  fire  ...      0\n",
              "6317             stretcher  ...      1\n",
              "3263              engulfed  ...      0\n",
              "4025         forest%20fire  ...      1\n",
              "6493                  sunk  ...      0\n",
              "3391            evacuation  ...      1\n",
              "595              bioterror  ...      0\n",
              "6777               tragedy  ...      1\n",
              "1201   buildings%20burning  ...      1\n",
              "4599                injury  ...      1\n",
              "5814                rubble  ...      0\n",
              "3552                famine  ...      1\n",
              "274             apocalypse  ...      0\n",
              "715               bleeding  ...      0\n",
              "640                  blaze  ...      0\n",
              "2432              derailed  ...      1\n",
              "6349  structural%20failure  ...      0\n",
              "2379                derail  ...      1\n",
              "4718                  lava  ...      0\n",
              "3566                famine  ...      0\n",
              "\n",
              "[20 rows x 4 columns]"
            ]
          },
          "metadata": {
            "tags": []
          },
          "execution_count": 10
        }
      ]
    },
    {
      "cell_type": "markdown",
      "metadata": {
        "id": "xbTnYCf4Xcc3"
      },
      "source": [
        "## Data Cleaning"
      ]
    },
    {
      "cell_type": "markdown",
      "metadata": {
        "id": "-RBOEAB2nR_y"
      },
      "source": [
        "Each tweet will be cleaned to take out stop words, http links, and extra characters like punctuations or trailing spaces."
      ]
    },
    {
      "cell_type": "code",
      "metadata": {
        "colab": {
          "base_uri": "https://localhost:8080/"
        },
        "id": "Hxb5ifoteY-C",
        "outputId": "89b77be2-49c8-4a11-d41d-d01ec93d3561"
      },
      "source": [
        "nlp = spacy.load('en')\n",
        "sp = spacy.load('en_core_web_sm')\n",
        "nltk.download('stopwords')\n",
        "nltk.download('punkt')"
      ],
      "execution_count": 11,
      "outputs": [
        {
          "output_type": "stream",
          "text": [
            "[nltk_data] Downloading package stopwords to /root/nltk_data...\n",
            "[nltk_data]   Unzipping corpora/stopwords.zip.\n",
            "[nltk_data] Downloading package punkt to /root/nltk_data...\n",
            "[nltk_data]   Unzipping tokenizers/punkt.zip.\n"
          ],
          "name": "stdout"
        },
        {
          "output_type": "execute_result",
          "data": {
            "text/plain": [
              "True"
            ]
          },
          "metadata": {
            "tags": []
          },
          "execution_count": 11
        }
      ]
    },
    {
      "cell_type": "code",
      "metadata": {
        "colab": {
          "base_uri": "https://localhost:8080/"
        },
        "id": "v_Oi8uWWfJDS",
        "outputId": "9e372cd4-4cc5-480e-b07d-b97aaaf37576"
      },
      "source": [
        "spacy_stop_words = nlp.Defaults.stop_words\n",
        "nltk_stop_words = stopwords.words('english')\n",
        "all_stop_words = spacy_stop_words.union(nltk_stop_words)\n",
        "print('Number of stop words used for filtering: ', len(all_stop_words))"
      ],
      "execution_count": 12,
      "outputs": [
        {
          "output_type": "stream",
          "text": [
            "Number of stop words used for filtering:  382\n"
          ],
          "name": "stdout"
        }
      ]
    },
    {
      "cell_type": "code",
      "metadata": {
        "id": "bm2g1WJ7fcX1"
      },
      "source": [
        "def clean(tweet):\n",
        "  # Remove link portion of attachments in tweet\n",
        "  tweet = re.sub('https?:\\/\\/t.co\\/[A-Za-z0-9]*', '', tweet)\n",
        "  \n",
        "  # Remove stop words\n",
        "  tweet = [word for word in word_tokenize(tweet) if not word.lower() in all_stop_words]\n",
        "  tweet = ' '.join(tweet)\n",
        "\n",
        "  # # Remove puntuations\n",
        "  tweet = tweet.translate(str.maketrans('', '', string.punctuation))\n",
        "\n",
        "  # # Remove extra space\n",
        "  tweet = re.sub(\"\\s+\", ' ', tweet)\n",
        "\n",
        "  return tweet"
      ],
      "execution_count": 13,
      "outputs": []
    },
    {
      "cell_type": "code",
      "metadata": {
        "colab": {
          "base_uri": "https://localhost:8080/"
        },
        "id": "vqJfEW2di6be",
        "outputId": "03f4dfd9-2015-4d0c-f08c-b38482788cbd"
      },
      "source": [
        "test_tweet = train.sample(1).values[0,2]\n",
        "print(\n",
        "    'Cleaning example\\nOriginal Tweet:', test_tweet, \n",
        "    'Cleaned Tweet', clean(test_tweet),\n",
        "    sep='\\n'\n",
        "    )"
      ],
      "execution_count": 14,
      "outputs": [
        {
          "output_type": "stream",
          "text": [
            "Cleaning example\n",
            "Original Tweet:\n",
            "@JamesMelville Some old testimony of weapons used to promote conflicts\n",
            "Tactics - corruption &amp; infiltration of groups\n",
            "https://t.co/cyU8zxw1oH\n",
            "Cleaned Tweet\n",
            " JamesMelville old testimony weapons promote conflicts Tactics corruption amp infiltration groups\n"
          ],
          "name": "stdout"
        }
      ]
    },
    {
      "cell_type": "code",
      "metadata": {
        "colab": {
          "base_uri": "https://localhost:8080/",
          "height": 272
        },
        "id": "eoEupP8msU8g",
        "outputId": "e28d34e8-059f-4acc-8705-e329dadf43b2"
      },
      "source": [
        "train['clean_text'] = train.text.apply(lambda x:clean(x))\n",
        "test['clean_text'] = test.text.apply(lambda x:clean(x))\n",
        "train.sample(5)"
      ],
      "execution_count": 15,
      "outputs": [
        {
          "output_type": "execute_result",
          "data": {
            "text/html": [
              "<div>\n",
              "<style scoped>\n",
              "    .dataframe tbody tr th:only-of-type {\n",
              "        vertical-align: middle;\n",
              "    }\n",
              "\n",
              "    .dataframe tbody tr th {\n",
              "        vertical-align: top;\n",
              "    }\n",
              "\n",
              "    .dataframe thead th {\n",
              "        text-align: right;\n",
              "    }\n",
              "</style>\n",
              "<table border=\"1\" class=\"dataframe\">\n",
              "  <thead>\n",
              "    <tr style=\"text-align: right;\">\n",
              "      <th></th>\n",
              "      <th>keyword</th>\n",
              "      <th>location</th>\n",
              "      <th>text</th>\n",
              "      <th>target</th>\n",
              "      <th>clean_text</th>\n",
              "    </tr>\n",
              "  </thead>\n",
              "  <tbody>\n",
              "    <tr>\n",
              "      <th>6998</th>\n",
              "      <td>twister</td>\n",
              "      <td>Plano,TX</td>\n",
              "      <td>@briannafrost Twister with Bill Paxton and Hel...</td>\n",
              "      <td>0</td>\n",
              "      <td>briannafrost Twister Bill Paxton Helen Hunt</td>\n",
              "    </tr>\n",
              "    <tr>\n",
              "      <th>2237</th>\n",
              "      <td>deluge</td>\n",
              "      <td>Raleigh (Garner/Cleveland) NC</td>\n",
              "      <td>What's missing in the #asae15 exhibitor emails...</td>\n",
              "      <td>0</td>\n",
              "      <td>missing asae15 exhibitor emails Value assnchat</td>\n",
              "    </tr>\n",
              "    <tr>\n",
              "      <th>2986</th>\n",
              "      <td>drowning</td>\n",
              "      <td>Pittsburgh</td>\n",
              "      <td>Drowning in Actavis suicide</td>\n",
              "      <td>0</td>\n",
              "      <td>Drowning Actavis suicide</td>\n",
              "    </tr>\n",
              "    <tr>\n",
              "      <th>6113</th>\n",
              "      <td>sinking</td>\n",
              "      <td>no_location</td>\n",
              "      <td>That horrible sinking feeling when youÛªve be...</td>\n",
              "      <td>0</td>\n",
              "      <td>horrible sinking feeling youÛªve home phone r...</td>\n",
              "    </tr>\n",
              "    <tr>\n",
              "      <th>2743</th>\n",
              "      <td>devastated</td>\n",
              "      <td>Varies</td>\n",
              "      <td>Is Stuart Broad the Prime Minister yet. Best t...</td>\n",
              "      <td>0</td>\n",
              "      <td>Stuart Broad Prime Minister Best thing Sport s...</td>\n",
              "    </tr>\n",
              "  </tbody>\n",
              "</table>\n",
              "</div>"
            ],
            "text/plain": [
              "         keyword  ...                                         clean_text\n",
              "6998     twister  ...       briannafrost Twister Bill Paxton Helen Hunt \n",
              "2237      deluge  ...     missing asae15 exhibitor emails Value assnchat\n",
              "2986    drowning  ...                           Drowning Actavis suicide\n",
              "6113     sinking  ...  horrible sinking feeling youÛªve home phone r...\n",
              "2743  devastated  ...  Stuart Broad Prime Minister Best thing Sport s...\n",
              "\n",
              "[5 rows x 5 columns]"
            ]
          },
          "metadata": {
            "tags": []
          },
          "execution_count": 15
        }
      ]
    },
    {
      "cell_type": "markdown",
      "metadata": {
        "id": "6CFqOqVeP-E5"
      },
      "source": [
        "# Data Visualization"
      ]
    },
    {
      "cell_type": "markdown",
      "metadata": {
        "id": "-MIS0XwTU1QA"
      },
      "source": [
        "Class distribution shows an almost equal count of both disaster and non-disaster tweets in the training set."
      ]
    },
    {
      "cell_type": "code",
      "metadata": {
        "colab": {
          "base_uri": "https://localhost:8080/",
          "height": 357
        },
        "id": "KHu2KO0yVHFe",
        "outputId": "94f60c4c-4923-4494-a95f-d18df71c3bfe"
      },
      "source": [
        "figure(figsize=(6,6))\n",
        "labels = 'Disaster', 'Non-Disaster'\n",
        "counts = [train[train.target == 1].shape[0], train[train.target == 0].shape[0]]\n",
        "plt.pie(counts, labels=labels, autopct='%1.1f%%')\n",
        "plt.show()"
      ],
      "execution_count": 52,
      "outputs": [
        {
          "output_type": "display_data",
          "data": {
            "image/png": "[encoded data removed]",
            "text/plain": [
              "<Figure size 432x432 with 1 Axes>"
            ]
          },
          "metadata": {
            "tags": []
          }
        }
      ]
    },
    {
      "cell_type": "markdown",
      "metadata": {
        "id": "G4M6QSOkRmjN"
      },
      "source": [
        "The frequency of no_keyword and no_location are graphed in both training and test datasets for comparison. From the diagrams we can see that both the training and test dataset have about similar distribution of keywords and locations regardless of their actual lengths."
      ]
    },
    {
      "cell_type": "code",
      "metadata": {
        "colab": {
          "base_uri": "https://localhost:8080/",
          "height": 312
        },
        "id": "VSBizD18SJFA",
        "outputId": "cd9965c7-42b9-4cac-bf7b-dc7339e03844"
      },
      "source": [
        "no_keyword = missing_values['keywords']\n",
        "no_locations = missing_values['location']\n",
        "\n",
        "figure(figsize=(11,8))\n",
        "fig, (axes1, axes2) = plt.subplots(nrows=1, ncols=2)\n",
        "fig.suptitle('Missing Keyword/Location Distribution')\n",
        "axes1.bar(['no_keyword', 'no_location'], [no_keyword[0], no_locations[0]])\n",
        "axes1.set_title('Training Set')\n",
        "axes2.bar(['no_keyword', 'no_location'], [no_keyword[1], no_locations[1]])\n",
        "axes2.set_title('Test Set')\n",
        "plt.show()"
      ],
      "execution_count": 17,
      "outputs": [
        {
          "output_type": "display_data",
          "data": {
            "text/plain": [
              "<Figure size 792x576 with 0 Axes>"
            ]
          },
          "metadata": {
            "tags": []
          }
        },
        {
          "output_type": "display_data",
          "data": {
            "image/png": "[encoded data removed]",
            "text/plain": [
              "<Figure size 432x288 with 2 Axes>"
            ]
          },
          "metadata": {
            "tags": [],
            "needs_background": "light"
          }
        }
      ]
    },
    {
      "cell_type": "markdown",
      "metadata": {
        "id": "6bkdPGoEdCUw"
      },
      "source": [
        "The frequency per unique location is very low. \n",
        "There's also multiple locations with different representations that mean the same thing; for example United States and USA.\n",
        "\n",
        "Location may not be an important factor in classifying texts due to it being varied and 1/3 of the datapoints not having any location feature at all. This is visualized below."
      ]
    },
    {
      "cell_type": "code",
      "metadata": {
        "colab": {
          "base_uri": "https://localhost:8080/",
          "height": 360
        },
        "id": "KPgfPVVeZz77",
        "outputId": "32728c6f-f535-468d-89a8-039d30649bc2"
      },
      "source": [
        "top_15_locations = train.groupby(['location']).count().text.sort_values(ascending=False)[:15]\n",
        "figure(figsize=(15,6))\n",
        "plt.plot(top_15_locations)\n",
        "plt.show()"
      ],
      "execution_count": 18,
      "outputs": [
        {
          "output_type": "display_data",
          "data": {
            "image/png": "[encoded data removed]",
            "text/plain": [
              "<Figure size 1080x432 with 1 Axes>"
            ]
          },
          "metadata": {
            "tags": [],
            "needs_background": "light"
          }
        }
      ]
    },
    {
      "cell_type": "markdown",
      "metadata": {
        "id": "pPW0K3vubpho"
      },
      "source": [
        "# Modeling and Cross Validation"
      ]
    },
    {
      "cell_type": "markdown",
      "metadata": {
        "id": "-iOXLbbcZmec"
      },
      "source": [
        "Start by downloading the pre-built layers for BERT which we will be adding onto for classification"
      ]
    },
    {
      "cell_type": "code",
      "metadata": {
        "id": "uAzKa4YiKIlL"
      },
      "source": [
        "FullTokenizer = tokenization.FullTokenizer\n",
        "BERT_BASE_MODEL_HUB = 'https://tfhub.dev/tensorflow/bert_en_uncased_L-12_H-768_A-12/2'\n",
        "BERT_BASE_DISC = 'Base_uncased'\n",
        "\n",
        "# Two different pretrained layers. A base case layer for working out parameters\n",
        "# and a larger layer for final classification\n",
        "bert_base_layer = hub.KerasLayer(BERT_BASE_MODEL_HUB, trainable=False)\n",
        "\n",
        "# Selected BERT model only takes lowercase strings\n",
        "to_lower_case = bert_base_layer.resolved_object.do_lower_case.numpy()\n",
        "base_vocabulary_file = bert_base_layer.resolved_object.vocab_file.asset_path.numpy()\n",
        "base_tokenizer = FullTokenizer(base_vocabulary_file, to_lower_case)"
      ],
      "execution_count": 19,
      "outputs": []
    },
    {
      "cell_type": "markdown",
      "metadata": {
        "id": "TG2OqnuEbhQW"
      },
      "source": [
        "## Encoding"
      ]
    },
    {
      "cell_type": "markdown",
      "metadata": {
        "id": "pMZSi7tBZwLb"
      },
      "source": [
        "Encoders are created for converting the `clean_text` into embedded inputs that BERT can understand. It also handles padding the input to fit a maximum length. \n",
        "\n",
        "The maximum length is obtained from finding the longest sentence in clean_text column. "
      ]
    },
    {
      "cell_type": "code",
      "metadata": {
        "id": "T_wKQb5dQkkZ"
      },
      "source": [
        "def encode_tweet(text, tokenizer=base_tokenizer):\n",
        "  # CLS and SEP are attached to end of tokenized word for storing classification weights\n",
        "  # and separating words respectively\n",
        "  tokenized_tweet = tokenizer.convert_tokens_to_ids(['[CLS]'] + tokenizer.tokenize(text) + ['[SEP]'])\n",
        "  return tokenized_tweet"
      ],
      "execution_count": 20,
      "outputs": []
    },
    {
      "cell_type": "code",
      "metadata": {
        "id": "Yy9f2Sc2S1BD"
      },
      "source": [
        "max_token_length = 0\n",
        "def encode_list(tweet_list=train.clean_text, tokenizer=base_tokenizer, force_max_len=None):\n",
        "  tokenized_tweets = [encode_tweet(tweet) for tweet in tweet_list]\n",
        "  if force_max_len:\n",
        "    max_len = force_max_len\n",
        "  else:\n",
        "    max_len = len(max(tokenized_tweets, key = len))\n",
        "  \n",
        "  tokens = []\n",
        "  masks = []\n",
        "  segments = []\n",
        "\n",
        "  for token_tweet in tokenized_tweets:\n",
        "    length = len(token_tweet)\n",
        "    padded_token_tweet = token_tweet + ([0] * (max_len - length))\n",
        "    padded_token_mask = (length * [1]) + ([0] * (max_len - length))\n",
        "    segment = [0] * max_len\n",
        "\n",
        "    tokens.append(padded_token_tweet)\n",
        "    masks.append(padded_token_mask)\n",
        "    segments.append(segment)\n",
        "  \n",
        "  print('Maximum token length: ', max_len)\n",
        "  max_token_length = max_len\n",
        "  return np.array(tokens), np.array(masks), np.array(segments)\n",
        "\n",
        "def encode_dataset(dataset=train, tokenizer=base_tokenizer, force_max_len=None):\n",
        "  return encode_list(dataset.clean_text, tokenizer=tokenizer, force_max_len=force_max_len)"
      ],
      "execution_count": 21,
      "outputs": []
    },
    {
      "cell_type": "markdown",
      "metadata": {
        "id": "zTrN3FkIn0wt"
      },
      "source": [
        "Create classification model that defaults to the following parameters: \n",
        "* BERT base layer\n",
        "* 0.0001 learning rate\n",
        "* An extra hidden layer attached to BERT prebuilt layers\n",
        "* Sigmoid Activation function in the last layer\n",
        "* Adam optimizer\n",
        "* BCE loss function measuring accuracy"
      ]
    },
    {
      "cell_type": "code",
      "metadata": {
        "id": "9keiZgtZb0cY"
      },
      "source": [
        "def create_model(bert_layer=bert_base_layer,\n",
        "                 name='default_function_model',\n",
        "                 bert_trainable=False,\n",
        "                 add_hidden_layer=True,\n",
        "                 input_length=128,\n",
        "                 lr = 0.0001, \n",
        "                 momentum = 0.8,\n",
        "                 activation='sigmoid', \n",
        "                 optimizer='Adam',\n",
        "                 metrics=['accuracy'], \n",
        "                 loss = 'binary_crossentropy'):\n",
        "  if bert_trainable:\n",
        "    print('Will also train bert layers')\n",
        "  bert_layer.trainable = bert_trainable\n",
        "\n",
        "  # Define the shape for the input layer\n",
        "  input_tokens = Input(shape=(input_length,), dtype='int32', name='input_tokens')\n",
        "  input_masks = Input(shape=(input_length,), dtype='int32', name='input_masks')\n",
        "  input_segments = Input(shape=(input_length,), dtype='int32', name='input_segments')\n",
        "  pooled_output, sequence_output = bert_layer([input_tokens, input_masks, input_segments])\n",
        "  \n",
        "  cls_layer = sequence_output[:, 0, :]\n",
        "  # Define hidden and output layer\n",
        "  if add_hidden_layer:\n",
        "    print('Adding hidden layer with 256 units on top of bert layer')\n",
        "    hidden = Dense(256, activation=activation)(cls_layer)\n",
        "    hiddenDropout = Dropout(0.5)(hidden)\n",
        "    output = Dense(1, activation=activation)(hiddenDropout)\n",
        "  else:\n",
        "    output = Dense(1, activation=activation)(cls_layer)\n",
        "\n",
        "  # Assemble model\n",
        "  model = Model(\n",
        "      inputs=[input_tokens, input_masks, input_segments], \n",
        "      outputs=output,\n",
        "      name=name\n",
        "      )\n",
        "  \n",
        "  print('Using {} optimizer'.format(optimizer))\n",
        "  if optimizer == 'Adam':\n",
        "    optimizer = Adam(learning_rate=lr)\n",
        "  elif optimizer == 'RMSProp':\n",
        "    optimizer = RMSprop(learning_rate=lr)\n",
        "  elif optimizer == 'SGD':\n",
        "    optimizer = SGD(learning_rate=lr, momentum=momentum)\n",
        "  \n",
        "  model.compile(loss=loss, optimizer=optimizer, metrics=metrics)\n",
        "  return model\n",
        "\n",
        "def get_model(\n",
        "    name='default_model', \n",
        "    word_length=128,\n",
        "    optimizer='Adam',\n",
        "    add_hidden_layer=True,\n",
        "    train_bert=False\n",
        "    ):\n",
        "  checkpoint = ModelCheckpoint(name + '.h5', monitor='val_loss', save_best_only=True)\n",
        "  return create_model(\n",
        "      name=name, \n",
        "      input_length=word_length,\n",
        "      bert_trainable=train_bert,\n",
        "      add_hidden_layer=add_hidden_layer,\n",
        "      optimizer=optimizer\n",
        "      )"
      ],
      "execution_count": 22,
      "outputs": []
    },
    {
      "cell_type": "markdown",
      "metadata": {
        "id": "hQg6cFWIboNE"
      },
      "source": [
        "## Picking Hyper-parameters"
      ]
    },
    {
      "cell_type": "markdown",
      "metadata": {
        "id": "TrL26c1foVAh"
      },
      "source": [
        "For the finetuning, a default model is trained for 1 epoch to monitor validation accuracy and hyper-parameters"
      ]
    },
    {
      "cell_type": "code",
      "metadata": {
        "colab": {
          "base_uri": "https://localhost:8080/"
        },
        "id": "rgs0irz3l3zk",
        "outputId": "b5d82223-a1c4-41bf-80f1-bc180a1a0cc0"
      },
      "source": [
        "X = encode_dataset(dataset=train, tokenizer=base_tokenizer)\n",
        "y = train.target\n",
        "max_word_length = X[0].shape[1]\n",
        "_ = get_model('prep_model', word_length=max_word_length).fit(X, y, shuffle=True, validation_split=0.35, batch_size=32, epochs=1)"
      ],
      "execution_count": 23,
      "outputs": [
        {
          "output_type": "stream",
          "text": [
            "Maximum token length:  53\n",
            "Adding hidden layer with 256 units on top of bert layer\n",
            "Using Adam optimizer\n",
            "155/155 [==============================] - 28s 182ms/step - loss: 0.6927 - accuracy: 0.5883 - val_loss: 0.5723 - val_accuracy: 0.7505\n"
          ],
          "name": "stdout"
        }
      ]
    },
    {
      "cell_type": "markdown",
      "metadata": {
        "id": "9qO_XRitdnwE"
      },
      "source": [
        "Second possible model takes uses a different optimizer (RMSProp)"
      ]
    },
    {
      "cell_type": "code",
      "metadata": {
        "colab": {
          "base_uri": "https://localhost:8080/"
        },
        "id": "pcO8etEFdmx3",
        "outputId": "7f71f142-33c1-4254-acee-ac6c8f2521b2"
      },
      "source": [
        "X = encode_dataset(dataset=train, tokenizer=base_tokenizer)\n",
        "get_model('prep_model_rmsprop', word_length=max_word_length, optimizer='RMSProp').fit(X, y, shuffle=True, validation_split=0.35, batch_size=32, epochs=1)"
      ],
      "execution_count": 24,
      "outputs": [
        {
          "output_type": "stream",
          "text": [
            "Maximum token length:  53\n",
            "Adding hidden layer with 256 units on top of bert layer\n",
            "Using RMSProp optimizer\n",
            "155/155 [==============================] - 30s 191ms/step - loss: 0.6662 - accuracy: 0.6099 - val_loss: 0.5531 - val_accuracy: 0.7538\n"
          ],
          "name": "stdout"
        },
        {
          "output_type": "execute_result",
          "data": {
            "text/plain": [
              "<tensorflow.python.keras.callbacks.History at 0x7f28d3eea5f8>"
            ]
          },
          "metadata": {
            "tags": []
          },
          "execution_count": 24
        }
      ]
    },
    {
      "cell_type": "markdown",
      "metadata": {
        "id": "z91u9ubWQmAp"
      },
      "source": [
        "Third possible model takes uses a different optimizer (SGD)"
      ]
    },
    {
      "cell_type": "code",
      "metadata": {
        "colab": {
          "base_uri": "https://localhost:8080/"
        },
        "id": "DY9kkydpeWvg",
        "outputId": "db447af6-572b-4d1e-a4ea-284f85490292"
      },
      "source": [
        "X = encode_dataset(dataset=train, tokenizer=base_tokenizer)\n",
        "get_model('prep_model_rmsprop', word_length=max_word_length, optimizer='SGD').fit(X, y, shuffle=True, validation_split=0.35, batch_size=32, epochs=1)"
      ],
      "execution_count": 25,
      "outputs": [
        {
          "output_type": "stream",
          "text": [
            "Maximum token length:  53\n",
            "Adding hidden layer with 256 units on top of bert layer\n",
            "Using SGD optimizer\n",
            "155/155 [==============================] - 30s 195ms/step - loss: 0.7360 - accuracy: 0.5305 - val_loss: 0.6896 - val_accuracy: 0.5546\n"
          ],
          "name": "stdout"
        },
        {
          "output_type": "execute_result",
          "data": {
            "text/plain": [
              "<tensorflow.python.keras.callbacks.History at 0x7f28d2098a90>"
            ]
          },
          "metadata": {
            "tags": []
          },
          "execution_count": 25
        }
      ]
    },
    {
      "cell_type": "markdown",
      "metadata": {
        "id": "z_PgpD3vby1b"
      },
      "source": [
        "## Training"
      ]
    },
    {
      "cell_type": "markdown",
      "metadata": {
        "id": "mF2DQTjobILg"
      },
      "source": [
        "For the full model, we will use cross-validation fold to improve performance for our dataset. To similate the equal split in the training and test dataset, we will split the training set into folds by using the keywords via stratification.\n",
        "\n",
        "We will also use RMSProp for our optimizer since it had the best performance from our preliminary tests."
      ]
    },
    {
      "cell_type": "code",
      "metadata": {
        "colab": {
          "base_uri": "https://localhost:8080/"
        },
        "id": "-RIPFz-qawM6",
        "outputId": "f141967c-4355-421b-96df-22ad2e2645db"
      },
      "source": [
        "seed_for_split = 1996\n",
        "number_of_folds = 2\n",
        "stratified_kf = StratifiedKFold(n_splits=number_of_folds, random_state=seed_for_split, shuffle=True)\n",
        "\n",
        "print('We use the keyword as a key for spliting our train data to get an even spread\\nof keywords across both the training dataset and the validation dataset')\n",
        "for fold, (trn_idx, val_idx) in enumerate(stratified_kf.split(train.clean_text, train.target), 1):\n",
        "  train_set = train.loc[trn_idx]\n",
        "  train_val = train.loc[trn_idx]\n",
        "  print('\\nFold {} Training dataset = {} - Validation dataset = {}'.format(fold, train_set.clean_text.shape, train_val.clean_text.shape))\n",
        "  print('Unique keyword Count = Train Set {} - Validation Set {}'.format(train_set.keyword.nunique(), train_val.keyword.nunique()))    "
      ],
      "execution_count": 26,
      "outputs": [
        {
          "output_type": "stream",
          "text": [
            "We use the keyword as a key for spliting our train data to get an even spread\n",
            "of keywords across both the training dataset and the validation dataset\n",
            "\n",
            "Fold 1 Training dataset = (3806,) - Validation dataset = (3806,)\n",
            "Unique keyword Count = Train Set 222 - Validation Set 222\n",
            "\n",
            "Fold 2 Training dataset = (3807,) - Validation dataset = (3807,)\n",
            "Unique keyword Count = Train Set 222 - Validation Set 222\n"
          ],
          "name": "stdout"
        }
      ]
    },
    {
      "cell_type": "markdown",
      "metadata": {
        "id": "DSe8dWQgYl3Z"
      },
      "source": [
        "Classification Report class is created to moniter accuracy and progress during epochs. This covers more measures in details as compared the usual accuracy for default fit function.\n",
        "[ClassificationReport code credit](https://colab.research.google.com/github/goswami-rahul/machine-learning/blob/master/UnderstandingMetrics.ipynb)"
      ]
    },
    {
      "cell_type": "code",
      "metadata": {
        "id": "UR1IaGhZYinf"
      },
      "source": [
        "class ClassificationReport(Callback):\n",
        "  def __init__(self, train_data=(), validation_data=()):\n",
        "    super(Callback, self).__init__()\n",
        "    \n",
        "    self.X_train, self.y_train = train_data\n",
        "    self.train_precision_scores = []\n",
        "    self.train_recall_scores = []\n",
        "    self.train_f1_scores = []\n",
        "    \n",
        "    self.X_val, self.y_val = validation_data\n",
        "    self.val_precision_scores = []\n",
        "    self.val_recall_scores = []\n",
        "    self.val_f1_scores = [] \n",
        "              \n",
        "  def on_epoch_end(self, epoch, logs={}):\n",
        "    train_predictions = np.round(self.model.predict(self.X_train, verbose=0))        \n",
        "    train_precision = precision_score(self.y_train, train_predictions, average='macro')\n",
        "    train_recall = recall_score(self.y_train, train_predictions, average='macro')\n",
        "    train_f1 = f1_score(self.y_train, train_predictions, average='macro')\n",
        "    self.train_precision_scores.append(train_precision)        \n",
        "    self.train_recall_scores.append(train_recall)\n",
        "    self.train_f1_scores.append(train_f1)\n",
        "    \n",
        "    val_predictions = np.round(self.model.predict(self.X_val, verbose=0))\n",
        "    val_precision = precision_score(self.y_val, val_predictions, average='macro')\n",
        "    val_recall = recall_score(self.y_val, val_predictions, average='macro')\n",
        "    val_f1 = f1_score(self.y_val, val_predictions, average='macro')\n",
        "    self.val_precision_scores.append(val_precision)        \n",
        "    self.val_recall_scores.append(val_recall)        \n",
        "    self.val_f1_scores.append(val_f1)\n",
        "    \n",
        "    print('\\nEpoch: {} - Training Precision: {:.6} - Training Recall: {:.6} - Training F1: {:.6}'.format(epoch + 1, train_precision, train_recall, train_f1))\n",
        "    print('Epoch: {} - Validation Precision: {:.6} - Validation Recall: {:.6} - Validation F1: {:.6}'.format(epoch + 1, val_precision, val_recall, val_f1)) "
      ],
      "execution_count": 27,
      "outputs": []
    },
    {
      "cell_type": "markdown",
      "metadata": {
        "id": "WR_2rkpec9kA"
      },
      "source": [
        "Each fold of the dataset is used to train a model which is added to an ensemble of `trained_models` from previous folds"
      ]
    },
    {
      "cell_type": "code",
      "metadata": {
        "colab": {
          "base_uri": "https://localhost:8080/"
        },
        "id": "RmwkQ6LRZhgt",
        "outputId": "ad1313b7-a8d9-4ffc-f7a9-de1fa00915f1"
      },
      "source": [
        "full_model_name = 'full_model'\n",
        "number_of_epochs = 10\n",
        "trained_models = []\n",
        "scores = {}\n",
        "\n",
        "def train_main_models():\n",
        "  for fold, (trn_idx, val_idx) in enumerate(stratified_kf.split(train.clean_text, train.target), 1):\n",
        "    print('Training Fold ', fold)\n",
        "    train_set = train.loc[trn_idx]\n",
        "    train_val = train.loc[trn_idx]\n",
        "\n",
        "    # Split into train and validation sets\n",
        "    X_train, y_train = encode_list(train_set.clean_text), train_set.target\n",
        "    X_val, y_val = encode_list(train_val.clean_text), train_val.target \n",
        "\n",
        "    # Train and monitor accuracy, recall, and f1-score\n",
        "    metrics = ClassificationReport(train_data=(X_train, y_train), validation_data=(X_val, y_val))\n",
        "    curr_model_name = full_model_name + '_{}'.format(fold)\n",
        "    model = get_model(name=curr_model_name, word_length=max_word_length, optimizer='RMSProp', add_hidden_layer=False, train_bert=True)\n",
        "    model.fit(x=X_train, y=y_train, validation_data=(X_val, y_val), callbacks=[metrics], epochs=number_of_epochs, batch_size=32)\n",
        "\n",
        "    # Add model to ensemble\n",
        "    trained_models.append(model)\n",
        "    print('Current models trained', len(trained_models))\n",
        "\n",
        "    # Save scores from metrics\n",
        "    scores[fold] = {\n",
        "      'train': {\n",
        "        'precision': metrics.train_precision_scores,\n",
        "        'recall': metrics.train_recall_scores,\n",
        "        'f1': metrics.train_f1_scores                    \n",
        "      },\n",
        "      'validation': {\n",
        "        'precision': metrics.val_precision_scores,\n",
        "        'recall': metrics.val_recall_scores,\n",
        "        'f1': metrics.val_f1_scores                    \n",
        "      }\n",
        "    }\n",
        "  \n",
        "  print('Total number of models trained: ', len(trained_models))\n",
        "\n",
        "# Start training\n",
        "train_main_models()"
      ],
      "execution_count": 28,
      "outputs": [
        {
          "output_type": "stream",
          "text": [
            "Training Fold  1\n",
            "Maximum token length:  53\n",
            "Maximum token length:  53\n",
            "Will also train bert layers\n",
            "Using RMSProp optimizer\n",
            "Epoch 1/10\n",
            "119/119 [==============================] - ETA: 0s - loss: 0.5668 - accuracy: 0.7388\n",
            "Epoch: 1 - Training Precision: 0.859281 - Training Recall: 0.855056 - Training F1: 0.856867\n",
            "Epoch: 1 - Validation Precision: 0.859281 - Validation Recall: 0.855056 - Validation F1: 0.856867\n",
            "119/119 [==============================] - 90s 754ms/step - loss: 0.5668 - accuracy: 0.7388 - val_loss: 0.3711 - val_accuracy: 0.8605\n",
            "Epoch 2/10\n",
            "119/119 [==============================] - ETA: 0s - loss: 0.4054 - accuracy: 0.8395\n",
            "Epoch: 2 - Training Precision: 0.89058 - Training Recall: 0.81842 - Training F1: 0.828818\n",
            "Epoch: 2 - Validation Precision: 0.89058 - Validation Recall: 0.81842 - Validation F1: 0.828818\n",
            "119/119 [==============================] - 89s 747ms/step - loss: 0.4054 - accuracy: 0.8395 - val_loss: 0.3369 - val_accuracy: 0.8437\n",
            "Epoch 3/10\n",
            "119/119 [==============================] - ETA: 0s - loss: 0.3010 - accuracy: 0.8870\n",
            "Epoch: 3 - Training Precision: 0.943395 - Training Recall: 0.945527 - Training F1: 0.944382\n",
            "Epoch: 3 - Validation Precision: 0.943395 - Validation Recall: 0.945527 - Validation F1: 0.944382\n",
            "119/119 [==============================] - 89s 746ms/step - loss: 0.3010 - accuracy: 0.8870 - val_loss: 0.1584 - val_accuracy: 0.9453\n",
            "Epoch 4/10\n",
            "119/119 [==============================] - ETA: 0s - loss: 0.2009 - accuracy: 0.9264\n",
            "Epoch: 4 - Training Precision: 0.974001 - Training Recall: 0.970842 - Training F1: 0.972301\n",
            "Epoch: 4 - Validation Precision: 0.974001 - Validation Recall: 0.970842 - Validation F1: 0.972301\n",
            "119/119 [==============================] - 89s 748ms/step - loss: 0.2009 - accuracy: 0.9264 - val_loss: 0.0884 - val_accuracy: 0.9729\n",
            "Epoch 5/10\n",
            "119/119 [==============================] - ETA: 0s - loss: 0.1293 - accuracy: 0.9532\n",
            "Epoch: 5 - Training Precision: 0.983523 - Training Recall: 0.982165 - Training F1: 0.98282\n",
            "Epoch: 5 - Validation Precision: 0.983523 - Validation Recall: 0.982165 - Validation F1: 0.98282\n",
            "119/119 [==============================] - 89s 748ms/step - loss: 0.1293 - accuracy: 0.9532 - val_loss: 0.0535 - val_accuracy: 0.9832\n",
            "Epoch 6/10\n",
            "119/119 [==============================] - ETA: 0s - loss: 0.0891 - accuracy: 0.9708\n",
            "Epoch: 6 - Training Precision: 0.981858 - Training Recall: 0.984736 - Training F1: 0.983165\n",
            "Epoch: 6 - Validation Precision: 0.981858 - Validation Recall: 0.984736 - Validation F1: 0.983165\n",
            "119/119 [==============================] - 89s 748ms/step - loss: 0.0891 - accuracy: 0.9708 - val_loss: 0.0546 - val_accuracy: 0.9834\n",
            "Epoch 7/10\n",
            "119/119 [==============================] - ETA: 0s - loss: 0.0679 - accuracy: 0.9758\n",
            "Epoch: 7 - Training Precision: 0.986652 - Training Recall: 0.988269 - Training F1: 0.987423\n",
            "Epoch: 7 - Validation Precision: 0.986652 - Validation Recall: 0.988269 - Validation F1: 0.987423\n",
            "119/119 [==============================] - 89s 747ms/step - loss: 0.0679 - accuracy: 0.9758 - val_loss: 0.0288 - val_accuracy: 0.9877\n",
            "Epoch 8/10\n",
            "119/119 [==============================] - ETA: 0s - loss: 0.0487 - accuracy: 0.9840\n",
            "Epoch: 8 - Training Precision: 0.989424 - Training Recall: 0.988594 - Training F1: 0.989\n",
            "Epoch: 8 - Validation Precision: 0.989424 - Validation Recall: 0.988594 - Validation F1: 0.989\n",
            "119/119 [==============================] - 89s 746ms/step - loss: 0.0487 - accuracy: 0.9840 - val_loss: 0.0245 - val_accuracy: 0.9892\n",
            "Epoch 9/10\n",
            "119/119 [==============================] - ETA: 0s - loss: 0.0465 - accuracy: 0.9845\n",
            "Epoch: 9 - Training Precision: 0.988228 - Training Recall: 0.988738 - Training F1: 0.988479\n",
            "Epoch: 9 - Validation Precision: 0.988228 - Validation Recall: 0.988738 - Validation F1: 0.988479\n",
            "119/119 [==============================] - 89s 746ms/step - loss: 0.0465 - accuracy: 0.9845 - val_loss: 0.0290 - val_accuracy: 0.9887\n",
            "Epoch 10/10\n",
            "119/119 [==============================] - ETA: 0s - loss: 0.0535 - accuracy: 0.9800\n",
            "Epoch: 10 - Training Precision: 0.990202 - Training Recall: 0.988904 - Training F1: 0.989532\n",
            "Epoch: 10 - Validation Precision: 0.990202 - Validation Recall: 0.988904 - Validation F1: 0.989532\n",
            "119/119 [==============================] - 89s 746ms/step - loss: 0.0535 - accuracy: 0.9800 - val_loss: 0.0341 - val_accuracy: 0.9898\n",
            "Current models trained 1\n",
            "Training Fold  2\n",
            "Maximum token length:  53\n",
            "Maximum token length:  53\n",
            "Will also train bert layers\n",
            "Using RMSProp optimizer\n",
            "Epoch 1/10\n",
            "119/119 [==============================] - ETA: 0s - loss: 0.4797 - accuracy: 0.7983\n",
            "Epoch: 1 - Training Precision: 0.878869 - Training Recall: 0.847394 - Training F1: 0.855274\n",
            "Epoch: 1 - Validation Precision: 0.878869 - Validation Recall: 0.847394 - Validation F1: 0.855274\n",
            "119/119 [==============================] - 90s 755ms/step - loss: 0.4797 - accuracy: 0.7983 - val_loss: 0.3530 - val_accuracy: 0.8629\n",
            "Epoch 2/10\n",
            "119/119 [==============================] - ETA: 0s - loss: 0.3613 - accuracy: 0.8608\n",
            "Epoch: 2 - Training Precision: 0.912232 - Training Recall: 0.893179 - Training F1: 0.8994\n",
            "Epoch: 2 - Validation Precision: 0.912232 - Validation Recall: 0.893179 - Validation F1: 0.8994\n",
            "119/119 [==============================] - 89s 745ms/step - loss: 0.3613 - accuracy: 0.8608 - val_loss: 0.2732 - val_accuracy: 0.9033\n",
            "Epoch 3/10\n",
            "119/119 [==============================] - ETA: 0s - loss: 0.2736 - accuracy: 0.9018\n",
            "Epoch: 3 - Training Precision: 0.951253 - Training Recall: 0.945002 - Training F1: 0.947676\n",
            "Epoch: 3 - Validation Precision: 0.951253 - Validation Recall: 0.945002 - Validation F1: 0.947676\n",
            "119/119 [==============================] - 89s 746ms/step - loss: 0.2736 - accuracy: 0.9018 - val_loss: 0.1489 - val_accuracy: 0.9490\n",
            "Epoch 4/10\n",
            "119/119 [==============================] - ETA: 0s - loss: 0.1860 - accuracy: 0.9364\n",
            "Epoch: 4 - Training Precision: 0.96961 - Training Recall: 0.97044 - Training F1: 0.970015\n",
            "Epoch: 4 - Validation Precision: 0.96961 - Validation Recall: 0.97044 - Validation F1: 0.970015\n",
            "119/119 [==============================] - 89s 746ms/step - loss: 0.1860 - accuracy: 0.9364 - val_loss: 0.1049 - val_accuracy: 0.9706\n",
            "Epoch 5/10\n",
            "119/119 [==============================] - ETA: 0s - loss: 0.1399 - accuracy: 0.9595\n",
            "Epoch: 5 - Training Precision: 0.978232 - Training Recall: 0.976738 - Training F1: 0.977456\n",
            "Epoch: 5 - Validation Precision: 0.978232 - Validation Recall: 0.976738 - Validation F1: 0.977456\n",
            "119/119 [==============================] - 89s 744ms/step - loss: 0.1399 - accuracy: 0.9595 - val_loss: 0.0984 - val_accuracy: 0.9779\n",
            "Epoch 6/10\n",
            "119/119 [==============================] - ETA: 0s - loss: 0.1281 - accuracy: 0.9659\n",
            "Epoch: 6 - Training Precision: 0.972052 - Training Recall: 0.973421 - Training F1: 0.972708\n",
            "Epoch: 6 - Validation Precision: 0.972052 - Validation Recall: 0.973421 - Validation F1: 0.972708\n",
            "119/119 [==============================] - 89s 744ms/step - loss: 0.1281 - accuracy: 0.9659 - val_loss: 0.0885 - val_accuracy: 0.9732\n",
            "Epoch 7/10\n",
            "119/119 [==============================] - ETA: 0s - loss: 0.1140 - accuracy: 0.9706\n",
            "Epoch: 7 - Training Precision: 0.980991 - Training Recall: 0.979874 - Training F1: 0.980416\n",
            "Epoch: 7 - Validation Precision: 0.980991 - Validation Recall: 0.979874 - Validation F1: 0.980416\n",
            "119/119 [==============================] - 89s 746ms/step - loss: 0.1140 - accuracy: 0.9706 - val_loss: 0.0843 - val_accuracy: 0.9808\n",
            "Epoch 8/10\n",
            "119/119 [==============================] - ETA: 0s - loss: 0.0906 - accuracy: 0.9735\n",
            "Epoch: 8 - Training Precision: 0.982689 - Training Recall: 0.982469 - Training F1: 0.982578\n",
            "Epoch: 8 - Validation Precision: 0.982689 - Validation Recall: 0.982469 - Validation F1: 0.982578\n",
            "119/119 [==============================] - 89s 745ms/step - loss: 0.0906 - accuracy: 0.9735 - val_loss: 0.0833 - val_accuracy: 0.9829\n",
            "Epoch 9/10\n",
            "119/119 [==============================] - ETA: 0s - loss: 0.0958 - accuracy: 0.9740\n",
            "Epoch: 9 - Training Precision: 0.984684 - Training Recall: 0.983169 - Training F1: 0.983897\n",
            "Epoch: 9 - Validation Precision: 0.984684 - Validation Recall: 0.983169 - Validation F1: 0.983897\n",
            "119/119 [==============================] - 89s 745ms/step - loss: 0.0958 - accuracy: 0.9740 - val_loss: 0.0550 - val_accuracy: 0.9842\n",
            "Epoch 10/10\n",
            "119/119 [==============================] - ETA: 0s - loss: 0.0826 - accuracy: 0.9764\n",
            "Epoch: 10 - Training Precision: 0.984458 - Training Recall: 0.984458 - Training F1: 0.984458\n",
            "Epoch: 10 - Validation Precision: 0.984458 - Validation Recall: 0.984458 - Validation F1: 0.984458\n",
            "119/119 [==============================] - 89s 745ms/step - loss: 0.0826 - accuracy: 0.9764 - val_loss: 0.0523 - val_accuracy: 0.9848\n",
            "Current models trained 2\n",
            "Total number of models trained:  2\n"
          ],
          "name": "stdout"
        }
      ]
    },
    {
      "cell_type": "markdown",
      "metadata": {
        "id": "sTbjnT3U2grX"
      },
      "source": [
        "# Evaluation"
      ]
    },
    {
      "cell_type": "markdown",
      "metadata": {
        "id": "VAD_9oK-rfjJ"
      },
      "source": [
        "## Prediction"
      ]
    },
    {
      "cell_type": "markdown",
      "metadata": {
        "id": "8_FcbV3T3DR8"
      },
      "source": [
        "A separate submissions dataset is downloaded to get the target classes for measuring prediction accuracy. The test dataset is then filtered to only contain the cleaned text and the targets."
      ]
    },
    {
      "cell_type": "code",
      "metadata": {
        "id": "nfSjSj-h16ee"
      },
      "source": [
        "test_target_url = 'https://raw.githubusercontent.com/lloydoad/disaster-tweet-classifier/master/datasets/test_target.csv'\n",
        "test_target = pd.read_csv(test_target_url, error_bad_lines=False).drop(['id'], axis=1)\n",
        "prepped_test = pd.concat([test])\n",
        "prepped_test['target'] = test_target.astype(int)\n",
        "prepped_test.drop(['keyword', 'location', 'text'], axis=1, inplace=True)"
      ],
      "execution_count": 33,
      "outputs": []
    },
    {
      "cell_type": "markdown",
      "metadata": {
        "id": "omkle79P7lqg"
      },
      "source": [
        "By combining all the models that have been fully trained, we are able to achieve an F1 score above **0.8**."
      ]
    },
    {
      "cell_type": "code",
      "metadata": {
        "colab": {
          "base_uri": "https://localhost:8080/"
        },
        "id": "lLmfowhk8Elu",
        "outputId": "e2c5f3d8-e128-4023-bf3c-e7e302ac9f53"
      },
      "source": [
        "def predict(test=prepped_test, tokenizer=base_tokenizer, force_max_len=max_word_length):\n",
        "  X_test = encode_dataset(dataset=test, tokenizer=tokenizer, force_max_len=force_max_len)\n",
        "  pred_y = np.zeros((test.target.shape[0], 1))\n",
        "  numberOfModels = len(trained_models)\n",
        "  for model in trained_models:\n",
        "    pred_y += model.predict(X_test) / numberOfModels\n",
        "  return pred_y\n",
        "\n",
        "predicted_y = predict()\n",
        "pred_values = np.round(predicted_y).astype('int').reshape(1,-1)[0]\n",
        "true_values = prepped_test.target.values\n",
        "score = sklearn.metrics.f1_score(true_values, pred_values, average='micro')\n",
        "print('The F1 Score of the prediction:', score)"
      ],
      "execution_count": 34,
      "outputs": [
        {
          "output_type": "stream",
          "text": [
            "Maximum token length:  53\n",
            "The F1 Score of the prediction: 0.8081520073551947\n"
          ],
          "name": "stdout"
        }
      ]
    },
    {
      "cell_type": "markdown",
      "metadata": {
        "id": "oJZkleIpriES"
      },
      "source": [
        "## Performance Summary"
      ]
    },
    {
      "cell_type": "markdown",
      "metadata": {
        "id": "26SxM7MuNdqS"
      },
      "source": [
        "Plotting the accuracy scores for all folds shows a gradual increase over time with the score plateauing after going above **0.975**"
      ]
    },
    {
      "cell_type": "code",
      "metadata": {
        "id": "zt1cPU6nB4Ee"
      },
      "source": [
        "def plot_scores(fold=1):\n",
        "  figure(figsize=(12,7))\n",
        "\n",
        "  foldValues = scores[fold]\n",
        "  validationValues = foldValues['validation']\n",
        "  precision_values = validationValues['precision']\n",
        "  recall_values = validationValues['recall']\n",
        "  f1_values = validationValues['f1']\n",
        "  rangeOfEpochs = np.arange(1, number_of_epochs + 1)\n",
        "\n",
        "  plt.plot(rangeOfEpochs, precision_values, label='Precision Scores')\n",
        "  plt.plot(rangeOfEpochs, recall_values, label='Recall Scores')\n",
        "  plt.plot(rangeOfEpochs, f1_values, label='F1 Scores')\n",
        "  plt.xlabel('Epochs')\n",
        "  plt.ylabel('Scores')\n",
        "  plt.title('Epoch vs. Score (Model {})'.format(fold))\n",
        "  plt.legend()\n",
        "  plt.show()"
      ],
      "execution_count": 39,
      "outputs": []
    },
    {
      "cell_type": "code",
      "metadata": {
        "colab": {
          "base_uri": "https://localhost:8080/",
          "height": 458
        },
        "id": "CFIpOUD0qIEn",
        "outputId": "2645745a-9526-4964-9ccd-79a9100fff37"
      },
      "source": [
        "plot_scores(fold=1)"
      ],
      "execution_count": 40,
      "outputs": [
        {
          "output_type": "display_data",
          "data": {
            "image/png": "[encoded data removed]",
            "text/plain": [
              "<Figure size 864x504 with 1 Axes>"
            ]
          },
          "metadata": {
            "tags": [],
            "needs_background": "light"
          }
        }
      ]
    },
    {
      "cell_type": "code",
      "metadata": {
        "colab": {
          "base_uri": "https://localhost:8080/",
          "height": 458
        },
        "id": "13TMyeUNqKIC",
        "outputId": "8a3300f7-ef96-4fa3-9e68-d8fb5800393f"
      },
      "source": [
        "plot_scores(fold=2)"
      ],
      "execution_count": 41,
      "outputs": [
        {
          "output_type": "display_data",
          "data": {
            "image/png": "[encoded data removed]",
            "text/plain": [
              "<Figure size 864x504 with 1 Axes>"
            ]
          },
          "metadata": {
            "tags": [],
            "needs_background": "light"
          }
        }
      ]
    },
    {
      "cell_type": "markdown",
      "metadata": {
        "id": "xn0fmcehrHKw"
      },
      "source": [
        "Since both models had similar performance, the values of only one model's accuracy can be looked at to compare to our test set performance. We can see that although high validation scores are achieved during training, the prediction still averages around 0.8 f1 score."
      ]
    },
    {
      "cell_type": "code",
      "metadata": {
        "colab": {
          "base_uri": "https://localhost:8080/",
          "height": 359
        },
        "id": "YjLKg9APrawP",
        "outputId": "40fb259d-044a-4375-a5ce-b43e3c643a3c"
      },
      "source": [
        "foldValues = scores[1]\n",
        "validationValues = foldValues['validation']\n",
        "precision_values = validationValues['precision']\n",
        "recall_values = validationValues['recall']\n",
        "f1_values = validationValues['f1']\n",
        "values = np.array([precision_values, recall_values, f1_values]).transpose()\n",
        "pd.DataFrame(values, columns=['Precision', 'Recall', 'F1 Score'])"
      ],
      "execution_count": 51,
      "outputs": [
        {
          "output_type": "execute_result",
          "data": {
            "text/html": [
              "<div>\n",
              "<style scoped>\n",
              "    .dataframe tbody tr th:only-of-type {\n",
              "        vertical-align: middle;\n",
              "    }\n",
              "\n",
              "    .dataframe tbody tr th {\n",
              "        vertical-align: top;\n",
              "    }\n",
              "\n",
              "    .dataframe thead th {\n",
              "        text-align: right;\n",
              "    }\n",
              "</style>\n",
              "<table border=\"1\" class=\"dataframe\">\n",
              "  <thead>\n",
              "    <tr style=\"text-align: right;\">\n",
              "      <th></th>\n",
              "      <th>Precision</th>\n",
              "      <th>Recall</th>\n",
              "      <th>F1 Score</th>\n",
              "    </tr>\n",
              "  </thead>\n",
              "  <tbody>\n",
              "    <tr>\n",
              "      <th>0</th>\n",
              "      <td>0.859281</td>\n",
              "      <td>0.855056</td>\n",
              "      <td>0.856867</td>\n",
              "    </tr>\n",
              "    <tr>\n",
              "      <th>1</th>\n",
              "      <td>0.890580</td>\n",
              "      <td>0.818420</td>\n",
              "      <td>0.828818</td>\n",
              "    </tr>\n",
              "    <tr>\n",
              "      <th>2</th>\n",
              "      <td>0.943395</td>\n",
              "      <td>0.945527</td>\n",
              "      <td>0.944382</td>\n",
              "    </tr>\n",
              "    <tr>\n",
              "      <th>3</th>\n",
              "      <td>0.974001</td>\n",
              "      <td>0.970842</td>\n",
              "      <td>0.972301</td>\n",
              "    </tr>\n",
              "    <tr>\n",
              "      <th>4</th>\n",
              "      <td>0.983523</td>\n",
              "      <td>0.982165</td>\n",
              "      <td>0.982820</td>\n",
              "    </tr>\n",
              "    <tr>\n",
              "      <th>5</th>\n",
              "      <td>0.981858</td>\n",
              "      <td>0.984736</td>\n",
              "      <td>0.983165</td>\n",
              "    </tr>\n",
              "    <tr>\n",
              "      <th>6</th>\n",
              "      <td>0.986652</td>\n",
              "      <td>0.988269</td>\n",
              "      <td>0.987423</td>\n",
              "    </tr>\n",
              "    <tr>\n",
              "      <th>7</th>\n",
              "      <td>0.989424</td>\n",
              "      <td>0.988594</td>\n",
              "      <td>0.989000</td>\n",
              "    </tr>\n",
              "    <tr>\n",
              "      <th>8</th>\n",
              "      <td>0.988228</td>\n",
              "      <td>0.988738</td>\n",
              "      <td>0.988479</td>\n",
              "    </tr>\n",
              "    <tr>\n",
              "      <th>9</th>\n",
              "      <td>0.990202</td>\n",
              "      <td>0.988904</td>\n",
              "      <td>0.989532</td>\n",
              "    </tr>\n",
              "  </tbody>\n",
              "</table>\n",
              "</div>"
            ],
            "text/plain": [
              "   Precision    Recall  F1 Score\n",
              "0   0.859281  0.855056  0.856867\n",
              "1   0.890580  0.818420  0.828818\n",
              "2   0.943395  0.945527  0.944382\n",
              "3   0.974001  0.970842  0.972301\n",
              "4   0.983523  0.982165  0.982820\n",
              "5   0.981858  0.984736  0.983165\n",
              "6   0.986652  0.988269  0.987423\n",
              "7   0.989424  0.988594  0.989000\n",
              "8   0.988228  0.988738  0.988479\n",
              "9   0.990202  0.988904  0.989532"
            ]
          },
          "metadata": {
            "tags": []
          },
          "execution_count": 51
        }
      ]
    },
    {
      "cell_type": "markdown",
      "metadata": {
        "id": "ewOUFwgjuR_x"
      },
      "source": [
        "Based on the results, we can note the following:\n",
        "* The optimizer choice doesn't have a significant impact on performance since they could have all reached a validation f1 score above 0.8 in less than 10 epochs\n",
        "* Having more folds may have improved our performance but the trade-off in time would be noticeable\n",
        "* Our model uses a 12 layer pre-trained BERT model and trains these as well for our dataset. Using a 16 layer may have improved the performance but the training time would increase by a significant amount\n",
        "* In conclusion, using an list of models based on two separate folds is a good method for quickly (within 10 epochs) achieving a validation f1 score above 0.9."
      ]
    },
    {
      "cell_type": "markdown",
      "metadata": {
        "id": "aJlzYkSUPXAO"
      },
      "source": [
        "# References"
      ]
    },
    {
      "cell_type": "markdown",
      "metadata": {
        "id": "YYYuNwU4Qkb2"
      },
      "source": [
        "* https://scikit-learn.org/stable/modules/generated/sklearn.metrics.f1_score.html\n",
        "* https://www.kaggle.com/c/nlp-getting-started/overview\n",
        "* https://www.kaggle.com/gunesevitan/nlp-with-disaster-tweets-eda-cleaning-and-bert#8.-Test-Set-Labels\n",
        "* https://jalammar.github.io/a-visual-guide-to-using-bert-for-the-first-time/\n",
        "* https://mccormickml.com/2019/07/22/BERT-fine-tuning/\n",
        "* https://www.searchenginejournal.com/bert-explained-what-you-need-to-know-about-googles-new-algorithm/337247/\n",
        "* https://towardsdatascience.com/bert-explained-state-of-the-art-language-model-for-nlp-f8b21a9b6270"
      ]
    }
  ]
}