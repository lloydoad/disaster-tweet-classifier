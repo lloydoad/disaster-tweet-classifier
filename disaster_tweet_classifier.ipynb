{
  "nbformat": 4,
  "nbformat_minor": 0,
  "metadata": {
    "colab": {
      "name": "disaster-tweet-classifier.ipynb",
      "provenance": [],
      "authorship_tag": "ABX9TyPmslZ+eMUyGpLy61jRuHt4",
      "include_colab_link": true
    },
    "kernelspec": {
      "name": "python3",
      "display_name": "Python 3"
    }
  },
  "cells": [
    {
      "cell_type": "markdown",
      "metadata": {
        "id": "view-in-github",
        "colab_type": "text"
      },
      "source": [
        "<a href=\"https://colab.research.google.com/github/lloydoad/disaster-tweet-classifier/blob/master/disaster_tweet_classifier.ipynb\" target=\"_parent\"><img src=\"https://colab.research.google.com/assets/colab-badge.svg\" alt=\"Open In Colab\"/></a>"
      ]
    },
    {
      "cell_type": "code",
      "metadata": {
        "id": "FGNnXylvMSTY"
      },
      "source": [
        "import string\n",
        "import spacy\n",
        "import nltk\n",
        "import pandas as pd\n",
        "import numpy as np\n",
        "import regex as re\n",
        "import matplotlib.pyplot as plt\n",
        "from matplotlib.pyplot import figure\n",
        "from nltk.tokenize import word_tokenize\n",
        "from nltk.corpus import stopwords"
      ],
      "execution_count": 27,
      "outputs": []
    },
    {
      "cell_type": "markdown",
      "metadata": {
        "id": "d6ZEWckrNOIW"
      },
      "source": [
        "# Exploring Dataset"
      ]
    },
    {
      "cell_type": "code",
      "metadata": {
        "id": "Yzy1Pa9uNRWi"
      },
      "source": [
        "train_url_path = 'https://raw.githubusercontent.com/lloydoad/disaster-tweet-classifier/master/datasets/train.csv'\n",
        "test_url_path = 'https://raw.githubusercontent.com/lloydoad/disaster-tweet-classifier/master/datasets/test.csv'\n",
        "train = pd.read_csv(train_url_path, error_bad_lines=False)\n",
        "test = pd.read_csv(test_url_path, error_bad_lines=False)\n",
        "train = train.drop('id', axis=1)\n",
        "test = test.drop('id', axis=1)"
      ],
      "execution_count": 38,
      "outputs": []
    },
    {
      "cell_type": "code",
      "metadata": {
        "colab": {
          "base_uri": "https://localhost:8080/"
        },
        "id": "Nq96vjKXQKGY",
        "outputId": "70450fe0-2d60-4e0b-8687-06b43357383b"
      },
      "source": [
        "train_length, test_length, feature_count = train.shape[0], test.shape[0], test.shape[1]\n",
        "print('Number of features: ', feature_count)\n",
        "print('Number of instances in training set: ', train_length)\n",
        "print('Number of instances in test set: ', test_length)\n",
        "print('Total number of instances:', train_length + test_length)"
      ],
      "execution_count": 39,
      "outputs": [
        {
          "output_type": "stream",
          "text": [
            "Number of features:  3\n",
            "Number of instances in training set:  7613\n",
            "Number of instances in test set:  3263\n",
            "Total number of instances: 10876\n"
          ],
          "name": "stdout"
        }
      ]
    },
    {
      "cell_type": "code",
      "metadata": {
        "colab": {
          "base_uri": "https://localhost:8080/",
          "height": 376
        },
        "id": "haFAyJ1QRQF_",
        "outputId": "a96068a9-1ecd-4dae-bc6e-2343936ec080"
      },
      "source": [
        "print('First 10 train datapoints')\n",
        "train.head(10)"
      ],
      "execution_count": 40,
      "outputs": [
        {
          "output_type": "stream",
          "text": [
            "First 10 train datapoints\n"
          ],
          "name": "stdout"
        },
        {
          "output_type": "execute_result",
          "data": {
            "text/html": [
              "<div>\n",
              "<style scoped>\n",
              "    .dataframe tbody tr th:only-of-type {\n",
              "        vertical-align: middle;\n",
              "    }\n",
              "\n",
              "    .dataframe tbody tr th {\n",
              "        vertical-align: top;\n",
              "    }\n",
              "\n",
              "    .dataframe thead th {\n",
              "        text-align: right;\n",
              "    }\n",
              "</style>\n",
              "<table border=\"1\" class=\"dataframe\">\n",
              "  <thead>\n",
              "    <tr style=\"text-align: right;\">\n",
              "      <th></th>\n",
              "      <th>keyword</th>\n",
              "      <th>location</th>\n",
              "      <th>text</th>\n",
              "      <th>target</th>\n",
              "    </tr>\n",
              "  </thead>\n",
              "  <tbody>\n",
              "    <tr>\n",
              "      <th>0</th>\n",
              "      <td>NaN</td>\n",
              "      <td>NaN</td>\n",
              "      <td>Our Deeds are the Reason of this #earthquake M...</td>\n",
              "      <td>1</td>\n",
              "    </tr>\n",
              "    <tr>\n",
              "      <th>1</th>\n",
              "      <td>NaN</td>\n",
              "      <td>NaN</td>\n",
              "      <td>Forest fire near La Ronge Sask. Canada</td>\n",
              "      <td>1</td>\n",
              "    </tr>\n",
              "    <tr>\n",
              "      <th>2</th>\n",
              "      <td>NaN</td>\n",
              "      <td>NaN</td>\n",
              "      <td>All residents asked to 'shelter in place' are ...</td>\n",
              "      <td>1</td>\n",
              "    </tr>\n",
              "    <tr>\n",
              "      <th>3</th>\n",
              "      <td>NaN</td>\n",
              "      <td>NaN</td>\n",
              "      <td>13,000 people receive #wildfires evacuation or...</td>\n",
              "      <td>1</td>\n",
              "    </tr>\n",
              "    <tr>\n",
              "      <th>4</th>\n",
              "      <td>NaN</td>\n",
              "      <td>NaN</td>\n",
              "      <td>Just got sent this photo from Ruby #Alaska as ...</td>\n",
              "      <td>1</td>\n",
              "    </tr>\n",
              "    <tr>\n",
              "      <th>5</th>\n",
              "      <td>NaN</td>\n",
              "      <td>NaN</td>\n",
              "      <td>#RockyFire Update =&gt; California Hwy. 20 closed...</td>\n",
              "      <td>1</td>\n",
              "    </tr>\n",
              "    <tr>\n",
              "      <th>6</th>\n",
              "      <td>NaN</td>\n",
              "      <td>NaN</td>\n",
              "      <td>#flood #disaster Heavy rain causes flash flood...</td>\n",
              "      <td>1</td>\n",
              "    </tr>\n",
              "    <tr>\n",
              "      <th>7</th>\n",
              "      <td>NaN</td>\n",
              "      <td>NaN</td>\n",
              "      <td>I'm on top of the hill and I can see a fire in...</td>\n",
              "      <td>1</td>\n",
              "    </tr>\n",
              "    <tr>\n",
              "      <th>8</th>\n",
              "      <td>NaN</td>\n",
              "      <td>NaN</td>\n",
              "      <td>There's an emergency evacuation happening now ...</td>\n",
              "      <td>1</td>\n",
              "    </tr>\n",
              "    <tr>\n",
              "      <th>9</th>\n",
              "      <td>NaN</td>\n",
              "      <td>NaN</td>\n",
              "      <td>I'm afraid that the tornado is coming to our a...</td>\n",
              "      <td>1</td>\n",
              "    </tr>\n",
              "  </tbody>\n",
              "</table>\n",
              "</div>"
            ],
            "text/plain": [
              "  keyword location                                               text  target\n",
              "0     NaN      NaN  Our Deeds are the Reason of this #earthquake M...       1\n",
              "1     NaN      NaN             Forest fire near La Ronge Sask. Canada       1\n",
              "2     NaN      NaN  All residents asked to 'shelter in place' are ...       1\n",
              "3     NaN      NaN  13,000 people receive #wildfires evacuation or...       1\n",
              "4     NaN      NaN  Just got sent this photo from Ruby #Alaska as ...       1\n",
              "5     NaN      NaN  #RockyFire Update => California Hwy. 20 closed...       1\n",
              "6     NaN      NaN  #flood #disaster Heavy rain causes flash flood...       1\n",
              "7     NaN      NaN  I'm on top of the hill and I can see a fire in...       1\n",
              "8     NaN      NaN  There's an emergency evacuation happening now ...       1\n",
              "9     NaN      NaN  I'm afraid that the tornado is coming to our a...       1"
            ]
          },
          "metadata": {
            "tags": []
          },
          "execution_count": 40
        }
      ]
    },
    {
      "cell_type": "code",
      "metadata": {
        "colab": {
          "base_uri": "https://localhost:8080/",
          "height": 376
        },
        "id": "Xfn8MnerRSEf",
        "outputId": "561090c1-a261-4a4a-d884-3a278de70726"
      },
      "source": [
        "print('First 10 test datapoints')\n",
        "test.head(10)"
      ],
      "execution_count": 41,
      "outputs": [
        {
          "output_type": "stream",
          "text": [
            "First 10 test datapoints\n"
          ],
          "name": "stdout"
        },
        {
          "output_type": "execute_result",
          "data": {
            "text/html": [
              "<div>\n",
              "<style scoped>\n",
              "    .dataframe tbody tr th:only-of-type {\n",
              "        vertical-align: middle;\n",
              "    }\n",
              "\n",
              "    .dataframe tbody tr th {\n",
              "        vertical-align: top;\n",
              "    }\n",
              "\n",
              "    .dataframe thead th {\n",
              "        text-align: right;\n",
              "    }\n",
              "</style>\n",
              "<table border=\"1\" class=\"dataframe\">\n",
              "  <thead>\n",
              "    <tr style=\"text-align: right;\">\n",
              "      <th></th>\n",
              "      <th>keyword</th>\n",
              "      <th>location</th>\n",
              "      <th>text</th>\n",
              "    </tr>\n",
              "  </thead>\n",
              "  <tbody>\n",
              "    <tr>\n",
              "      <th>0</th>\n",
              "      <td>NaN</td>\n",
              "      <td>NaN</td>\n",
              "      <td>Just happened a terrible car crash</td>\n",
              "    </tr>\n",
              "    <tr>\n",
              "      <th>1</th>\n",
              "      <td>NaN</td>\n",
              "      <td>NaN</td>\n",
              "      <td>Heard about #earthquake is different cities, s...</td>\n",
              "    </tr>\n",
              "    <tr>\n",
              "      <th>2</th>\n",
              "      <td>NaN</td>\n",
              "      <td>NaN</td>\n",
              "      <td>there is a forest fire at spot pond, geese are...</td>\n",
              "    </tr>\n",
              "    <tr>\n",
              "      <th>3</th>\n",
              "      <td>NaN</td>\n",
              "      <td>NaN</td>\n",
              "      <td>Apocalypse lighting. #Spokane #wildfires</td>\n",
              "    </tr>\n",
              "    <tr>\n",
              "      <th>4</th>\n",
              "      <td>NaN</td>\n",
              "      <td>NaN</td>\n",
              "      <td>Typhoon Soudelor kills 28 in China and Taiwan</td>\n",
              "    </tr>\n",
              "    <tr>\n",
              "      <th>5</th>\n",
              "      <td>NaN</td>\n",
              "      <td>NaN</td>\n",
              "      <td>We're shaking...It's an earthquake</td>\n",
              "    </tr>\n",
              "    <tr>\n",
              "      <th>6</th>\n",
              "      <td>NaN</td>\n",
              "      <td>NaN</td>\n",
              "      <td>They'd probably still show more life than Arse...</td>\n",
              "    </tr>\n",
              "    <tr>\n",
              "      <th>7</th>\n",
              "      <td>NaN</td>\n",
              "      <td>NaN</td>\n",
              "      <td>Hey! How are you?</td>\n",
              "    </tr>\n",
              "    <tr>\n",
              "      <th>8</th>\n",
              "      <td>NaN</td>\n",
              "      <td>NaN</td>\n",
              "      <td>What a nice hat?</td>\n",
              "    </tr>\n",
              "    <tr>\n",
              "      <th>9</th>\n",
              "      <td>NaN</td>\n",
              "      <td>NaN</td>\n",
              "      <td>Fuck off!</td>\n",
              "    </tr>\n",
              "  </tbody>\n",
              "</table>\n",
              "</div>"
            ],
            "text/plain": [
              "  keyword location                                               text\n",
              "0     NaN      NaN                 Just happened a terrible car crash\n",
              "1     NaN      NaN  Heard about #earthquake is different cities, s...\n",
              "2     NaN      NaN  there is a forest fire at spot pond, geese are...\n",
              "3     NaN      NaN           Apocalypse lighting. #Spokane #wildfires\n",
              "4     NaN      NaN      Typhoon Soudelor kills 28 in China and Taiwan\n",
              "5     NaN      NaN                 We're shaking...It's an earthquake\n",
              "6     NaN      NaN  They'd probably still show more life than Arse...\n",
              "7     NaN      NaN                                  Hey! How are you?\n",
              "8     NaN      NaN                                   What a nice hat?\n",
              "9     NaN      NaN                                          Fuck off!"
            ]
          },
          "metadata": {
            "tags": []
          },
          "execution_count": 41
        }
      ]
    },
    {
      "cell_type": "code",
      "metadata": {
        "colab": {
          "base_uri": "https://localhost:8080/"
        },
        "id": "jf4Ftrf7TT90",
        "outputId": "33814aad-cb89-4afb-bbdd-da754ef93297"
      },
      "source": [
        "train_missing_keywords, test_missing_keywords = train.keyword.isna().sum(), test.keyword.isna().sum()\n",
        "train_missing_location, test_missing_location = train.location.isna().sum(), test.location.isna().sum()\n",
        "print('Number of missing keywords: Train {}, Test {}'.format(train_missing_keywords, test_missing_keywords))\n",
        "print('Number of missing location: Train {}, Test {}'.format(train_missing_location, test_missing_location))"
      ],
      "execution_count": 42,
      "outputs": [
        {
          "output_type": "stream",
          "text": [
            "Number of missing keywords: Train 61, Test 26\n",
            "Number of missing location: Train 2533, Test 1105\n"
          ],
          "name": "stdout"
        }
      ]
    },
    {
      "cell_type": "code",
      "metadata": {
        "id": "CyONVvuAWUgz"
      },
      "source": [
        "for dataFrame in [train, test]:\n",
        "  dataFrame.keyword.fillna('no_keywords', inplace=True)\n",
        "  dataFrame.location.fillna('no_location', inplace=True)"
      ],
      "execution_count": 43,
      "outputs": []
    },
    {
      "cell_type": "markdown",
      "metadata": {
        "id": "XMxzJnzdXVNp"
      },
      "source": [
        "Looking at the number of missing values for keywords and location for both training and test set, we see that there are more missing locations (**~33%**) than keywords (**~0.8%**)\n",
        "Unavailable keyword or location features are explicitly stated. "
      ]
    },
    {
      "cell_type": "code",
      "metadata": {
        "colab": {
          "base_uri": "https://localhost:8080/",
          "height": 669
        },
        "id": "EvDRcgjjXEBM",
        "outputId": "913c39ea-4b01-4a5a-e22f-32fd06484474"
      },
      "source": [
        "train.sample(20)"
      ],
      "execution_count": 45,
      "outputs": [
        {
          "output_type": "execute_result",
          "data": {
            "text/html": [
              "<div>\n",
              "<style scoped>\n",
              "    .dataframe tbody tr th:only-of-type {\n",
              "        vertical-align: middle;\n",
              "    }\n",
              "\n",
              "    .dataframe tbody tr th {\n",
              "        vertical-align: top;\n",
              "    }\n",
              "\n",
              "    .dataframe thead th {\n",
              "        text-align: right;\n",
              "    }\n",
              "</style>\n",
              "<table border=\"1\" class=\"dataframe\">\n",
              "  <thead>\n",
              "    <tr style=\"text-align: right;\">\n",
              "      <th></th>\n",
              "      <th>keyword</th>\n",
              "      <th>location</th>\n",
              "      <th>text</th>\n",
              "      <th>target</th>\n",
              "    </tr>\n",
              "  </thead>\n",
              "  <tbody>\n",
              "    <tr>\n",
              "      <th>7435</th>\n",
              "      <td>wounds</td>\n",
              "      <td>Charlotte</td>\n",
              "      <td>Gunshot wound #9 is in the bicep. The only one...</td>\n",
              "      <td>1</td>\n",
              "    </tr>\n",
              "    <tr>\n",
              "      <th>4934</th>\n",
              "      <td>mayhem</td>\n",
              "      <td>no_location</td>\n",
              "      <td>Asbury Park shooting reported http://t.co/dADZ...</td>\n",
              "      <td>1</td>\n",
              "    </tr>\n",
              "    <tr>\n",
              "      <th>4404</th>\n",
              "      <td>hijacking</td>\n",
              "      <td>France</td>\n",
              "      <td>#hot  Funtenna: hijacking computers to send da...</td>\n",
              "      <td>0</td>\n",
              "    </tr>\n",
              "    <tr>\n",
              "      <th>1615</th>\n",
              "      <td>collapse</td>\n",
              "      <td>In the clouds...</td>\n",
              "      <td>@BehindAShield @Wars_Goddess Sweet Lord.  (I c...</td>\n",
              "      <td>0</td>\n",
              "    </tr>\n",
              "    <tr>\n",
              "      <th>1979</th>\n",
              "      <td>cyclone</td>\n",
              "      <td>no_location</td>\n",
              "      <td>WFP - WFP Delivers Food To 165000 Bangladesh F...</td>\n",
              "      <td>1</td>\n",
              "    </tr>\n",
              "    <tr>\n",
              "      <th>3171</th>\n",
              "      <td>emergency%20plan</td>\n",
              "      <td>Alexandria, VA, USA</td>\n",
              "      <td>See Aug 4 2015 PoconoRecord @EmergencyMgtMag -...</td>\n",
              "      <td>1</td>\n",
              "    </tr>\n",
              "    <tr>\n",
              "      <th>4984</th>\n",
              "      <td>military</td>\n",
              "      <td>no_location</td>\n",
              "      <td>@kiranahmedd US military and Nato are fighting...</td>\n",
              "      <td>1</td>\n",
              "    </tr>\n",
              "    <tr>\n",
              "      <th>7534</th>\n",
              "      <td>wreckage</td>\n",
              "      <td>Mumbai</td>\n",
              "      <td>Wreckage 'Conclusively Confirmed' as From MH37...</td>\n",
              "      <td>1</td>\n",
              "    </tr>\n",
              "    <tr>\n",
              "      <th>6530</th>\n",
              "      <td>survive</td>\n",
              "      <td>no_location</td>\n",
              "      <td>Suicide of a Superpower : Will America Survive...</td>\n",
              "      <td>0</td>\n",
              "    </tr>\n",
              "    <tr>\n",
              "      <th>4251</th>\n",
              "      <td>heat%20wave</td>\n",
              "      <td>Greenfield, Massachusetts</td>\n",
              "      <td>Many thx for share and your comment Alex Light...</td>\n",
              "      <td>0</td>\n",
              "    </tr>\n",
              "    <tr>\n",
              "      <th>7239</th>\n",
              "      <td>weapons</td>\n",
              "      <td>West</td>\n",
              "      <td>WWII Memories Plus Lessons of Hiroshima We Sti...</td>\n",
              "      <td>1</td>\n",
              "    </tr>\n",
              "    <tr>\n",
              "      <th>3659</th>\n",
              "      <td>fatalities</td>\n",
              "      <td>Lima, Ohio</td>\n",
              "      <td>Message boards will display updated traffic fa...</td>\n",
              "      <td>1</td>\n",
              "    </tr>\n",
              "    <tr>\n",
              "      <th>1641</th>\n",
              "      <td>collapsed</td>\n",
              "      <td>no_location</td>\n",
              "      <td>Bay District coaches learn CPR during medical ...</td>\n",
              "      <td>1</td>\n",
              "    </tr>\n",
              "    <tr>\n",
              "      <th>6818</th>\n",
              "      <td>trapped</td>\n",
              "      <td>10 Steps Ahead.  Cloud 9</td>\n",
              "      <td>Bomb head? Explosive decisions dat produced mo...</td>\n",
              "      <td>1</td>\n",
              "    </tr>\n",
              "    <tr>\n",
              "      <th>6097</th>\n",
              "      <td>sinking</td>\n",
              "      <td>no_location</td>\n",
              "      <td>?that horrible sinking feeling when youÛªve b...</td>\n",
              "      <td>0</td>\n",
              "    </tr>\n",
              "    <tr>\n",
              "      <th>913</th>\n",
              "      <td>bloody</td>\n",
              "      <td>Storybrooke</td>\n",
              "      <td>@chxrmingprince @jones_luna I should bloody ho...</td>\n",
              "      <td>0</td>\n",
              "    </tr>\n",
              "    <tr>\n",
              "      <th>2495</th>\n",
              "      <td>desolate</td>\n",
              "      <td>Boulder</td>\n",
              "      <td>@joshacagan Your only option now is to move to...</td>\n",
              "      <td>0</td>\n",
              "    </tr>\n",
              "    <tr>\n",
              "      <th>4511</th>\n",
              "      <td>hurricane</td>\n",
              "      <td>Mexico City</td>\n",
              "      <td>NowPlaying Rock You Like A Hurricane - Scorpio...</td>\n",
              "      <td>0</td>\n",
              "    </tr>\n",
              "    <tr>\n",
              "      <th>4441</th>\n",
              "      <td>hostage</td>\n",
              "      <td>Melbourne, FL</td>\n",
              "      <td>Wtf? Her biological father is holding her host...</td>\n",
              "      <td>0</td>\n",
              "    </tr>\n",
              "    <tr>\n",
              "      <th>918</th>\n",
              "      <td>bloody</td>\n",
              "      <td>Santa Cruz, CA</td>\n",
              "      <td>Black Friday turns Bloody (would rather be sho...</td>\n",
              "      <td>0</td>\n",
              "    </tr>\n",
              "  </tbody>\n",
              "</table>\n",
              "</div>"
            ],
            "text/plain": [
              "               keyword  ... target\n",
              "7435            wounds  ...      1\n",
              "4934            mayhem  ...      1\n",
              "4404         hijacking  ...      0\n",
              "1615          collapse  ...      0\n",
              "1979           cyclone  ...      1\n",
              "3171  emergency%20plan  ...      1\n",
              "4984          military  ...      1\n",
              "7534          wreckage  ...      1\n",
              "6530           survive  ...      0\n",
              "4251       heat%20wave  ...      0\n",
              "7239           weapons  ...      1\n",
              "3659        fatalities  ...      1\n",
              "1641         collapsed  ...      1\n",
              "6818           trapped  ...      1\n",
              "6097           sinking  ...      0\n",
              "913             bloody  ...      0\n",
              "2495          desolate  ...      0\n",
              "4511         hurricane  ...      0\n",
              "4441           hostage  ...      0\n",
              "918             bloody  ...      0\n",
              "\n",
              "[20 rows x 4 columns]"
            ]
          },
          "metadata": {
            "tags": []
          },
          "execution_count": 45
        }
      ]
    },
    {
      "cell_type": "code",
      "metadata": {
        "colab": {
          "base_uri": "https://localhost:8080/",
          "height": 375
        },
        "id": "KPgfPVVeZz77",
        "outputId": "6ce046bc-f644-4655-d7f5-6c3f7dede7f1"
      },
      "source": [
        "top_15_locations = train.groupby(['location']).count().text.sort_values(ascending=False)[:15]\n",
        "figure(figsize=(15,6))\n",
        "plt.plot(top_15_locations)\n",
        "plt.show()"
      ],
      "execution_count": 46,
      "outputs": [
        {
          "output_type": "display_data",
          "data": {
            "image/png": "[encoded data removed]",
            "text/plain": [
              "<Figure size 1080x432 with 1 Axes>"
            ]
          },
          "metadata": {
            "tags": [],
            "needs_background": "light"
          }
        }
      ]
    },
    {
      "cell_type": "markdown",
      "metadata": {
        "id": "6bkdPGoEdCUw"
      },
      "source": [
        "The frequency per unique location is very low. \n",
        "There's also multiple locations with different representations that mean the same thing; for example United States and USA.\n",
        "Location may not be an important factor in classifying texts due to it being varied and 1/3 of the datapoints not having any location feature at all."
      ]
    },
    {
      "cell_type": "markdown",
      "metadata": {
        "id": "0abstBbueB8A"
      },
      "source": [
        "# Pre-Processing"
      ]
    },
    {
      "cell_type": "markdown",
      "metadata": {
        "id": "-RBOEAB2nR_y"
      },
      "source": [
        "First stage of processing for NLP is cleaning the tweet to take out stop words, http links, and extra characters like punctuations or trailing spaces."
      ]
    },
    {
      "cell_type": "code",
      "metadata": {
        "colab": {
          "base_uri": "https://localhost:8080/"
        },
        "id": "Hxb5ifoteY-C",
        "outputId": "7f550e69-012b-4fd0-ef13-56178cee0ec2"
      },
      "source": [
        "nlp = spacy.load('en')\n",
        "sp = spacy.load('en_core_web_sm')\n",
        "nltk.download('stopwords')\n",
        "nltk.download('punkt')"
      ],
      "execution_count": 47,
      "outputs": [
        {
          "output_type": "stream",
          "text": [
            "[nltk_data] Downloading package stopwords to /root/nltk_data...\n",
            "[nltk_data]   Unzipping corpora/stopwords.zip.\n",
            "[nltk_data] Downloading package punkt to /root/nltk_data...\n",
            "[nltk_data]   Unzipping tokenizers/punkt.zip.\n"
          ],
          "name": "stdout"
        },
        {
          "output_type": "execute_result",
          "data": {
            "text/plain": [
              "True"
            ]
          },
          "metadata": {
            "tags": []
          },
          "execution_count": 47
        }
      ]
    },
    {
      "cell_type": "code",
      "metadata": {
        "colab": {
          "base_uri": "https://localhost:8080/"
        },
        "id": "v_Oi8uWWfJDS",
        "outputId": "de80b787-c0f8-4881-bc22-06ba19b28542"
      },
      "source": [
        "spacy_stopwords = nlp.Defaults.stop_words\n",
        "nltk_stopwords = stopwords.words('english')\n",
        "print('Number of stop words for nltk: ', len(nltk_stopwords))\n",
        "print('Number of stop words for spacy: ', len(spacy_stopwords))"
      ],
      "execution_count": 77,
      "outputs": [
        {
          "output_type": "stream",
          "text": [
            "Number of stop words for nltk:  179\n",
            "Number of stop words for spacy:  326\n"
          ],
          "name": "stdout"
        }
      ]
    },
    {
      "cell_type": "code",
      "metadata": {
        "id": "bm2g1WJ7fcX1"
      },
      "source": [
        "def clean(tweet, stop_words='nltk'):\n",
        "  # Remove link portion of attachments in tweet\n",
        "  tweet = re.sub('https?:\\/\\/t.co\\/[A-Za-z0-9]*', '', tweet)\n",
        "  \n",
        "  # Remove stop words\n",
        "  chosen_stop_words = nltk_stopwords if stopwords == 'nltk' else spacy_stopwords\n",
        "  tweet = [word for word in word_tokenize(tweet) if not word.lower() in chosen_stop_words]\n",
        "  tweet = ' '.join(tweet)\n",
        "\n",
        "  # # Remove puntuations\n",
        "  tweet = tweet.translate(str.maketrans('', '', string.punctuation))\n",
        "\n",
        "  # # Remove extra space\n",
        "  tweet = re.sub(\"\\s+\", ' ', tweet)\n",
        "\n",
        "  return tweet"
      ],
      "execution_count": 92,
      "outputs": []
    },
    {
      "cell_type": "code",
      "metadata": {
        "colab": {
          "base_uri": "https://localhost:8080/"
        },
        "id": "vqJfEW2di6be",
        "outputId": "20f59748-9ab5-4bfc-ac4c-f3b82f0136b5"
      },
      "source": [
        "test_tweet = train.sample(1).values[0,2]\n",
        "print(\n",
        "    'Cleaning example\\nOriginal Tweet:', test_tweet, \n",
        "    'Tweet cleaned with NLTK', clean(test_tweet),\n",
        "    'Tweet cleaned with Spacy', clean(test_tweet, stop_words='spacy'),\n",
        "    sep='\\n'\n",
        "    )"
      ],
      "execution_count": 88,
      "outputs": [
        {
          "output_type": "stream",
          "text": [
            "Cleaning example\n",
            "Original Tweet:\n",
            "You Are Invited to The Expo Explosion Summer Event 2015! \n",
            "WHEN: August 14th Friday 2015\n",
            "WHERE: Ben E Keith... http://t.co/yh4R7Ug21a\n",
            "Tweet cleaned with NLTK\n",
            "Invited Expo Explosion Summer Event 2015 August 14th Friday 2015 Ben E Keith \n",
            "Tweet cleaned with Spacy\n",
            "Invited Expo Explosion Summer Event 2015 August 14th Friday 2015 Ben E Keith \n"
          ],
          "name": "stdout"
        }
      ]
    },
    {
      "cell_type": "code",
      "metadata": {
        "id": "eoEupP8msU8g"
      },
      "source": [
        "train['nltk_text'] = train.text.apply(lambda x:clean(x))\n",
        "train['spcy_text'] = train.text.apply(lambda x:clean(x, stop_words='spacy'))"
      ],
      "execution_count": 89,
      "outputs": []
    },
    {
      "cell_type": "code",
      "metadata": {
        "colab": {
          "base_uri": "https://localhost:8080/",
          "height": 289
        },
        "id": "HNWxs6qDs5AD",
        "outputId": "c067f5bb-c457-4bee-91c2-13885c0a3636"
      },
      "source": [
        "train.sample(5)"
      ],
      "execution_count": 91,
      "outputs": [
        {
          "output_type": "execute_result",
          "data": {
            "text/html": [
              "<div>\n",
              "<style scoped>\n",
              "    .dataframe tbody tr th:only-of-type {\n",
              "        vertical-align: middle;\n",
              "    }\n",
              "\n",
              "    .dataframe tbody tr th {\n",
              "        vertical-align: top;\n",
              "    }\n",
              "\n",
              "    .dataframe thead th {\n",
              "        text-align: right;\n",
              "    }\n",
              "</style>\n",
              "<table border=\"1\" class=\"dataframe\">\n",
              "  <thead>\n",
              "    <tr style=\"text-align: right;\">\n",
              "      <th></th>\n",
              "      <th>keyword</th>\n",
              "      <th>location</th>\n",
              "      <th>text</th>\n",
              "      <th>target</th>\n",
              "      <th>nltk_text</th>\n",
              "      <th>spcy_text</th>\n",
              "    </tr>\n",
              "  </thead>\n",
              "  <tbody>\n",
              "    <tr>\n",
              "      <th>7414</th>\n",
              "      <td>wounded</td>\n",
              "      <td>Suva, Fiji Islands.</td>\n",
              "      <td>GENERAL AUDIENCE: On Wounded Families | ZENIT ...</td>\n",
              "      <td>0</td>\n",
              "      <td>GENERAL AUDIENCE Wounded Families ZENIT World ...</td>\n",
              "      <td>GENERAL AUDIENCE Wounded Families ZENIT World ...</td>\n",
              "    </tr>\n",
              "    <tr>\n",
              "      <th>4777</th>\n",
              "      <td>lightning</td>\n",
              "      <td>Waverly, IA</td>\n",
              "      <td>'When you walk away\\nNothing more to say\\nSee ...</td>\n",
              "      <td>0</td>\n",
              "      <td>When walk away lightning eyes Û÷em running li...</td>\n",
              "      <td>When walk away lightning eyes Û÷em running li...</td>\n",
              "    </tr>\n",
              "    <tr>\n",
              "      <th>2104</th>\n",
              "      <td>death</td>\n",
              "      <td>Kensington, MD</td>\n",
              "      <td>http://t.co/lMA39ZRWoY There is a way which se...</td>\n",
              "      <td>1</td>\n",
              "      <td>way seemeth right unto man end thereof ways de...</td>\n",
              "      <td>way seemeth right unto man end thereof ways de...</td>\n",
              "    </tr>\n",
              "    <tr>\n",
              "      <th>7056</th>\n",
              "      <td>upheaval</td>\n",
              "      <td>Oregon</td>\n",
              "      <td>A look at state actions a year after Ferguson'...</td>\n",
              "      <td>0</td>\n",
              "      <td>look state actions year Ferguson upheaval</td>\n",
              "      <td>look state actions year Ferguson upheaval</td>\n",
              "    </tr>\n",
              "    <tr>\n",
              "      <th>2790</th>\n",
              "      <td>disaster</td>\n",
              "      <td>no_location</td>\n",
              "      <td>My first staining attempt was a disaster https...</td>\n",
              "      <td>0</td>\n",
              "      <td>staining attempt disaster</td>\n",
              "      <td>staining attempt disaster</td>\n",
              "    </tr>\n",
              "  </tbody>\n",
              "</table>\n",
              "</div>"
            ],
            "text/plain": [
              "        keyword  ...                                          spcy_text\n",
              "7414    wounded  ...  GENERAL AUDIENCE Wounded Families ZENIT World ...\n",
              "4777  lightning  ...  When walk away lightning eyes Û÷em running li...\n",
              "2104      death  ...  way seemeth right unto man end thereof ways de...\n",
              "7056   upheaval  ...          look state actions year Ferguson upheaval\n",
              "2790   disaster  ...                          staining attempt disaster\n",
              "\n",
              "[5 rows x 6 columns]"
            ]
          },
          "metadata": {
            "tags": []
          },
          "execution_count": 91
        }
      ]
    }
  ]
}