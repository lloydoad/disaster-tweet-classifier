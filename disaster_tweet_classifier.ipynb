{
  "nbformat": 4,
  "nbformat_minor": 0,
  "metadata": {
    "colab": {
      "name": "disaster-tweet-classifier.ipynb",
      "provenance": [],
      "collapsed_sections": [],
      "mount_file_id": "1_ffYXil63R-Aa7ldt60coHkJxeHHczuP",
      "authorship_tag": "ABX9TyPhjR/j/WuL+wMa3xTs+1r/",
      "include_colab_link": true
    },
    "kernelspec": {
      "name": "python3",
      "display_name": "Python 3"
    },
    "accelerator": "GPU"
  },
  "cells": [
    {
      "cell_type": "markdown",
      "metadata": {
        "id": "view-in-github",
        "colab_type": "text"
      },
      "source": [
        "<a href=\"https://colab.research.google.com/github/lloydoad/disaster-tweet-classifier/blob/master/disaster_tweet_classifier.ipynb\" target=\"_parent\"><img src=\"https://colab.research.google.com/assets/colab-badge.svg\" alt=\"Open In Colab\"/></a>"
      ]
    },
    {
      "cell_type": "code",
      "metadata": {
        "id": "y08Kj2VmCpGa"
      },
      "source": [
        "!wget --quiet https://raw.githubusercontent.com/tensorflow/models/master/official/nlp/bert/tokenization.py"
      ],
      "execution_count": 1,
      "outputs": []
    },
    {
      "cell_type": "code",
      "metadata": {
        "colab": {
          "base_uri": "https://localhost:8080/"
        },
        "id": "kZWZEl5xEfNu",
        "outputId": "aeccec0e-8f34-4fa0-a8c8-4d11d6b5a6a1"
      },
      "source": [
        "!pip install sentencepiece"
      ],
      "execution_count": 2,
      "outputs": [
        {
          "output_type": "stream",
          "text": [
            "Collecting sentencepiece\n",
            "\u001b[?25l  Downloading https://files.pythonhosted.org/packages/e5/2d/6d4ca4bef9a67070fa1cac508606328329152b1df10bdf31fb6e4e727894/sentencepiece-0.1.94-cp36-cp36m-manylinux2014_x86_64.whl (1.1MB)\n",
            "\r\u001b[K     |▎                               | 10kB 20.1MB/s eta 0:00:01\r\u001b[K     |▋                               | 20kB 27.6MB/s eta 0:00:01\r\u001b[K     |▉                               | 30kB 25.0MB/s eta 0:00:01\r\u001b[K     |█▏                              | 40kB 22.0MB/s eta 0:00:01\r\u001b[K     |█▌                              | 51kB 21.2MB/s eta 0:00:01\r\u001b[K     |█▊                              | 61kB 15.4MB/s eta 0:00:01\r\u001b[K     |██                              | 71kB 16.3MB/s eta 0:00:01\r\u001b[K     |██▍                             | 81kB 15.5MB/s eta 0:00:01\r\u001b[K     |██▋                             | 92kB 13.2MB/s eta 0:00:01\r\u001b[K     |███                             | 102kB 13.9MB/s eta 0:00:01\r\u001b[K     |███▎                            | 112kB 13.9MB/s eta 0:00:01\r\u001b[K     |███▌                            | 122kB 13.9MB/s eta 0:00:01\r\u001b[K     |███▉                            | 133kB 13.9MB/s eta 0:00:01\r\u001b[K     |████▏                           | 143kB 13.9MB/s eta 0:00:01\r\u001b[K     |████▍                           | 153kB 13.9MB/s eta 0:00:01\r\u001b[K     |████▊                           | 163kB 13.9MB/s eta 0:00:01\r\u001b[K     |█████                           | 174kB 13.9MB/s eta 0:00:01\r\u001b[K     |█████▎                          | 184kB 13.9MB/s eta 0:00:01\r\u001b[K     |█████▋                          | 194kB 13.9MB/s eta 0:00:01\r\u001b[K     |█████▉                          | 204kB 13.9MB/s eta 0:00:01\r\u001b[K     |██████▏                         | 215kB 13.9MB/s eta 0:00:01\r\u001b[K     |██████▌                         | 225kB 13.9MB/s eta 0:00:01\r\u001b[K     |██████▊                         | 235kB 13.9MB/s eta 0:00:01\r\u001b[K     |███████                         | 245kB 13.9MB/s eta 0:00:01\r\u001b[K     |███████▍                        | 256kB 13.9MB/s eta 0:00:01\r\u001b[K     |███████▋                        | 266kB 13.9MB/s eta 0:00:01\r\u001b[K     |████████                        | 276kB 13.9MB/s eta 0:00:01\r\u001b[K     |████████▎                       | 286kB 13.9MB/s eta 0:00:01\r\u001b[K     |████████▌                       | 296kB 13.9MB/s eta 0:00:01\r\u001b[K     |████████▉                       | 307kB 13.9MB/s eta 0:00:01\r\u001b[K     |█████████                       | 317kB 13.9MB/s eta 0:00:01\r\u001b[K     |█████████▍                      | 327kB 13.9MB/s eta 0:00:01\r\u001b[K     |█████████▊                      | 337kB 13.9MB/s eta 0:00:01\r\u001b[K     |██████████                      | 348kB 13.9MB/s eta 0:00:01\r\u001b[K     |██████████▎                     | 358kB 13.9MB/s eta 0:00:01\r\u001b[K     |██████████▋                     | 368kB 13.9MB/s eta 0:00:01\r\u001b[K     |██████████▉                     | 378kB 13.9MB/s eta 0:00:01\r\u001b[K     |███████████▏                    | 389kB 13.9MB/s eta 0:00:01\r\u001b[K     |███████████▌                    | 399kB 13.9MB/s eta 0:00:01\r\u001b[K     |███████████▊                    | 409kB 13.9MB/s eta 0:00:01\r\u001b[K     |████████████                    | 419kB 13.9MB/s eta 0:00:01\r\u001b[K     |████████████▍                   | 430kB 13.9MB/s eta 0:00:01\r\u001b[K     |████████████▋                   | 440kB 13.9MB/s eta 0:00:01\r\u001b[K     |█████████████                   | 450kB 13.9MB/s eta 0:00:01\r\u001b[K     |█████████████▎                  | 460kB 13.9MB/s eta 0:00:01\r\u001b[K     |█████████████▌                  | 471kB 13.9MB/s eta 0:00:01\r\u001b[K     |█████████████▉                  | 481kB 13.9MB/s eta 0:00:01\r\u001b[K     |██████████████                  | 491kB 13.9MB/s eta 0:00:01\r\u001b[K     |██████████████▍                 | 501kB 13.9MB/s eta 0:00:01\r\u001b[K     |██████████████▊                 | 512kB 13.9MB/s eta 0:00:01\r\u001b[K     |███████████████                 | 522kB 13.9MB/s eta 0:00:01\r\u001b[K     |███████████████▎                | 532kB 13.9MB/s eta 0:00:01\r\u001b[K     |███████████████▋                | 542kB 13.9MB/s eta 0:00:01\r\u001b[K     |███████████████▉                | 552kB 13.9MB/s eta 0:00:01\r\u001b[K     |████████████████▏               | 563kB 13.9MB/s eta 0:00:01\r\u001b[K     |████████████████▌               | 573kB 13.9MB/s eta 0:00:01\r\u001b[K     |████████████████▊               | 583kB 13.9MB/s eta 0:00:01\r\u001b[K     |█████████████████               | 593kB 13.9MB/s eta 0:00:01\r\u001b[K     |█████████████████▍              | 604kB 13.9MB/s eta 0:00:01\r\u001b[K     |█████████████████▋              | 614kB 13.9MB/s eta 0:00:01\r\u001b[K     |██████████████████              | 624kB 13.9MB/s eta 0:00:01\r\u001b[K     |██████████████████▏             | 634kB 13.9MB/s eta 0:00:01\r\u001b[K     |██████████████████▌             | 645kB 13.9MB/s eta 0:00:01\r\u001b[K     |██████████████████▉             | 655kB 13.9MB/s eta 0:00:01\r\u001b[K     |███████████████████             | 665kB 13.9MB/s eta 0:00:01\r\u001b[K     |███████████████████▍            | 675kB 13.9MB/s eta 0:00:01\r\u001b[K     |███████████████████▊            | 686kB 13.9MB/s eta 0:00:01\r\u001b[K     |████████████████████            | 696kB 13.9MB/s eta 0:00:01\r\u001b[K     |████████████████████▎           | 706kB 13.9MB/s eta 0:00:01\r\u001b[K     |████████████████████▋           | 716kB 13.9MB/s eta 0:00:01\r\u001b[K     |████████████████████▉           | 727kB 13.9MB/s eta 0:00:01\r\u001b[K     |█████████████████████▏          | 737kB 13.9MB/s eta 0:00:01\r\u001b[K     |█████████████████████▌          | 747kB 13.9MB/s eta 0:00:01\r\u001b[K     |█████████████████████▊          | 757kB 13.9MB/s eta 0:00:01\r\u001b[K     |██████████████████████          | 768kB 13.9MB/s eta 0:00:01\r\u001b[K     |██████████████████████▎         | 778kB 13.9MB/s eta 0:00:01\r\u001b[K     |██████████████████████▋         | 788kB 13.9MB/s eta 0:00:01\r\u001b[K     |███████████████████████         | 798kB 13.9MB/s eta 0:00:01\r\u001b[K     |███████████████████████▏        | 808kB 13.9MB/s eta 0:00:01\r\u001b[K     |███████████████████████▌        | 819kB 13.9MB/s eta 0:00:01\r\u001b[K     |███████████████████████▉        | 829kB 13.9MB/s eta 0:00:01\r\u001b[K     |████████████████████████        | 839kB 13.9MB/s eta 0:00:01\r\u001b[K     |████████████████████████▍       | 849kB 13.9MB/s eta 0:00:01\r\u001b[K     |████████████████████████▊       | 860kB 13.9MB/s eta 0:00:01\r\u001b[K     |█████████████████████████       | 870kB 13.9MB/s eta 0:00:01\r\u001b[K     |█████████████████████████▎      | 880kB 13.9MB/s eta 0:00:01\r\u001b[K     |█████████████████████████▋      | 890kB 13.9MB/s eta 0:00:01\r\u001b[K     |█████████████████████████▉      | 901kB 13.9MB/s eta 0:00:01\r\u001b[K     |██████████████████████████▏     | 911kB 13.9MB/s eta 0:00:01\r\u001b[K     |██████████████████████████▌     | 921kB 13.9MB/s eta 0:00:01\r\u001b[K     |██████████████████████████▊     | 931kB 13.9MB/s eta 0:00:01\r\u001b[K     |███████████████████████████     | 942kB 13.9MB/s eta 0:00:01\r\u001b[K     |███████████████████████████▎    | 952kB 13.9MB/s eta 0:00:01\r\u001b[K     |███████████████████████████▋    | 962kB 13.9MB/s eta 0:00:01\r\u001b[K     |████████████████████████████    | 972kB 13.9MB/s eta 0:00:01\r\u001b[K     |████████████████████████████▏   | 983kB 13.9MB/s eta 0:00:01\r\u001b[K     |████████████████████████████▌   | 993kB 13.9MB/s eta 0:00:01\r\u001b[K     |████████████████████████████▉   | 1.0MB 13.9MB/s eta 0:00:01\r\u001b[K     |█████████████████████████████   | 1.0MB 13.9MB/s eta 0:00:01\r\u001b[K     |█████████████████████████████▍  | 1.0MB 13.9MB/s eta 0:00:01\r\u001b[K     |█████████████████████████████▊  | 1.0MB 13.9MB/s eta 0:00:01\r\u001b[K     |██████████████████████████████  | 1.0MB 13.9MB/s eta 0:00:01\r\u001b[K     |██████████████████████████████▎ | 1.1MB 13.9MB/s eta 0:00:01\r\u001b[K     |██████████████████████████████▋ | 1.1MB 13.9MB/s eta 0:00:01\r\u001b[K     |██████████████████████████████▉ | 1.1MB 13.9MB/s eta 0:00:01\r\u001b[K     |███████████████████████████████▏| 1.1MB 13.9MB/s eta 0:00:01\r\u001b[K     |███████████████████████████████▍| 1.1MB 13.9MB/s eta 0:00:01\r\u001b[K     |███████████████████████████████▊| 1.1MB 13.9MB/s eta 0:00:01\r\u001b[K     |████████████████████████████████| 1.1MB 13.9MB/s \n",
            "\u001b[?25hInstalling collected packages: sentencepiece\n",
            "Successfully installed sentencepiece-0.1.94\n"
          ],
          "name": "stdout"
        }
      ]
    },
    {
      "cell_type": "code",
      "metadata": {
        "id": "FGNnXylvMSTY"
      },
      "source": [
        "import string\n",
        "import spacy\n",
        "import nltk\n",
        "import pandas as pd\n",
        "import numpy as np\n",
        "import regex as re\n",
        "import matplotlib.pyplot as plt\n",
        "from matplotlib.pyplot import figure\n",
        "from nltk.tokenize import word_tokenize\n",
        "from nltk.corpus import stopwords"
      ],
      "execution_count": 3,
      "outputs": []
    },
    {
      "cell_type": "code",
      "metadata": {
        "id": "OVI5JV_JC8AS"
      },
      "source": [
        "import keras\n",
        "import sklearn\n",
        "import tokenization\n",
        "import tensorflow_hub as hub\n",
        "from keras import layers\n",
        "from keras import Model\n",
        "from keras.optimizers import Adam, RMSprop, SGD\n",
        "from keras.callbacks import ModelCheckpoint, Callback\n",
        "from keras.layers import Dense, Input, Dropout, GlobalAveragePooling1D\n",
        "from sklearn.model_selection import StratifiedKFold, StratifiedShuffleSplit\n",
        "from sklearn.metrics import precision_score, recall_score, f1_score "
      ],
      "execution_count": 4,
      "outputs": []
    },
    {
      "cell_type": "markdown",
      "metadata": {
        "id": "d6ZEWckrNOIW"
      },
      "source": [
        "# Exploration"
      ]
    },
    {
      "cell_type": "code",
      "metadata": {
        "id": "Yzy1Pa9uNRWi"
      },
      "source": [
        "train_url_path = 'https://raw.githubusercontent.com/lloydoad/disaster-tweet-classifier/master/datasets/train.csv'\n",
        "test_url_path = 'https://raw.githubusercontent.com/lloydoad/disaster-tweet-classifier/master/datasets/test.csv'\n",
        "train = pd.read_csv(train_url_path, error_bad_lines=False)\n",
        "test = pd.read_csv(test_url_path, error_bad_lines=False)\n",
        "train = train.drop('id', axis=1)\n",
        "test = test.drop('id', axis=1)"
      ],
      "execution_count": 5,
      "outputs": []
    },
    {
      "cell_type": "code",
      "metadata": {
        "colab": {
          "base_uri": "https://localhost:8080/"
        },
        "id": "Nq96vjKXQKGY",
        "outputId": "7f139fa3-76b3-41a4-842c-2449862418f6"
      },
      "source": [
        "train_length, test_length, feature_count = train.shape[0], test.shape[0], test.shape[1]\n",
        "print('Number of features: ', feature_count)\n",
        "print('Number of instances in training set: ', train_length)\n",
        "print('Number of instances in test set: ', test_length)\n",
        "print('Total number of instances:', train_length + test_length)"
      ],
      "execution_count": 6,
      "outputs": [
        {
          "output_type": "stream",
          "text": [
            "Number of features:  3\n",
            "Number of instances in training set:  7613\n",
            "Number of instances in test set:  3263\n",
            "Total number of instances: 10876\n"
          ],
          "name": "stdout"
        }
      ]
    },
    {
      "cell_type": "code",
      "metadata": {
        "colab": {
          "base_uri": "https://localhost:8080/",
          "height": 376
        },
        "id": "haFAyJ1QRQF_",
        "outputId": "7c48af18-be3b-42a7-e7b6-21e263fbb382"
      },
      "source": [
        "print('First 10 train datapoints')\n",
        "train.head(10)"
      ],
      "execution_count": 7,
      "outputs": [
        {
          "output_type": "stream",
          "text": [
            "First 10 train datapoints\n"
          ],
          "name": "stdout"
        },
        {
          "output_type": "execute_result",
          "data": {
            "text/html": [
              "<div>\n",
              "<style scoped>\n",
              "    .dataframe tbody tr th:only-of-type {\n",
              "        vertical-align: middle;\n",
              "    }\n",
              "\n",
              "    .dataframe tbody tr th {\n",
              "        vertical-align: top;\n",
              "    }\n",
              "\n",
              "    .dataframe thead th {\n",
              "        text-align: right;\n",
              "    }\n",
              "</style>\n",
              "<table border=\"1\" class=\"dataframe\">\n",
              "  <thead>\n",
              "    <tr style=\"text-align: right;\">\n",
              "      <th></th>\n",
              "      <th>keyword</th>\n",
              "      <th>location</th>\n",
              "      <th>text</th>\n",
              "      <th>target</th>\n",
              "    </tr>\n",
              "  </thead>\n",
              "  <tbody>\n",
              "    <tr>\n",
              "      <th>0</th>\n",
              "      <td>NaN</td>\n",
              "      <td>NaN</td>\n",
              "      <td>Our Deeds are the Reason of this #earthquake M...</td>\n",
              "      <td>1</td>\n",
              "    </tr>\n",
              "    <tr>\n",
              "      <th>1</th>\n",
              "      <td>NaN</td>\n",
              "      <td>NaN</td>\n",
              "      <td>Forest fire near La Ronge Sask. Canada</td>\n",
              "      <td>1</td>\n",
              "    </tr>\n",
              "    <tr>\n",
              "      <th>2</th>\n",
              "      <td>NaN</td>\n",
              "      <td>NaN</td>\n",
              "      <td>All residents asked to 'shelter in place' are ...</td>\n",
              "      <td>1</td>\n",
              "    </tr>\n",
              "    <tr>\n",
              "      <th>3</th>\n",
              "      <td>NaN</td>\n",
              "      <td>NaN</td>\n",
              "      <td>13,000 people receive #wildfires evacuation or...</td>\n",
              "      <td>1</td>\n",
              "    </tr>\n",
              "    <tr>\n",
              "      <th>4</th>\n",
              "      <td>NaN</td>\n",
              "      <td>NaN</td>\n",
              "      <td>Just got sent this photo from Ruby #Alaska as ...</td>\n",
              "      <td>1</td>\n",
              "    </tr>\n",
              "    <tr>\n",
              "      <th>5</th>\n",
              "      <td>NaN</td>\n",
              "      <td>NaN</td>\n",
              "      <td>#RockyFire Update =&gt; California Hwy. 20 closed...</td>\n",
              "      <td>1</td>\n",
              "    </tr>\n",
              "    <tr>\n",
              "      <th>6</th>\n",
              "      <td>NaN</td>\n",
              "      <td>NaN</td>\n",
              "      <td>#flood #disaster Heavy rain causes flash flood...</td>\n",
              "      <td>1</td>\n",
              "    </tr>\n",
              "    <tr>\n",
              "      <th>7</th>\n",
              "      <td>NaN</td>\n",
              "      <td>NaN</td>\n",
              "      <td>I'm on top of the hill and I can see a fire in...</td>\n",
              "      <td>1</td>\n",
              "    </tr>\n",
              "    <tr>\n",
              "      <th>8</th>\n",
              "      <td>NaN</td>\n",
              "      <td>NaN</td>\n",
              "      <td>There's an emergency evacuation happening now ...</td>\n",
              "      <td>1</td>\n",
              "    </tr>\n",
              "    <tr>\n",
              "      <th>9</th>\n",
              "      <td>NaN</td>\n",
              "      <td>NaN</td>\n",
              "      <td>I'm afraid that the tornado is coming to our a...</td>\n",
              "      <td>1</td>\n",
              "    </tr>\n",
              "  </tbody>\n",
              "</table>\n",
              "</div>"
            ],
            "text/plain": [
              "  keyword location                                               text  target\n",
              "0     NaN      NaN  Our Deeds are the Reason of this #earthquake M...       1\n",
              "1     NaN      NaN             Forest fire near La Ronge Sask. Canada       1\n",
              "2     NaN      NaN  All residents asked to 'shelter in place' are ...       1\n",
              "3     NaN      NaN  13,000 people receive #wildfires evacuation or...       1\n",
              "4     NaN      NaN  Just got sent this photo from Ruby #Alaska as ...       1\n",
              "5     NaN      NaN  #RockyFire Update => California Hwy. 20 closed...       1\n",
              "6     NaN      NaN  #flood #disaster Heavy rain causes flash flood...       1\n",
              "7     NaN      NaN  I'm on top of the hill and I can see a fire in...       1\n",
              "8     NaN      NaN  There's an emergency evacuation happening now ...       1\n",
              "9     NaN      NaN  I'm afraid that the tornado is coming to our a...       1"
            ]
          },
          "metadata": {
            "tags": []
          },
          "execution_count": 7
        }
      ]
    },
    {
      "cell_type": "code",
      "metadata": {
        "colab": {
          "base_uri": "https://localhost:8080/",
          "height": 376
        },
        "id": "Xfn8MnerRSEf",
        "outputId": "44856fc5-c658-4c68-ab58-f05775582d63"
      },
      "source": [
        "print('First 10 test datapoints')\n",
        "test.head(10)"
      ],
      "execution_count": 8,
      "outputs": [
        {
          "output_type": "stream",
          "text": [
            "First 10 test datapoints\n"
          ],
          "name": "stdout"
        },
        {
          "output_type": "execute_result",
          "data": {
            "text/html": [
              "<div>\n",
              "<style scoped>\n",
              "    .dataframe tbody tr th:only-of-type {\n",
              "        vertical-align: middle;\n",
              "    }\n",
              "\n",
              "    .dataframe tbody tr th {\n",
              "        vertical-align: top;\n",
              "    }\n",
              "\n",
              "    .dataframe thead th {\n",
              "        text-align: right;\n",
              "    }\n",
              "</style>\n",
              "<table border=\"1\" class=\"dataframe\">\n",
              "  <thead>\n",
              "    <tr style=\"text-align: right;\">\n",
              "      <th></th>\n",
              "      <th>keyword</th>\n",
              "      <th>location</th>\n",
              "      <th>text</th>\n",
              "    </tr>\n",
              "  </thead>\n",
              "  <tbody>\n",
              "    <tr>\n",
              "      <th>0</th>\n",
              "      <td>NaN</td>\n",
              "      <td>NaN</td>\n",
              "      <td>Just happened a terrible car crash</td>\n",
              "    </tr>\n",
              "    <tr>\n",
              "      <th>1</th>\n",
              "      <td>NaN</td>\n",
              "      <td>NaN</td>\n",
              "      <td>Heard about #earthquake is different cities, s...</td>\n",
              "    </tr>\n",
              "    <tr>\n",
              "      <th>2</th>\n",
              "      <td>NaN</td>\n",
              "      <td>NaN</td>\n",
              "      <td>there is a forest fire at spot pond, geese are...</td>\n",
              "    </tr>\n",
              "    <tr>\n",
              "      <th>3</th>\n",
              "      <td>NaN</td>\n",
              "      <td>NaN</td>\n",
              "      <td>Apocalypse lighting. #Spokane #wildfires</td>\n",
              "    </tr>\n",
              "    <tr>\n",
              "      <th>4</th>\n",
              "      <td>NaN</td>\n",
              "      <td>NaN</td>\n",
              "      <td>Typhoon Soudelor kills 28 in China and Taiwan</td>\n",
              "    </tr>\n",
              "    <tr>\n",
              "      <th>5</th>\n",
              "      <td>NaN</td>\n",
              "      <td>NaN</td>\n",
              "      <td>We're shaking...It's an earthquake</td>\n",
              "    </tr>\n",
              "    <tr>\n",
              "      <th>6</th>\n",
              "      <td>NaN</td>\n",
              "      <td>NaN</td>\n",
              "      <td>They'd probably still show more life than Arse...</td>\n",
              "    </tr>\n",
              "    <tr>\n",
              "      <th>7</th>\n",
              "      <td>NaN</td>\n",
              "      <td>NaN</td>\n",
              "      <td>Hey! How are you?</td>\n",
              "    </tr>\n",
              "    <tr>\n",
              "      <th>8</th>\n",
              "      <td>NaN</td>\n",
              "      <td>NaN</td>\n",
              "      <td>What a nice hat?</td>\n",
              "    </tr>\n",
              "    <tr>\n",
              "      <th>9</th>\n",
              "      <td>NaN</td>\n",
              "      <td>NaN</td>\n",
              "      <td>Fuck off!</td>\n",
              "    </tr>\n",
              "  </tbody>\n",
              "</table>\n",
              "</div>"
            ],
            "text/plain": [
              "  keyword location                                               text\n",
              "0     NaN      NaN                 Just happened a terrible car crash\n",
              "1     NaN      NaN  Heard about #earthquake is different cities, s...\n",
              "2     NaN      NaN  there is a forest fire at spot pond, geese are...\n",
              "3     NaN      NaN           Apocalypse lighting. #Spokane #wildfires\n",
              "4     NaN      NaN      Typhoon Soudelor kills 28 in China and Taiwan\n",
              "5     NaN      NaN                 We're shaking...It's an earthquake\n",
              "6     NaN      NaN  They'd probably still show more life than Arse...\n",
              "7     NaN      NaN                                  Hey! How are you?\n",
              "8     NaN      NaN                                   What a nice hat?\n",
              "9     NaN      NaN                                          Fuck off!"
            ]
          },
          "metadata": {
            "tags": []
          },
          "execution_count": 8
        }
      ]
    },
    {
      "cell_type": "code",
      "metadata": {
        "colab": {
          "base_uri": "https://localhost:8080/"
        },
        "id": "jf4Ftrf7TT90",
        "outputId": "f52b9568-2d44-4483-a2a8-36f3d4f53224"
      },
      "source": [
        "train_missing_keywords, test_missing_keywords = train.keyword.isna().sum(), test.keyword.isna().sum()\n",
        "train_missing_location, test_missing_location = train.location.isna().sum(), test.location.isna().sum()\n",
        "print('Number of missing keywords: Train {}, Test {}'.format(train_missing_keywords, test_missing_keywords))\n",
        "print('Number of missing location: Train {}, Test {}'.format(train_missing_location, test_missing_location))"
      ],
      "execution_count": 9,
      "outputs": [
        {
          "output_type": "stream",
          "text": [
            "Number of missing keywords: Train 61, Test 26\n",
            "Number of missing location: Train 2533, Test 1105\n"
          ],
          "name": "stdout"
        }
      ]
    },
    {
      "cell_type": "code",
      "metadata": {
        "id": "CyONVvuAWUgz"
      },
      "source": [
        "for dataFrame in [train, test]:\n",
        "  dataFrame.keyword.fillna('no_keywords', inplace=True)\n",
        "  dataFrame.location.fillna('no_location', inplace=True)"
      ],
      "execution_count": 10,
      "outputs": []
    },
    {
      "cell_type": "markdown",
      "metadata": {
        "id": "XMxzJnzdXVNp"
      },
      "source": [
        "Looking at the number of missing values for keywords and location for both training and test set, we see that there are more missing locations (**~33%**) than keywords (**~0.8%**)\n",
        "Unavailable keyword or location features are explicitly stated. "
      ]
    },
    {
      "cell_type": "code",
      "metadata": {
        "colab": {
          "base_uri": "https://localhost:8080/",
          "height": 669
        },
        "id": "EvDRcgjjXEBM",
        "outputId": "8b2234e7-6f37-4b19-f240-9457896c314e"
      },
      "source": [
        "train.sample(20)"
      ],
      "execution_count": 11,
      "outputs": [
        {
          "output_type": "execute_result",
          "data": {
            "text/html": [
              "<div>\n",
              "<style scoped>\n",
              "    .dataframe tbody tr th:only-of-type {\n",
              "        vertical-align: middle;\n",
              "    }\n",
              "\n",
              "    .dataframe tbody tr th {\n",
              "        vertical-align: top;\n",
              "    }\n",
              "\n",
              "    .dataframe thead th {\n",
              "        text-align: right;\n",
              "    }\n",
              "</style>\n",
              "<table border=\"1\" class=\"dataframe\">\n",
              "  <thead>\n",
              "    <tr style=\"text-align: right;\">\n",
              "      <th></th>\n",
              "      <th>keyword</th>\n",
              "      <th>location</th>\n",
              "      <th>text</th>\n",
              "      <th>target</th>\n",
              "    </tr>\n",
              "  </thead>\n",
              "  <tbody>\n",
              "    <tr>\n",
              "      <th>4631</th>\n",
              "      <td>injury</td>\n",
              "      <td>no_location</td>\n",
              "      <td>incident with injury:I-495  inner loop Exit 31...</td>\n",
              "      <td>1</td>\n",
              "    </tr>\n",
              "    <tr>\n",
              "      <th>2418</th>\n",
              "      <td>derailed</td>\n",
              "      <td>US</td>\n",
              "      <td>Breakfast links: Work from home: Derailed: An ...</td>\n",
              "      <td>1</td>\n",
              "    </tr>\n",
              "    <tr>\n",
              "      <th>3404</th>\n",
              "      <td>explode</td>\n",
              "      <td>New Orleans, Louisiana</td>\n",
              "      <td>See these guys reaching the front foot out loa...</td>\n",
              "      <td>0</td>\n",
              "    </tr>\n",
              "    <tr>\n",
              "      <th>2191</th>\n",
              "      <td>debris</td>\n",
              "      <td>no_location</td>\n",
              "      <td>Plane debris discovered on Reunion Island belo...</td>\n",
              "      <td>1</td>\n",
              "    </tr>\n",
              "    <tr>\n",
              "      <th>3157</th>\n",
              "      <td>emergency</td>\n",
              "      <td>no_location</td>\n",
              "      <td>Loans until settlement day ??ÛÏ emergency mon...</td>\n",
              "      <td>0</td>\n",
              "    </tr>\n",
              "    <tr>\n",
              "      <th>3850</th>\n",
              "      <td>flames</td>\n",
              "      <td>hell</td>\n",
              "      <td>@gilderoy i wish i was good enough to add flam...</td>\n",
              "      <td>1</td>\n",
              "    </tr>\n",
              "    <tr>\n",
              "      <th>2493</th>\n",
              "      <td>desolate</td>\n",
              "      <td>Macclesfield</td>\n",
              "      <td>@binellithresa TY for the follow Go To http://...</td>\n",
              "      <td>1</td>\n",
              "    </tr>\n",
              "    <tr>\n",
              "      <th>1445</th>\n",
              "      <td>casualty</td>\n",
              "      <td>no_location</td>\n",
              "      <td>AM Best Special Report: How Metrics Correlate ...</td>\n",
              "      <td>0</td>\n",
              "    </tr>\n",
              "    <tr>\n",
              "      <th>4116</th>\n",
              "      <td>hailstorm</td>\n",
              "      <td>Suginami-ku, Tokyo, Japan</td>\n",
              "      <td>Severe weather and a rare hailstorm pummel Bos...</td>\n",
              "      <td>1</td>\n",
              "    </tr>\n",
              "    <tr>\n",
              "      <th>2281</th>\n",
              "      <td>demolish</td>\n",
              "      <td>South Africa</td>\n",
              "      <td>Yea so I'm gonna demolish all those boundaries...</td>\n",
              "      <td>0</td>\n",
              "    </tr>\n",
              "    <tr>\n",
              "      <th>543</th>\n",
              "      <td>avalanche</td>\n",
              "      <td>Canada</td>\n",
              "      <td>What a feat! Watch the #BTS of @kallemattson's...</td>\n",
              "      <td>0</td>\n",
              "    </tr>\n",
              "    <tr>\n",
              "      <th>1533</th>\n",
              "      <td>chemical%20emergency</td>\n",
              "      <td>Welt</td>\n",
              "      <td>???? #Krefeld: the incident happened in a chem...</td>\n",
              "      <td>1</td>\n",
              "    </tr>\n",
              "    <tr>\n",
              "      <th>540</th>\n",
              "      <td>avalanche</td>\n",
              "      <td>Buy Give Me My Money</td>\n",
              "      <td>@funkflex yo flex im here https://t.co/2AZxdLCXgA</td>\n",
              "      <td>0</td>\n",
              "    </tr>\n",
              "    <tr>\n",
              "      <th>2515</th>\n",
              "      <td>desolation</td>\n",
              "      <td>no_location</td>\n",
              "      <td>RT @FreeDiscountBks: **Desolation Run** #FREE ...</td>\n",
              "      <td>0</td>\n",
              "    </tr>\n",
              "    <tr>\n",
              "      <th>2293</th>\n",
              "      <td>demolish</td>\n",
              "      <td>Napa, CA</td>\n",
              "      <td>Postal Service agrees to sell not demolish dow...</td>\n",
              "      <td>0</td>\n",
              "    </tr>\n",
              "    <tr>\n",
              "      <th>5268</th>\n",
              "      <td>oil%20spill</td>\n",
              "      <td>no_location</td>\n",
              "      <td>Plains: Calif. Oil Spill Could be Larger than ...</td>\n",
              "      <td>1</td>\n",
              "    </tr>\n",
              "    <tr>\n",
              "      <th>5139</th>\n",
              "      <td>nuclear%20reactor</td>\n",
              "      <td>SE London(heart is by the sea)</td>\n",
              "      <td>Rolling sandunes the gentle lapping of the sea...</td>\n",
              "      <td>1</td>\n",
              "    </tr>\n",
              "    <tr>\n",
              "      <th>474</th>\n",
              "      <td>attack</td>\n",
              "      <td>no_location</td>\n",
              "      <td>Nashville Theater Attack: Will Gun Grabbers No...</td>\n",
              "      <td>1</td>\n",
              "    </tr>\n",
              "    <tr>\n",
              "      <th>6762</th>\n",
              "      <td>tornado</td>\n",
              "      <td>no_location</td>\n",
              "      <td>Brunette beauty Night A stretches out on a vic...</td>\n",
              "      <td>0</td>\n",
              "    </tr>\n",
              "    <tr>\n",
              "      <th>1103</th>\n",
              "      <td>bombed</td>\n",
              "      <td>DÌ_sseldorf, Germany</td>\n",
              "      <td>On 1st August #Turkish jets bombed the village...</td>\n",
              "      <td>1</td>\n",
              "    </tr>\n",
              "  </tbody>\n",
              "</table>\n",
              "</div>"
            ],
            "text/plain": [
              "                   keyword  ... target\n",
              "4631                injury  ...      1\n",
              "2418              derailed  ...      1\n",
              "3404               explode  ...      0\n",
              "2191                debris  ...      1\n",
              "3157             emergency  ...      0\n",
              "3850                flames  ...      1\n",
              "2493              desolate  ...      1\n",
              "1445              casualty  ...      0\n",
              "4116             hailstorm  ...      1\n",
              "2281              demolish  ...      0\n",
              "543              avalanche  ...      0\n",
              "1533  chemical%20emergency  ...      1\n",
              "540              avalanche  ...      0\n",
              "2515            desolation  ...      0\n",
              "2293              demolish  ...      0\n",
              "5268           oil%20spill  ...      1\n",
              "5139     nuclear%20reactor  ...      1\n",
              "474                 attack  ...      1\n",
              "6762               tornado  ...      0\n",
              "1103                bombed  ...      1\n",
              "\n",
              "[20 rows x 4 columns]"
            ]
          },
          "metadata": {
            "tags": []
          },
          "execution_count": 11
        }
      ]
    },
    {
      "cell_type": "code",
      "metadata": {
        "colab": {
          "base_uri": "https://localhost:8080/",
          "height": 375
        },
        "id": "KPgfPVVeZz77",
        "outputId": "7a9bc981-86f2-4abd-ed00-86ab68272006"
      },
      "source": [
        "top_15_locations = train.groupby(['location']).count().text.sort_values(ascending=False)[:15]\n",
        "figure(figsize=(15,6))\n",
        "plt.plot(top_15_locations)\n",
        "plt.show()"
      ],
      "execution_count": 12,
      "outputs": [
        {
          "output_type": "display_data",
          "data": {
            "image/png": "[encoded data removed]",
            "text/plain": [
              "<Figure size 1080x432 with 1 Axes>"
            ]
          },
          "metadata": {
            "tags": [],
            "needs_background": "light"
          }
        }
      ]
    },
    {
      "cell_type": "markdown",
      "metadata": {
        "id": "6bkdPGoEdCUw"
      },
      "source": [
        "The frequency per unique location is very low. \n",
        "There's also multiple locations with different representations that mean the same thing; for example United States and USA.\n",
        "Location may not be an important factor in classifying texts due to it being varied and 1/3 of the datapoints not having any location feature at all."
      ]
    },
    {
      "cell_type": "markdown",
      "metadata": {
        "id": "0abstBbueB8A"
      },
      "source": [
        "# Preprocessing"
      ]
    },
    {
      "cell_type": "markdown",
      "metadata": {
        "id": "-RBOEAB2nR_y"
      },
      "source": [
        "First stage of processing for NLP is cleaning the tweet to take out stop words, http links, and extra characters like punctuations or trailing spaces."
      ]
    },
    {
      "cell_type": "code",
      "metadata": {
        "colab": {
          "base_uri": "https://localhost:8080/"
        },
        "id": "Hxb5ifoteY-C",
        "outputId": "f1653052-e9c3-4d90-8bc1-79d53d9dd55c"
      },
      "source": [
        "nlp = spacy.load('en')\n",
        "sp = spacy.load('en_core_web_sm')\n",
        "nltk.download('stopwords')\n",
        "nltk.download('punkt')"
      ],
      "execution_count": 13,
      "outputs": [
        {
          "output_type": "stream",
          "text": [
            "[nltk_data] Downloading package stopwords to /root/nltk_data...\n",
            "[nltk_data]   Unzipping corpora/stopwords.zip.\n",
            "[nltk_data] Downloading package punkt to /root/nltk_data...\n",
            "[nltk_data]   Unzipping tokenizers/punkt.zip.\n"
          ],
          "name": "stdout"
        },
        {
          "output_type": "execute_result",
          "data": {
            "text/plain": [
              "True"
            ]
          },
          "metadata": {
            "tags": []
          },
          "execution_count": 13
        }
      ]
    },
    {
      "cell_type": "code",
      "metadata": {
        "colab": {
          "base_uri": "https://localhost:8080/"
        },
        "id": "v_Oi8uWWfJDS",
        "outputId": "71c8fbfb-c7d7-490a-f4ad-90b5be2e6336"
      },
      "source": [
        "spacy_stop_words = nlp.Defaults.stop_words\n",
        "nltk_stop_words = stopwords.words('english')\n",
        "all_stop_words = spacy_stop_words.union(nltk_stop_words)\n",
        "print('Number of stop words: ', len(all_stop_words))"
      ],
      "execution_count": 14,
      "outputs": [
        {
          "output_type": "stream",
          "text": [
            "Number of stop words:  382\n"
          ],
          "name": "stdout"
        }
      ]
    },
    {
      "cell_type": "code",
      "metadata": {
        "id": "bm2g1WJ7fcX1"
      },
      "source": [
        "def clean(tweet):\n",
        "  # Remove link portion of attachments in tweet\n",
        "  tweet = re.sub('https?:\\/\\/t.co\\/[A-Za-z0-9]*', '', tweet)\n",
        "  \n",
        "  # Remove stop words\n",
        "  tweet = [word for word in word_tokenize(tweet) if not word.lower() in all_stop_words]\n",
        "  tweet = ' '.join(tweet)\n",
        "\n",
        "  # # Remove puntuations\n",
        "  tweet = tweet.translate(str.maketrans('', '', string.punctuation))\n",
        "\n",
        "  # # Remove extra space\n",
        "  tweet = re.sub(\"\\s+\", ' ', tweet)\n",
        "\n",
        "  return tweet"
      ],
      "execution_count": 15,
      "outputs": []
    },
    {
      "cell_type": "code",
      "metadata": {
        "colab": {
          "base_uri": "https://localhost:8080/"
        },
        "id": "vqJfEW2di6be",
        "outputId": "95843a09-e5d2-4141-d7d9-c2aef2b3c104"
      },
      "source": [
        "test_tweet = train.sample(1).values[0,2]\n",
        "print(\n",
        "    'Cleaning example\\nOriginal Tweet:', test_tweet, \n",
        "    'Cleaned Tweet', clean(test_tweet),\n",
        "    sep='\\n'\n",
        "    )"
      ],
      "execution_count": 16,
      "outputs": [
        {
          "output_type": "stream",
          "text": [
            "Cleaning example\n",
            "Original Tweet:\n",
            "[Reuters] Debris confirmed from MH370; relatives hope for discovery of crash site http://t.co/DFYaSVj7NF\n",
            "Cleaned Tweet\n",
            " Reuters Debris confirmed MH370 relatives hope discovery crash site\n"
          ],
          "name": "stdout"
        }
      ]
    },
    {
      "cell_type": "code",
      "metadata": {
        "colab": {
          "base_uri": "https://localhost:8080/",
          "height": 204
        },
        "id": "eoEupP8msU8g",
        "outputId": "9932cd9d-9c20-4699-9e1a-edbe6fb400ed"
      },
      "source": [
        "train['clean_text'] = train.text.apply(lambda x:clean(x))\n",
        "test['clean_text'] = test.text.apply(lambda x:clean(x))\n",
        "train.sample(5)"
      ],
      "execution_count": 17,
      "outputs": [
        {
          "output_type": "execute_result",
          "data": {
            "text/html": [
              "<div>\n",
              "<style scoped>\n",
              "    .dataframe tbody tr th:only-of-type {\n",
              "        vertical-align: middle;\n",
              "    }\n",
              "\n",
              "    .dataframe tbody tr th {\n",
              "        vertical-align: top;\n",
              "    }\n",
              "\n",
              "    .dataframe thead th {\n",
              "        text-align: right;\n",
              "    }\n",
              "</style>\n",
              "<table border=\"1\" class=\"dataframe\">\n",
              "  <thead>\n",
              "    <tr style=\"text-align: right;\">\n",
              "      <th></th>\n",
              "      <th>keyword</th>\n",
              "      <th>location</th>\n",
              "      <th>text</th>\n",
              "      <th>target</th>\n",
              "      <th>clean_text</th>\n",
              "    </tr>\n",
              "  </thead>\n",
              "  <tbody>\n",
              "    <tr>\n",
              "      <th>1452</th>\n",
              "      <td>casualty</td>\n",
              "      <td>Hospital, bc of SKH vid.</td>\n",
              "      <td>Social Casualty #MTVHottest 5SOS</td>\n",
              "      <td>0</td>\n",
              "      <td>Social Casualty MTVHottest 5SOS</td>\n",
              "    </tr>\n",
              "    <tr>\n",
              "      <th>7458</th>\n",
              "      <td>wounds</td>\n",
              "      <td>Alex/Mika/Leo|18|he/she/they</td>\n",
              "      <td>@ego_resolution im glad. My gay can heal 1000 ...</td>\n",
              "      <td>0</td>\n",
              "      <td>egoresolution im glad gay heal 1000 wounds</td>\n",
              "    </tr>\n",
              "    <tr>\n",
              "      <th>6734</th>\n",
              "      <td>thunderstorm</td>\n",
              "      <td>no_location</td>\n",
              "      <td>A STRONG THUNDERSTORM WILL AFFECT CENTRAL HALI...</td>\n",
              "      <td>1</td>\n",
              "      <td>STRONG THUNDERSTORM AFFECT CENTRAL HALIFAX COU...</td>\n",
              "    </tr>\n",
              "    <tr>\n",
              "      <th>4342</th>\n",
              "      <td>hijack</td>\n",
              "      <td>no_location</td>\n",
              "      <td>@welshninja87 click on the tag there's lots of...</td>\n",
              "      <td>0</td>\n",
              "      <td>welshninja87 click tag lots RT hijack hashtag</td>\n",
              "    </tr>\n",
              "    <tr>\n",
              "      <th>533</th>\n",
              "      <td>avalanche</td>\n",
              "      <td>no_location</td>\n",
              "      <td>driving the avalanche after having my car for ...</td>\n",
              "      <td>1</td>\n",
              "      <td>driving avalanche car week like driving tank</td>\n",
              "    </tr>\n",
              "  </tbody>\n",
              "</table>\n",
              "</div>"
            ],
            "text/plain": [
              "           keyword  ...                                         clean_text\n",
              "1452      casualty  ...                    Social Casualty MTVHottest 5SOS\n",
              "7458        wounds  ...         egoresolution im glad gay heal 1000 wounds\n",
              "6734  thunderstorm  ...  STRONG THUNDERSTORM AFFECT CENTRAL HALIFAX COU...\n",
              "4342        hijack  ...      welshninja87 click tag lots RT hijack hashtag\n",
              "533      avalanche  ...       driving avalanche car week like driving tank\n",
              "\n",
              "[5 rows x 5 columns]"
            ]
          },
          "metadata": {
            "tags": []
          },
          "execution_count": 17
        }
      ]
    },
    {
      "cell_type": "markdown",
      "metadata": {
        "id": "AannHetVFDr2"
      },
      "source": [
        "Second stage is creating the embeddings that will be fed into our model for classifications"
      ]
    },
    {
      "cell_type": "code",
      "metadata": {
        "id": "kd70AayoFN4m"
      },
      "source": [
        "FullTokenizer = tokenization.FullTokenizer"
      ],
      "execution_count": 18,
      "outputs": []
    },
    {
      "cell_type": "code",
      "metadata": {
        "id": "uAzKa4YiKIlL"
      },
      "source": [
        "BERT_BASE_MODEL_HUB = 'https://tfhub.dev/tensorflow/bert_en_uncased_L-12_H-768_A-12/2'\n",
        "BERT_BASE_DISC = 'Base_uncased'\n",
        "\n",
        "# Two different pretrained layers. A base case layer for working out parameters\n",
        "# and a larger layer for final classification\n",
        "bert_base_layer = hub.KerasLayer(BERT_BASE_MODEL_HUB, trainable=False)\n",
        "\n",
        "# Selected BERT model only takes lowercase strings\n",
        "to_lower_case = bert_base_layer.resolved_object.do_lower_case.numpy()\n",
        "base_vocabulary_file = bert_base_layer.resolved_object.vocab_file.asset_path.numpy()\n",
        "base_tokenizer = FullTokenizer(base_vocabulary_file, to_lower_case)"
      ],
      "execution_count": 19,
      "outputs": []
    },
    {
      "cell_type": "code",
      "metadata": {
        "id": "T_wKQb5dQkkZ"
      },
      "source": [
        "def encode_tweet(text, tokenizer=base_tokenizer):\n",
        "  # CLS and SEP are attached to end of tokenized word for storing classification weights\n",
        "  # and separating words respectively\n",
        "  tokenized_tweet = tokenizer.convert_tokens_to_ids(['[CLS]'] + tokenizer.tokenize(text) + ['[SEP]'])\n",
        "  return tokenized_tweet"
      ],
      "execution_count": 20,
      "outputs": []
    },
    {
      "cell_type": "code",
      "metadata": {
        "id": "Yy9f2Sc2S1BD"
      },
      "source": [
        "max_token_length = 0\n",
        "def encode_list(tweet_list=train.clean_text, tokenizer=base_tokenizer, force_max_len=None):\n",
        "  tokenized_tweets = [encode_tweet(tweet) for tweet in tweet_list]\n",
        "  if force_max_len:\n",
        "    max_len = force_max_len\n",
        "  else:\n",
        "    max_len = len(max(tokenized_tweets, key = len))\n",
        "  \n",
        "  tokens = []\n",
        "  masks = []\n",
        "  segments = []\n",
        "\n",
        "  for token_tweet in tokenized_tweets:\n",
        "    length = len(token_tweet)\n",
        "    padded_token_tweet = token_tweet + ([0] * (max_len - length))\n",
        "    padded_token_mask = (length * [1]) + ([0] * (max_len - length))\n",
        "    segment = [0] * max_len\n",
        "\n",
        "    tokens.append(padded_token_tweet)\n",
        "    masks.append(padded_token_mask)\n",
        "    segments.append(segment)\n",
        "  \n",
        "  print('Maximum token length: ', max_len)\n",
        "  max_token_length = max_len\n",
        "  return np.array(tokens), np.array(masks), np.array(segments)\n",
        "\n",
        "def encode_dataset(dataset=train, tokenizer=base_tokenizer, force_max_len=None):\n",
        "  return encode_list(dataset.clean_text, tokenizer=tokenizer, force_max_len=force_max_len)"
      ],
      "execution_count": 21,
      "outputs": []
    },
    {
      "cell_type": "markdown",
      "metadata": {
        "id": "pPW0K3vubpho"
      },
      "source": [
        "# Classifier"
      ]
    },
    {
      "cell_type": "markdown",
      "metadata": {
        "id": "zTrN3FkIn0wt"
      },
      "source": [
        "Create classification model that defaults to the following parameters: BERT base layer, 0.0001 learning rate, sigmoid activation in the last layer, with Adam optimizer and BCE loss function measuring accuracy"
      ]
    },
    {
      "cell_type": "code",
      "metadata": {
        "id": "9keiZgtZb0cY"
      },
      "source": [
        "def create_model(bert_layer=bert_base_layer,\n",
        "                 name='default_function_model',\n",
        "                 bert_trainable=False,\n",
        "                 add_hidden_layer=True,\n",
        "                 input_length=128,\n",
        "                 lr = 0.0001, \n",
        "                 momentum = 0.8,\n",
        "                 activation='sigmoid', \n",
        "                 optimizer='Adam',\n",
        "                 metrics=['accuracy'], \n",
        "                 loss = 'binary_crossentropy'):\n",
        "  if bert_trainable:\n",
        "    print('Will also train bert layers')\n",
        "  bert_layer.trainable = bert_trainable\n",
        "\n",
        "  # Define the shape for the input layer\n",
        "  input_tokens = Input(shape=(input_length,), dtype='int32', name='input_tokens')\n",
        "  input_masks = Input(shape=(input_length,), dtype='int32', name='input_masks')\n",
        "  input_segments = Input(shape=(input_length,), dtype='int32', name='input_segments')\n",
        "  pooled_output, sequence_output = bert_layer([input_tokens, input_masks, input_segments])\n",
        "  \n",
        "  cls_layer = sequence_output[:, 0, :]\n",
        "  # Define hidden and output layer\n",
        "  if add_hidden_layer:\n",
        "    print('Adding hidden layer with 256 units on top of bert layer')\n",
        "    hidden = Dense(256, activation=activation)(cls_layer)\n",
        "    hiddenDropout = Dropout(0.5)(hidden)\n",
        "    output = Dense(1, activation=activation)(hiddenDropout)\n",
        "  else:\n",
        "    output = Dense(1, activation=activation)(cls_layer)\n",
        "\n",
        "  # Assemble model\n",
        "  model = Model(\n",
        "      inputs=[input_tokens, input_masks, input_segments], \n",
        "      outputs=output,\n",
        "      name=name\n",
        "      )\n",
        "  \n",
        "  print('Using {} optimizer'.format(optimizer))\n",
        "  if optimizer == 'Adam':\n",
        "    optimizer = Adam(learning_rate=lr)\n",
        "  elif optimizer == 'RMSProp':\n",
        "    optimizer = RMSprop(learning_rate=lr)\n",
        "  elif optimizer == 'SGD':\n",
        "    optimizer = SGD(learning_rate=lr, momentum=momentum)\n",
        "  \n",
        "  model.compile(loss=loss, optimizer=optimizer, metrics=metrics)\n",
        "  return model\n",
        "\n",
        "def get_model(\n",
        "    name='default_model', \n",
        "    word_length=128,\n",
        "    optimizer='Adam',\n",
        "    add_hidden_layer=True,\n",
        "    train_bert=False\n",
        "    ):\n",
        "  checkpoint = ModelCheckpoint(name + '.h5', monitor='val_loss', save_best_only=True)\n",
        "  return create_model(\n",
        "      name=name, \n",
        "      input_length=word_length,\n",
        "      bert_trainable=train_bert,\n",
        "      add_hidden_layer=add_hidden_layer,\n",
        "      optimizer=optimizer\n",
        "      )"
      ],
      "execution_count": 24,
      "outputs": []
    },
    {
      "cell_type": "markdown",
      "metadata": {
        "id": "TrL26c1foVAh"
      },
      "source": [
        "For the finetuning, a default model is trained for 1 epoch to monitor validation accuracy and hyper-parameters"
      ]
    },
    {
      "cell_type": "code",
      "metadata": {
        "colab": {
          "base_uri": "https://localhost:8080/"
        },
        "id": "rgs0irz3l3zk",
        "outputId": "1818d669-a46c-4d91-8eff-d3b82205b44d"
      },
      "source": [
        "X = encode_dataset(dataset=train, tokenizer=base_tokenizer)\n",
        "y = train.target\n",
        "max_word_length = X[0].shape[1]\n",
        "_ = get_model('prep_model', word_length=max_word_length).fit(X, y, shuffle=True, validation_split=0.35, batch_size=32, epochs=1)"
      ],
      "execution_count": 25,
      "outputs": [
        {
          "output_type": "stream",
          "text": [
            "Maximum token length:  53\n",
            "Adding hidden layer with 256 units on top of bert layer\n",
            "Using Adam optimizer\n",
            "155/155 [==============================] - 31s 199ms/step - loss: 0.6908 - accuracy: 0.5903 - val_loss: 0.5737 - val_accuracy: 0.7437\n"
          ],
          "name": "stdout"
        }
      ]
    },
    {
      "cell_type": "markdown",
      "metadata": {
        "id": "9qO_XRitdnwE"
      },
      "source": [
        "Second possible model takes uses a different optimizer (RMSProp)"
      ]
    },
    {
      "cell_type": "code",
      "metadata": {
        "colab": {
          "base_uri": "https://localhost:8080/"
        },
        "id": "pcO8etEFdmx3",
        "outputId": "67a45e45-0ed9-4f44-879b-b152b6016521"
      },
      "source": [
        "X = encode_dataset(dataset=train, tokenizer=base_tokenizer)\n",
        "get_model('prep_model_rmsprop', word_length=max_word_length, optimizer='RMSProp').fit(X, y, shuffle=True, validation_split=0.35, batch_size=32, epochs=1)"
      ],
      "execution_count": 26,
      "outputs": [
        {
          "output_type": "stream",
          "text": [
            "Maximum token length:  53\n",
            "Adding hidden layer with 256 units on top of bert layer\n",
            "Using RMSProp optimizer\n",
            "155/155 [==============================] - 31s 200ms/step - loss: 0.6566 - accuracy: 0.6279 - val_loss: 0.5529 - val_accuracy: 0.7553\n"
          ],
          "name": "stdout"
        },
        {
          "output_type": "execute_result",
          "data": {
            "text/plain": [
              "<tensorflow.python.keras.callbacks.History at 0x7f958c649908>"
            ]
          },
          "metadata": {
            "tags": []
          },
          "execution_count": 26
        }
      ]
    },
    {
      "cell_type": "markdown",
      "metadata": {
        "id": "z91u9ubWQmAp"
      },
      "source": [
        "Third possible model takes uses a different optimizer (SGD)"
      ]
    },
    {
      "cell_type": "code",
      "metadata": {
        "colab": {
          "base_uri": "https://localhost:8080/"
        },
        "id": "DY9kkydpeWvg",
        "outputId": "4e622509-3be3-4ebd-81b0-ad412f9e1219"
      },
      "source": [
        "X = encode_dataset(dataset=train, tokenizer=base_tokenizer)\n",
        "get_model('prep_model_rmsprop', word_length=max_word_length, optimizer='SGD').fit(X, y, shuffle=True, validation_split=0.35, batch_size=32, epochs=1)"
      ],
      "execution_count": 28,
      "outputs": [
        {
          "output_type": "stream",
          "text": [
            "Maximum token length:  53\n",
            "Adding hidden layer with 256 units on top of bert layer\n",
            "Using SGD optimizer\n",
            "155/155 [==============================] - 30s 196ms/step - loss: 0.7890 - accuracy: 0.4907 - val_loss: 0.6804 - val_accuracy: 0.5921\n"
          ],
          "name": "stdout"
        },
        {
          "output_type": "execute_result",
          "data": {
            "text/plain": [
              "<tensorflow.python.keras.callbacks.History at 0x7f9547ea2c50>"
            ]
          },
          "metadata": {
            "tags": []
          },
          "execution_count": 28
        }
      ]
    },
    {
      "cell_type": "markdown",
      "metadata": {
        "id": "mF2DQTjobILg"
      },
      "source": [
        "For the full model, we will use cross-validation fold to improve performance for our dataset. We will also use Stochastic Gradient Descent for our optimizer since it had the best performance from our preliminary tests."
      ]
    },
    {
      "cell_type": "code",
      "metadata": {
        "colab": {
          "base_uri": "https://localhost:8080/"
        },
        "id": "-RIPFz-qawM6",
        "outputId": "e7652c1c-4266-4b52-b367-030003c1202b"
      },
      "source": [
        "seed_for_split = 1996\n",
        "number_of_folds = 2\n",
        "stratified_kf = StratifiedKFold(n_splits=number_of_folds, random_state=seed_for_split, shuffle=True)\n",
        "\n",
        "print('We use the keyword as a key for spliting our train data to get an even spread of keywords across both the training dataset and the validation dataset')\n",
        "for fold, (trn_idx, val_idx) in enumerate(stratified_kf.split(train.clean_text, train.target), 1):\n",
        "  train_set = train.loc[trn_idx]\n",
        "  train_val = train.loc[trn_idx]\n",
        "  print('\\nFold {} Training dataset = {} - Validation dataset = {}'.format(fold, train_set.clean_text.shape, train_val.clean_text.shape))\n",
        "  print('Unique keyword Count = Train Set {} - Validation Set {}'.format(train_set.keyword.nunique(), train_val.keyword.nunique()))    "
      ],
      "execution_count": 29,
      "outputs": [
        {
          "output_type": "stream",
          "text": [
            "We use the keyword as a key for spliting our train data to get an even spread of keywords across both the training dataset and the validation dataset\n",
            "\n",
            "Fold 1 Training dataset = (3806,) - Validation dataset = (3806,)\n",
            "Unique keyword Count = Train Set 222 - Validation Set 222\n",
            "\n",
            "Fold 2 Training dataset = (3807,) - Validation dataset = (3807,)\n",
            "Unique keyword Count = Train Set 222 - Validation Set 222\n"
          ],
          "name": "stdout"
        }
      ]
    },
    {
      "cell_type": "markdown",
      "metadata": {
        "id": "DSe8dWQgYl3Z"
      },
      "source": [
        "Classification Report class is created to moniter accuracy and progress during epochs. This covers more measures in details as compared the usual accuracy for default fit function.\n",
        "[ClassificationReport code credit](https://colab.research.google.com/github/goswami-rahul/machine-learning/blob/master/UnderstandingMetrics.ipynb)"
      ]
    },
    {
      "cell_type": "code",
      "metadata": {
        "id": "UR1IaGhZYinf"
      },
      "source": [
        "class ClassificationReport(Callback):\n",
        "  def __init__(self, train_data=(), validation_data=()):\n",
        "    super(Callback, self).__init__()\n",
        "    \n",
        "    self.X_train, self.y_train = train_data\n",
        "    self.train_precision_scores = []\n",
        "    self.train_recall_scores = []\n",
        "    self.train_f1_scores = []\n",
        "    \n",
        "    self.X_val, self.y_val = validation_data\n",
        "    self.val_precision_scores = []\n",
        "    self.val_recall_scores = []\n",
        "    self.val_f1_scores = [] \n",
        "              \n",
        "  def on_epoch_end(self, epoch, logs={}):\n",
        "    train_predictions = np.round(self.model.predict(self.X_train, verbose=0))        \n",
        "    train_precision = precision_score(self.y_train, train_predictions, average='macro')\n",
        "    train_recall = recall_score(self.y_train, train_predictions, average='macro')\n",
        "    train_f1 = f1_score(self.y_train, train_predictions, average='macro')\n",
        "    self.train_precision_scores.append(train_precision)        \n",
        "    self.train_recall_scores.append(train_recall)\n",
        "    self.train_f1_scores.append(train_f1)\n",
        "    \n",
        "    val_predictions = np.round(self.model.predict(self.X_val, verbose=0))\n",
        "    val_precision = precision_score(self.y_val, val_predictions, average='macro')\n",
        "    val_recall = recall_score(self.y_val, val_predictions, average='macro')\n",
        "    val_f1 = f1_score(self.y_val, val_predictions, average='macro')\n",
        "    self.val_precision_scores.append(val_precision)        \n",
        "    self.val_recall_scores.append(val_recall)        \n",
        "    self.val_f1_scores.append(val_f1)\n",
        "    \n",
        "    print('\\nEpoch: {} - Training Precision: {:.6} - Training Recall: {:.6} - Training F1: {:.6}'.format(epoch + 1, train_precision, train_recall, train_f1))\n",
        "    print('Epoch: {} - Validation Precision: {:.6} - Validation Recall: {:.6} - Validation F1: {:.6}'.format(epoch + 1, val_precision, val_recall, val_f1)) "
      ],
      "execution_count": 30,
      "outputs": []
    },
    {
      "cell_type": "code",
      "metadata": {
        "colab": {
          "base_uri": "https://localhost:8080/"
        },
        "id": "RmwkQ6LRZhgt",
        "outputId": "38644dba-b4aa-40d6-dc70-1fee49932ae8"
      },
      "source": [
        "full_model_name = 'full_model'\n",
        "number_of_epochs = 10\n",
        "trained_models = []\n",
        "scores = {}\n",
        "\n",
        "def train_main_models():\n",
        "  for fold, (trn_idx, val_idx) in enumerate(stratified_kf.split(train.clean_text, train.target), 1):\n",
        "    print('Training Fold ', fold)\n",
        "    train_set = train.loc[trn_idx]\n",
        "    train_val = train.loc[trn_idx]\n",
        "\n",
        "    # Split into train and validation sets\n",
        "    X_train, y_train = encode_list(train_set.clean_text), train_set.target\n",
        "    X_val, y_val = encode_list(train_val.clean_text), train_val.target \n",
        "\n",
        "    # Train and monitor accuracy, recall, and f1-score\n",
        "    metrics = ClassificationReport(train_data=(X_train, y_train), validation_data=(X_val, y_val))\n",
        "    curr_model_name = full_model_name + '_{}'.format(fold)\n",
        "    model = get_model(name=curr_model_name, word_length=max_word_length, optimizer='SGD', add_hidden_layer=False, train_bert=True)\n",
        "    model.fit(x=X_train, y=y_train, validation_data=(X_val, y_val), callbacks=[metrics], epochs=number_of_epochs, batch_size=32)\n",
        "\n",
        "    # Add model to ensemble\n",
        "    trained_models.append(model)\n",
        "    print('Current models trained', len(trained_models))\n",
        "\n",
        "    # Save scores from metrics\n",
        "    scores[fold] = {\n",
        "      'train': {\n",
        "        'precision': metrics.train_precision_scores,\n",
        "        'recall': metrics.train_recall_scores,\n",
        "        'f1': metrics.train_f1_scores                    \n",
        "      },\n",
        "      'validation': {\n",
        "        'precision': metrics.val_precision_scores,\n",
        "        'recall': metrics.val_recall_scores,\n",
        "        'f1': metrics.val_f1_scores                    \n",
        "      }\n",
        "    }\n",
        "  \n",
        "  print('Total number of models trained: ', len(trained_models))\n",
        "\n",
        "# Start training\n",
        "train_main_models()"
      ],
      "execution_count": 31,
      "outputs": [
        {
          "output_type": "stream",
          "text": [
            "Training Fold  1\n",
            "Maximum token length:  53\n",
            "Maximum token length:  53\n",
            "Will also train bert layers\n",
            "Using SGD optimizer\n",
            "Epoch 1/10\n",
            "119/119 [==============================] - ETA: 0s - loss: 0.6518 - accuracy: 0.6287\n",
            "Epoch: 1 - Training Precision: 0.744482 - Training Recall: 0.731232 - Training F1: 0.734455\n",
            "Epoch: 1 - Validation Precision: 0.744482 - Validation Recall: 0.731232 - Validation F1: 0.734455\n",
            "119/119 [==============================] - 88s 739ms/step - loss: 0.6518 - accuracy: 0.6287 - val_loss: 0.5674 - val_accuracy: 0.7457\n",
            "Epoch 2/10\n",
            "119/119 [==============================] - ETA: 0s - loss: 0.5395 - accuracy: 0.7530\n",
            "Epoch: 2 - Training Precision: 0.77264 - Training Recall: 0.776898 - Training F1: 0.773693\n",
            "Epoch: 2 - Validation Precision: 0.77264 - Validation Recall: 0.776898 - Validation F1: 0.773693\n",
            "119/119 [==============================] - 87s 727ms/step - loss: 0.5395 - accuracy: 0.7530 - val_loss: 0.4899 - val_accuracy: 0.7761\n",
            "Epoch 3/10\n",
            "119/119 [==============================] - ETA: 0s - loss: 0.4831 - accuracy: 0.7856\n",
            "Epoch: 3 - Training Precision: 0.790374 - Training Recall: 0.793171 - Training F1: 0.791462\n",
            "Epoch: 3 - Validation Precision: 0.790374 - Validation Recall: 0.793171 - Validation F1: 0.791462\n",
            "119/119 [==============================] - 86s 724ms/step - loss: 0.4831 - accuracy: 0.7856 - val_loss: 0.4586 - val_accuracy: 0.7945\n",
            "Epoch 4/10\n",
            "119/119 [==============================] - ETA: 0s - loss: 0.4593 - accuracy: 0.7993\n",
            "Epoch: 4 - Training Precision: 0.811624 - Training Recall: 0.799594 - Training F1: 0.80343\n",
            "Epoch: 4 - Validation Precision: 0.811624 - Validation Recall: 0.799594 - Validation F1: 0.80343\n",
            "119/119 [==============================] - 86s 726ms/step - loss: 0.4593 - accuracy: 0.7993 - val_loss: 0.4311 - val_accuracy: 0.8106\n",
            "Epoch 5/10\n",
            "119/119 [==============================] - ETA: 0s - loss: 0.4526 - accuracy: 0.8032\n",
            "Epoch: 5 - Training Precision: 0.81412 - Training Recall: 0.813438 - Training F1: 0.813767\n",
            "Epoch: 5 - Validation Precision: 0.81412 - Validation Recall: 0.813438 - Validation F1: 0.813767\n",
            "119/119 [==============================] - 86s 725ms/step - loss: 0.4526 - accuracy: 0.8032 - val_loss: 0.4207 - val_accuracy: 0.8177\n",
            "Epoch 6/10\n",
            "119/119 [==============================] - ETA: 0s - loss: 0.4349 - accuracy: 0.8079\n",
            "Epoch: 6 - Training Precision: 0.819979 - Training Recall: 0.819487 - Training F1: 0.819727\n",
            "Epoch: 6 - Validation Precision: 0.819979 - Validation Recall: 0.819487 - Validation F1: 0.819727\n",
            "119/119 [==============================] - 86s 724ms/step - loss: 0.4349 - accuracy: 0.8079 - val_loss: 0.4101 - val_accuracy: 0.8234\n",
            "Epoch 7/10\n",
            "119/119 [==============================] - ETA: 0s - loss: 0.4272 - accuracy: 0.8132\n",
            "Epoch: 7 - Training Precision: 0.82698 - Training Recall: 0.825471 - Training F1: 0.826175\n",
            "Epoch: 7 - Validation Precision: 0.82698 - Validation Recall: 0.825471 - Validation F1: 0.826175\n",
            "119/119 [==============================] - 86s 726ms/step - loss: 0.4272 - accuracy: 0.8132 - val_loss: 0.4004 - val_accuracy: 0.8300\n",
            "Epoch 8/10\n",
            "119/119 [==============================] - ETA: 0s - loss: 0.4213 - accuracy: 0.8213\n",
            "Epoch: 8 - Training Precision: 0.831727 - Training Recall: 0.828929 - Training F1: 0.830169\n",
            "Epoch: 8 - Validation Precision: 0.831727 - Validation Recall: 0.828929 - Validation F1: 0.830169\n",
            "119/119 [==============================] - 87s 727ms/step - loss: 0.4213 - accuracy: 0.8213 - val_loss: 0.3919 - val_accuracy: 0.8342\n",
            "Epoch 9/10\n",
            "119/119 [==============================] - ETA: 0s - loss: 0.4101 - accuracy: 0.8248\n",
            "Epoch: 9 - Training Precision: 0.836133 - Training Recall: 0.826151 - Training F1: 0.829678\n",
            "Epoch: 9 - Validation Precision: 0.836133 - Validation Recall: 0.826151 - Validation F1: 0.829678\n",
            "119/119 [==============================] - 86s 726ms/step - loss: 0.4101 - accuracy: 0.8248 - val_loss: 0.3816 - val_accuracy: 0.8353\n",
            "Epoch 10/10\n",
            "119/119 [==============================] - ETA: 0s - loss: 0.4041 - accuracy: 0.8258\n",
            "Epoch: 10 - Training Precision: 0.837161 - Training Recall: 0.836642 - Training F1: 0.836896\n",
            "Epoch: 10 - Validation Precision: 0.837161 - Validation Recall: 0.836642 - Validation F1: 0.836896\n",
            "119/119 [==============================] - 86s 725ms/step - loss: 0.4041 - accuracy: 0.8258 - val_loss: 0.3787 - val_accuracy: 0.8403\n",
            "Current models trained 1\n",
            "Training Fold  2\n",
            "Maximum token length:  53\n",
            "Maximum token length:  53\n",
            "Will also train bert layers\n",
            "Using SGD optimizer\n",
            "Epoch 1/10\n",
            "119/119 [==============================] - ETA: 0s - loss: 0.5580 - accuracy: 0.7192\n",
            "Epoch: 1 - Training Precision: 0.803979 - Training Recall: 0.803322 - Training F1: 0.803639\n",
            "Epoch: 1 - Validation Precision: 0.803979 - Validation Recall: 0.803322 - Validation F1: 0.803639\n",
            "119/119 [==============================] - 88s 736ms/step - loss: 0.5580 - accuracy: 0.7192 - val_loss: 0.4447 - val_accuracy: 0.8077\n",
            "Epoch 2/10\n",
            "119/119 [==============================] - ETA: 0s - loss: 0.4462 - accuracy: 0.8069\n",
            "Epoch: 2 - Training Precision: 0.817315 - Training Recall: 0.812857 - Training F1: 0.814691\n",
            "Epoch: 2 - Validation Precision: 0.817315 - Validation Recall: 0.812857 - Validation F1: 0.814691\n",
            "119/119 [==============================] - 87s 729ms/step - loss: 0.4462 - accuracy: 0.8069 - val_loss: 0.4208 - val_accuracy: 0.8195\n",
            "Epoch 3/10\n",
            "119/119 [==============================] - ETA: 0s - loss: 0.4371 - accuracy: 0.8119\n",
            "Epoch: 3 - Training Precision: 0.825453 - Training Recall: 0.816267 - Training F1: 0.81953\n",
            "Epoch: 3 - Validation Precision: 0.825453 - Validation Recall: 0.816267 - Validation F1: 0.81953\n",
            "119/119 [==============================] - 86s 726ms/step - loss: 0.4371 - accuracy: 0.8119 - val_loss: 0.4057 - val_accuracy: 0.8253\n",
            "Epoch 4/10\n",
            "119/119 [==============================] - ETA: 0s - loss: 0.4239 - accuracy: 0.8161\n",
            "Epoch: 4 - Training Precision: 0.819395 - Training Recall: 0.821052 - Training F1: 0.820143\n",
            "Epoch: 4 - Validation Precision: 0.819395 - Validation Recall: 0.821052 - Validation F1: 0.820143\n",
            "119/119 [==============================] - 86s 724ms/step - loss: 0.4239 - accuracy: 0.8161 - val_loss: 0.4054 - val_accuracy: 0.8232\n",
            "Epoch 5/10\n",
            "119/119 [==============================] - ETA: 0s - loss: 0.4157 - accuracy: 0.8174\n",
            "Epoch: 5 - Training Precision: 0.83231 - Training Recall: 0.828847 - Training F1: 0.830343\n",
            "Epoch: 5 - Validation Precision: 0.83231 - Validation Recall: 0.828847 - Validation F1: 0.830343\n",
            "119/119 [==============================] - 86s 726ms/step - loss: 0.4157 - accuracy: 0.8174 - val_loss: 0.3885 - val_accuracy: 0.8345\n",
            "Epoch 6/10\n",
            "119/119 [==============================] - ETA: 0s - loss: 0.4089 - accuracy: 0.8258\n",
            "Epoch: 6 - Training Precision: 0.834402 - Training Recall: 0.832581 - Training F1: 0.833421\n",
            "Epoch: 6 - Validation Precision: 0.834402 - Validation Recall: 0.832581 - Validation F1: 0.833421\n",
            "119/119 [==============================] - 86s 726ms/step - loss: 0.4089 - accuracy: 0.8258 - val_loss: 0.3831 - val_accuracy: 0.8371\n",
            "Epoch 7/10\n",
            "119/119 [==============================] - ETA: 0s - loss: 0.3966 - accuracy: 0.8335\n",
            "Epoch: 7 - Training Precision: 0.835641 - Training Recall: 0.833351 - Training F1: 0.834388\n",
            "Epoch: 7 - Validation Precision: 0.835641 - Validation Recall: 0.833351 - Validation F1: 0.834388\n",
            "119/119 [==============================] - 86s 725ms/step - loss: 0.3966 - accuracy: 0.8335 - val_loss: 0.3757 - val_accuracy: 0.8382\n",
            "Epoch 8/10\n",
            "119/119 [==============================] - ETA: 0s - loss: 0.3911 - accuracy: 0.8335\n",
            "Epoch: 8 - Training Precision: 0.850132 - Training Recall: 0.840003 - Training F1: 0.843637\n",
            "Epoch: 8 - Validation Precision: 0.850132 - Validation Recall: 0.840003 - Validation F1: 0.843637\n",
            "119/119 [==============================] - 86s 725ms/step - loss: 0.3911 - accuracy: 0.8335 - val_loss: 0.3625 - val_accuracy: 0.8487\n",
            "Epoch 9/10\n",
            "119/119 [==============================] - ETA: 0s - loss: 0.3961 - accuracy: 0.8272\n",
            "Epoch: 9 - Training Precision: 0.849439 - Training Recall: 0.843263 - Training F1: 0.845735\n",
            "Epoch: 9 - Validation Precision: 0.849439 - Validation Recall: 0.843263 - Validation F1: 0.845735\n",
            "119/119 [==============================] - 86s 726ms/step - loss: 0.3961 - accuracy: 0.8272 - val_loss: 0.3577 - val_accuracy: 0.8500\n",
            "Epoch 10/10\n",
            "119/119 [==============================] - ETA: 0s - loss: 0.3857 - accuracy: 0.8324\n",
            "Epoch: 10 - Training Precision: 0.856958 - Training Recall: 0.842558 - Training F1: 0.847272\n",
            "Epoch: 10 - Validation Precision: 0.856958 - Validation Recall: 0.842558 - Validation F1: 0.847272\n",
            "119/119 [==============================] - 87s 727ms/step - loss: 0.3857 - accuracy: 0.8324 - val_loss: 0.3497 - val_accuracy: 0.8529\n",
            "Current models trained 2\n",
            "Total number of models trained:  2\n"
          ],
          "name": "stdout"
        }
      ]
    },
    {
      "cell_type": "markdown",
      "metadata": {
        "id": "sTbjnT3U2grX"
      },
      "source": [
        "# Evaluation"
      ]
    },
    {
      "cell_type": "markdown",
      "metadata": {
        "id": "8_FcbV3T3DR8"
      },
      "source": [
        "A separate submissions dataset is downloaded to get the target classes for measuring prediction accuracy. The test dataset is then filtered to only contain the cleaned text and the targets."
      ]
    },
    {
      "cell_type": "code",
      "metadata": {
        "colab": {
          "base_uri": "https://localhost:8080/",
          "height": 221
        },
        "id": "nfSjSj-h16ee",
        "outputId": "75e1d202-53de-4280-900b-2aa8f367b4e0"
      },
      "source": [
        "test_target_url = 'https://raw.githubusercontent.com/lloydoad/disaster-tweet-classifier/master/datasets/test_target.csv'\n",
        "test_target = pd.read_csv(test_target_url, error_bad_lines=False).drop(['id'], axis=1)\n",
        "prepped_test = pd.concat([test])\n",
        "prepped_test['target'] = test_target.astype(int)\n",
        "prepped_test.drop(['keyword', 'location', 'text'], axis=1, inplace=True)\n",
        "print('Number of missing target values: ', prepped_test.target.isna().sum())\n",
        "prepped_test.sample(5)"
      ],
      "execution_count": 32,
      "outputs": [
        {
          "output_type": "stream",
          "text": [
            "Number of missing target values:  0\n"
          ],
          "name": "stdout"
        },
        {
          "output_type": "execute_result",
          "data": {
            "text/html": [
              "<div>\n",
              "<style scoped>\n",
              "    .dataframe tbody tr th:only-of-type {\n",
              "        vertical-align: middle;\n",
              "    }\n",
              "\n",
              "    .dataframe tbody tr th {\n",
              "        vertical-align: top;\n",
              "    }\n",
              "\n",
              "    .dataframe thead th {\n",
              "        text-align: right;\n",
              "    }\n",
              "</style>\n",
              "<table border=\"1\" class=\"dataframe\">\n",
              "  <thead>\n",
              "    <tr style=\"text-align: right;\">\n",
              "      <th></th>\n",
              "      <th>clean_text</th>\n",
              "      <th>target</th>\n",
              "    </tr>\n",
              "  </thead>\n",
              "  <tbody>\n",
              "    <tr>\n",
              "      <th>865</th>\n",
              "      <td>Waige driving like Badass ScorpionPilot Cyclon...</td>\n",
              "      <td>1</td>\n",
              "    </tr>\n",
              "    <tr>\n",
              "      <th>1324</th>\n",
              "      <td>Children traumatised Nepal earthquake educate...</td>\n",
              "      <td>1</td>\n",
              "    </tr>\n",
              "    <tr>\n",
              "      <th>2544</th>\n",
              "      <td>CokeBoys yo best screamed watched snap chat s...</td>\n",
              "      <td>0</td>\n",
              "    </tr>\n",
              "    <tr>\n",
              "      <th>917</th>\n",
              "      <td>Microsoft Xbox 360 console RRoD red ring death...</td>\n",
              "      <td>0</td>\n",
              "    </tr>\n",
              "    <tr>\n",
              "      <th>1050</th>\n",
              "      <td>people ride Metro whywebike bikecommute Dysfun...</td>\n",
              "      <td>0</td>\n",
              "    </tr>\n",
              "  </tbody>\n",
              "</table>\n",
              "</div>"
            ],
            "text/plain": [
              "                                             clean_text  target\n",
              "865   Waige driving like Badass ScorpionPilot Cyclon...       1\n",
              "1324   Children traumatised Nepal earthquake educate...       1\n",
              "2544   CokeBoys yo best screamed watched snap chat s...       0\n",
              "917   Microsoft Xbox 360 console RRoD red ring death...       0\n",
              "1050  people ride Metro whywebike bikecommute Dysfun...       0"
            ]
          },
          "metadata": {
            "tags": []
          },
          "execution_count": 32
        }
      ]
    },
    {
      "cell_type": "markdown",
      "metadata": {
        "id": "omkle79P7lqg"
      },
      "source": [
        "By combining all the models that have been fully trained, we are able to create an ensemble for with a prediction accuracy approximately above **80%**."
      ]
    },
    {
      "cell_type": "code",
      "metadata": {
        "colab": {
          "base_uri": "https://localhost:8080/"
        },
        "id": "lLmfowhk8Elu",
        "outputId": "5719828c-23b1-433a-8d75-b0fe734748a6"
      },
      "source": [
        "def predict(test=prepped_test, tokenizer=base_tokenizer, force_max_len=max_word_length):\n",
        "  X_test = encode_dataset(dataset=test, tokenizer=tokenizer, force_max_len=force_max_len)\n",
        "  pred_y = np.zeros((test.target.shape[0], 1))\n",
        "  numberOfModels = len(trained_models)\n",
        "  for model in trained_models:\n",
        "    pred_y += model.predict(X_test) / numberOfModels\n",
        "  return pred_y\n",
        "predicted_y = predict()"
      ],
      "execution_count": 33,
      "outputs": [
        {
          "output_type": "stream",
          "text": [
            "Maximum token length:  53\n"
          ],
          "name": "stdout"
        }
      ]
    },
    {
      "cell_type": "code",
      "metadata": {
        "colab": {
          "base_uri": "https://localhost:8080/"
        },
        "id": "CH0EtgZXBT79",
        "outputId": "22b4af0a-2315-4892-c721-bc952e8c4e1e"
      },
      "source": [
        "pred_values = np.round(predicted_y).astype('int').reshape(1,-1)[0]\n",
        "true_values = prepped_test.target.values\n",
        "score = sklearn.metrics.f1_score(true_values, pred_values, average='micro')\n",
        "print('The F1 Score of the prediction:', score)"
      ],
      "execution_count": 64,
      "outputs": [
        {
          "output_type": "stream",
          "text": [
            "The F1 Score of the prediction: 0.8194912657064052\n"
          ],
          "name": "stdout"
        }
      ]
    },
    {
      "cell_type": "markdown",
      "metadata": {
        "id": "26SxM7MuNdqS"
      },
      "source": [
        "Plotting the sum of the accuracy scores for all folds shows a gradual increase over time with subsequent folds performing better than previous folds. "
      ]
    },
    {
      "cell_type": "code",
      "metadata": {
        "colab": {
          "base_uri": "https://localhost:8080/",
          "height": 513
        },
        "id": "zt1cPU6nB4Ee",
        "outputId": "54872c66-d173-4927-ac32-7c729d2e3f51"
      },
      "source": [
        "def plot_scores():\n",
        "  rangeOfEpochs = np.arange(1, (number_of_epochs * number_of_folds) + 1)\n",
        "  figure(figsize=(14,8))\n",
        "  fig.suptitle('Epoch vs. Score')\n",
        "\n",
        "  precision_values = []\n",
        "  recall_values = []\n",
        "  f1_values = []\n",
        "\n",
        "  for fold in scores:\n",
        "    foldValues = scores[fold]\n",
        "    validationValues = foldValues['validation']\n",
        "    precision_values += validationValues['precision']\n",
        "    recall_values += validationValues['recall']\n",
        "    f1_values += validationValues['f1']\n",
        "\n",
        "  plt.plot(rangeOfEpochs, precision_values, label='Precision Scores')\n",
        "  plt.plot(rangeOfEpochs, recall_values, label='Recall Scores')\n",
        "  plt.plot(rangeOfEpochs, f1_values, label='F1 Scores')\n",
        "  plt.xlabel('Epochs (Fold 1 + Fold 2)')\n",
        "  plt.ylabel('Scores')\n",
        "  plt.title('Epoch vs. Score')\n",
        "  plt.legend()\n",
        "  plt.show()\n",
        "\n",
        "plot_scores()"
      ],
      "execution_count": 71,
      "outputs": [
        {
          "output_type": "display_data",
          "data": {
            "image/png": "[encoded data removed]",
            "text/plain": [
              "<Figure size 1008x576 with 1 Axes>"
            ]
          },
          "metadata": {
            "tags": [],
            "needs_background": "light"
          }
        }
      ]
    },
    {
      "cell_type": "markdown",
      "metadata": {
        "id": "aJlzYkSUPXAO"
      },
      "source": [
        "# References"
      ]
    },
    {
      "cell_type": "markdown",
      "metadata": {
        "id": "YYYuNwU4Qkb2"
      },
      "source": [
        "* https://scikit-learn.org/stable/modules/generated/sklearn.metrics.f1_score.html\n",
        "* https://www.kaggle.com/c/nlp-getting-started/overview\n",
        "* https://www.kaggle.com/gunesevitan/nlp-with-disaster-tweets-eda-cleaning-and-bert#8.-Test-Set-Labels\n",
        "* https://jalammar.github.io/a-visual-guide-to-using-bert-for-the-first-time/\n",
        "* https://mccormickml.com/2019/07/22/BERT-fine-tuning/\n",
        "* https://www.searchenginejournal.com/bert-explained-what-you-need-to-know-about-googles-new-algorithm/337247/\n",
        "* https://towardsdatascience.com/bert-explained-state-of-the-art-language-model-for-nlp-f8b21a9b6270"
      ]
    }
  ]
}